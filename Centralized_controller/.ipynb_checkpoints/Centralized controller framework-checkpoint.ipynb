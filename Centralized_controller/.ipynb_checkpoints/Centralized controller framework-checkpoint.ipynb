{
 "cells": [
  {
   "cell_type": "markdown",
   "id": "769e6555-18b4-4f0f-92bb-7fe51e6fd529",
   "metadata": {},
   "source": [
    "# Developping a framework for the centralised controller of a Brittle Star robot\n",
    "Integrating the brittle star morphology and environment framework of the bio-inspired robotics benchmark with the Evosac implementations of neural networks."
   ]
  },
  {
   "cell_type": "code",
   "execution_count": 2,
   "id": "62122052-bad7-4baa-a5f7-29f2a76c1dbf",
   "metadata": {},
   "outputs": [
    {
     "name": "stdout",
     "output_type": "stream",
     "text": [
      "/user/gent/457/vsc45787/.conda/envs/hope/bin/python\n"
     ]
    }
   ],
   "source": [
    "import sys\n",
    "\n",
    "print(sys.executable)"
   ]
  },
  {
   "cell_type": "code",
   "execution_count": 3,
   "id": "9ac753a4-ad98-474a-86d2-3f2a28094827",
   "metadata": {},
   "outputs": [
    {
     "name": "stdout",
     "output_type": "stream",
     "text": [
      "['/user/gent/457/vsc45787/.conda/envs/hope/lib/python3.11/site-packages/wandb']\n",
      "env: \"WANDB_NOTEBOOK_NAME\"=\"Centralized controller framework\"\n"
     ]
    }
   ],
   "source": [
    "import numpy as np\n",
    "import jax\n",
    "from jax import numpy as jnp\n",
    "import evosax\n",
    "from evosax import OpenES, ParameterReshaper, NetworkMapper, ParameterReshaper\n",
    "import flax\n",
    "from flax import linen as nn\n",
    "from typing import Any, Callable, Sequence, Union, List\n",
    "import brb\n",
    "\n",
    "import wandb\n",
    "print(wandb.__path__)\n",
    "%env \"WANDB_NOTEBOOK_NAME\" \"Centralized controller framework\"\n",
    "\n",
    "rng = jax.random.PRNGKey(0) # make an rng right away and every split throughout the document should make a new rng\n",
    "# this new rng should only be used for the sole purpose of splitting in the future\n"
   ]
  },
  {
   "cell_type": "markdown",
   "id": "82bd0750-4000-4d13-93ec-4c62ec025754",
   "metadata": {},
   "source": [
    "## Checking accesibility GPU"
   ]
  },
  {
   "cell_type": "code",
   "execution_count": 4,
   "id": "804bc266-40fe-4846-9569-d58bc5d7ea12",
   "metadata": {},
   "outputs": [
    {
     "name": "stdout",
     "output_type": "stream",
     "text": [
      "Wed Jan 31 18:01:27 2024       \n",
      "+---------------------------------------------------------------------------------------+\n",
      "| NVIDIA-SMI 535.129.03             Driver Version: 535.129.03   CUDA Version: 12.2     |\n",
      "|-----------------------------------------+----------------------+----------------------+\n",
      "| GPU  Name                 Persistence-M | Bus-Id        Disp.A | Volatile Uncorr. ECC |\n",
      "| Fan  Temp   Perf          Pwr:Usage/Cap |         Memory-Usage | GPU-Util  Compute M. |\n",
      "|                                         |                      |               MIG M. |\n",
      "|=========================================+======================+======================|\n",
      "|   0  NVIDIA A2                      On  | 00000000:3B:00.0 Off |                    0 |\n",
      "|  0%   44C    P0              19W /  60W |  11250MiB / 15356MiB |      0%      Default |\n",
      "|                                         |                      |                  N/A |\n",
      "+-----------------------------------------+----------------------+----------------------+\n",
      "                                                                                         \n",
      "+---------------------------------------------------------------------------------------+\n",
      "| Processes:                                                                            |\n",
      "|  GPU   GI   CI        PID   Type   Process name                            GPU Memory |\n",
      "|        ID   ID                                                             Usage      |\n",
      "|=======================================================================================|\n",
      "|    0   N/A  N/A   3950344      C   ...sc45787/.conda/envs/hope/bin/python    11238MiB |\n",
      "+---------------------------------------------------------------------------------------+\n",
      "Setting environment variable to use GPU rendering:\n",
      "env: MUJOCO_GL=egl\n",
      "[cuda(id=0)]\n",
      "Checking that the mujoco installation succeeded:\n",
      "MuJoCo installation successful.\n"
     ]
    }
   ],
   "source": [
    "import os\n",
    "import subprocess\n",
    "import logging\n",
    "\n",
    "try:\n",
    "    if subprocess.run('nvidia-smi').returncode:\n",
    "        raise RuntimeError(\n",
    "                'Cannot communicate with GPU. '\n",
    "                'Make sure you are using a GPU Colab runtime. '\n",
    "                'Go to the Runtime menu and select Choose runtime type.'\n",
    "                )\n",
    "\n",
    "    # Add an ICD config so that glvnd can pick up the Nvidia EGL driver.\n",
    "    # This is usually installed as part of an Nvidia driver package, but the Colab\n",
    "    # kernel doesn't install its driver via APT, and as a result the ICD is missing.\n",
    "    # (https://github.com/NVIDIA/libglvnd/blob/master/src/EGL/icd_enumeration.md)\n",
    "    NVIDIA_ICD_CONFIG_PATH = '/usr/share/glvnd/egl_vendor.d/10_nvidia.json'\n",
    "    if not os.path.exists(NVIDIA_ICD_CONFIG_PATH):\n",
    "        with open(NVIDIA_ICD_CONFIG_PATH, 'w') as f:\n",
    "            f.write(\n",
    "                    \"\"\"{\n",
    "                            \"file_format_version\" : \"1.0.0\",\n",
    "                            \"ICD\" : {\n",
    "                                \"library_path\" : \"libEGL_nvidia.so.0\"\n",
    "                            }\n",
    "                        }\n",
    "                        \"\"\"\n",
    "                    )\n",
    "\n",
    "    # Configure MuJoCo to use the EGL rendering backend (requires GPU)\n",
    "    print('Setting environment variable to use GPU rendering:')\n",
    "    %env MUJOCO_GL=egl\n",
    "\n",
    "    # Check if jax finds the GPU\n",
    "    import jax\n",
    "\n",
    "    print(jax.devices('gpu'))\n",
    "except Exception:\n",
    "    logging.warning(\"Failed to initialize GPU. Everything will run on the cpu.\")\n",
    "\n",
    "try:\n",
    "    print('Checking that the mujoco installation succeeded:')\n",
    "    import mujoco\n",
    "\n",
    "    mujoco.MjModel.from_xml_string('<mujoco/>')\n",
    "except Exception as e:\n",
    "    raise e from RuntimeError(\n",
    "            'Something went wrong during installation. Check the shell output above '\n",
    "            'for more information.\\n'\n",
    "            'If using a hosted Colab runtime, make sure you enable GPU acceleration '\n",
    "            'by going to the Runtime menu and selecting \"Choose runtime type\".'\n",
    "            )\n",
    "\n",
    "print('MuJoCo installation successful.')"
   ]
  },
  {
   "cell_type": "markdown",
   "id": "c53891bf-e7d6-418d-a974-2e2b2020bcc3",
   "metadata": {},
   "source": [
    "## Weights and Biases trial"
   ]
  },
  {
   "cell_type": "code",
   "execution_count": 5,
   "id": "fbca0515-e57f-4caa-9257-8c97227a8729",
   "metadata": {},
   "outputs": [],
   "source": [
    "# # start a new wandb run to track this script\n",
    "# rng, rng_acc, rng_loss, rng_offset = jax.random.split(rng, 4)\n",
    "# wandb.init(\n",
    "#     # set the wandb project where this run will be logged\n",
    "#     project = \"my-awesome-project\",\n",
    "\n",
    "#     # track hyperparameters and run metadata\n",
    "#     config={\n",
    "#     \"learning_rate\": 0.02,\n",
    "#     \"architecture\": \"CNN\",\n",
    "#     \"dataset\": \"CIFAR-100\",\n",
    "#     \"epochs\": 10,\n",
    "#     }\n",
    "# )\n",
    "\n",
    "# # simulate training\n",
    "# epochs = 10\n",
    "# offset = jax.random.uniform(rng_offset)/5\n",
    "# for epoch in range(2, epochs):\n",
    "#     acc = 1 - 2 ** -epoch - jax.random.uniform(rng_acc) / epoch - offset\n",
    "#     loss = 2** -epoch + jax.random.uniform(rng_loss) / epoch + offset\n",
    "\n",
    "#     # log memtrics to wandb\n",
    "#     wandb.log({\"acc\": acc, \"loss\":loss})\n",
    "\n",
    "# # [optional] finish the wandb run, necessary in notebooks\n",
    "# wandb.finish()"
   ]
  },
  {
   "cell_type": "code",
   "execution_count": null,
   "id": "80a04f3d-ccd7-4009-8166-bbfad121cacc",
   "metadata": {},
   "outputs": [],
   "source": []
  },
  {
   "cell_type": "markdown",
   "id": "dcbba8b7-c194-4cbb-a8b6-724448be571c",
   "metadata": {},
   "source": [
    "## Defining classes and functionalities"
   ]
  },
  {
   "cell_type": "markdown",
   "id": "f6a6591b-b1af-4d8c-8739-23d765986fca",
   "metadata": {},
   "source": [
    "### Generating neural network"
   ]
  },
  {
   "cell_type": "code",
   "execution_count": 6,
   "id": "b33ad29e-fe6c-4cae-91d0-e38571568c3d",
   "metadata": {},
   "outputs": [],
   "source": [
    "# build NN architecture\n",
    "class ExplicitMLP(nn.Module):\n",
    "    features: Sequence[int]\n",
    "    # act_hidden: Callable = nn.tanh,\n",
    "    # act_output: Callable = nn.tanh\n",
    "\n",
    "    \"\"\"\n",
    "    features: number of outputs (# nodes) for each layer. The number of inputs of the first layer defined by the call function.\n",
    "    The number of inputs of the hidden layers and output layer defined by the number of outputs of the previous layer.\n",
    "    act_hidden: activation function applied to hidden layers: popular is nn.tanh or nn.relu\n",
    "    act_output: activation function applied to output layer: popular is nn.tanh or nn.sigmoid\n",
    "    \"\"\"\n",
    "\n",
    "    def setup(\n",
    "        self\n",
    "    ):\n",
    "        \"\"\"\n",
    "        Fully connected neural network, characterised by a pytree (dict containing dict with params and biases)\n",
    "        Features represents the number of outputs of the Dense layer\n",
    "        inputs based on the presented input later on\n",
    "        after presenting input: kernel can be generated\n",
    "        \"\"\"\n",
    "        self.layers = [nn.Dense(feat) for feat in self.features]\n",
    "\n",
    "\n",
    "\n",
    "    def __call__(\n",
    "        self,\n",
    "        inputs,\n",
    "        act_hidden: Callable = nn.tanh,\n",
    "        act_output: Callable = nn.tanh\n",
    "    ):\n",
    "        \"\"\"\n",
    "        Returning the output of a layer for a given input.\n",
    "        Don't directly call an instance of ExplicitMLP --> this method is called in the apply method.\n",
    "        -----\n",
    "        \n",
    "        \"\"\"\n",
    "        x = inputs\n",
    "        for i, lyr in enumerate(self.layers):\n",
    "            x = lyr(x)\n",
    "            if i != len(self.layers) - 1:\n",
    "                x = act_hidden(x)\n",
    "            else:\n",
    "                x = act_output(x)\n",
    "        return x"
   ]
  },
  {
   "cell_type": "markdown",
   "id": "749057ab-a3cf-4cec-8077-b8a60fb85cbd",
   "metadata": {},
   "source": [
    "### Utilities for visualisation"
   ]
  },
  {
   "cell_type": "code",
   "execution_count": 7,
   "id": "1d49a8f5-9d99-4ff7-9267-b3bdf47ed8c2",
   "metadata": {},
   "outputs": [],
   "source": [
    "from mujoco_utils.environment.base import MuJoCoEnvironmentConfiguration\n",
    "from mujoco_utils.mjcf_utils import MJCFRootComponent\n",
    "\n",
    "# Graphics and plotting.\n",
    "ffmpeg_v = !command -v ffmpeg\n",
    "assert \"command not found\" not in ffmpeg_v, f\"Please install FFmpeg for visualizations.\"\n",
    "!{sys.executable} -m pip install -q mediapy\n",
    "import mediapy as media\n",
    "\n",
    "# More legible printing from numpy.\n",
    "np.set_printoptions(precision=3, suppress=True, linewidth=100)\n",
    "jnp.set_printoptions(precision=3, suppress=True, linewidth=100)\n",
    "\n",
    "\n",
    "def visualize_mjcf(\n",
    "        mjcf: MJCFRootComponent\n",
    "        ) -> None:\n",
    "    model = mujoco.MjModel.from_xml_string(mjcf.get_mjcf_str())\n",
    "    data = mujoco.MjData(model)\n",
    "    renderer = mujoco.Renderer(model)\n",
    "    mujoco.mj_forward(model, data)\n",
    "    renderer.update_scene(data)\n",
    "    media.show_image(renderer.render())\n",
    "\n",
    "\n",
    "def post_render(\n",
    "        render_output: List[np.ndarray],\n",
    "        environment_configuration: MuJoCoEnvironmentConfiguration\n",
    "        ) -> np.ndarray:\n",
    "    if render_output is None:\n",
    "        # Temporary workaround until https://github.com/google-deepmind/mujoco/issues/1379 is fixed\n",
    "        return None\n",
    "\n",
    "    num_cameras = len(environment_configuration.camera_ids)\n",
    "    num_envs = len(render_output) // num_cameras\n",
    "\n",
    "    if num_cameras > 1:\n",
    "        # Horizontally stack frames of the same environment\n",
    "        frames_per_env = np.array_split(render_output, num_envs)\n",
    "        render_output = [np.concatenate(env_frames, axis=1) for env_frames in frames_per_env]\n",
    "\n",
    "    # Vertically stack frames of different environments\n",
    "    render_output = np.concatenate(render_output, axis=0)\n",
    "\n",
    "    return render_output[:, :, ::-1]  # RGB to BGR\n",
    "\n",
    "\n",
    "def show_video(\n",
    "        images: List[np.ndarray | None]\n",
    "        ) -> str | None:\n",
    "    # Temporary workaround until https://github.com/google-deepmind/mujoco/issues/1379 is fixed\n",
    "    filtered_images = [image for image in images if image is not None]\n",
    "    num_nones = len(images) - len(filtered_images)\n",
    "    if num_nones > 0:\n",
    "        logging.warning(f\"env.render produced {num_nones} None's. Resulting video might be a bit choppy (consquence of https://github.com/google-deepmind/mujoco/issues/1379).\")\n",
    "    return media.show_video(images=filtered_images)"
   ]
  },
  {
   "cell_type": "markdown",
   "id": "08230fec-ff9a-4394-8263-60efcaefad43",
   "metadata": {},
   "source": [
    "### The Brittle Star Environment"
   ]
  },
  {
   "cell_type": "code",
   "execution_count": 8,
   "id": "5d6253da-c3ca-40c1-ad5d-1bd13fe5dde8",
   "metadata": {},
   "outputs": [],
   "source": [
    "# Creating morphology\n",
    "import gymnasium\n",
    "from brb.brittle_star.mjcf.morphology.specification.default import default_brittle_star_morphology_specification\n",
    "from brb.brittle_star.mjcf.morphology.morphology import MJCFBrittleStarMorphology\n",
    "from brb.brittle_star.mjcf.morphology.specification.specification import BrittleStarMorphologySpecification\n",
    "\n",
    "def create_morphology(\n",
    "        morphology_specification: BrittleStarMorphologySpecification\n",
    "        ) -> MJCFBrittleStarMorphology:\n",
    "    morphology = MJCFBrittleStarMorphology(\n",
    "            specification=morphology_specification\n",
    "            )\n",
    "    return morphology\n"
   ]
  },
  {
   "cell_type": "code",
   "execution_count": 9,
   "id": "b382cc0b-ccc9-4476-8678-e742a547c26c",
   "metadata": {},
   "outputs": [],
   "source": [
    "# Creating arena\n",
    "from brb.brittle_star.mjcf.arena.aquarium import AquariumArenaConfiguration, MJCFAquariumArena\n",
    "\n",
    "def create_arena(\n",
    "        arena_configuration: AquariumArenaConfiguration\n",
    "        ) -> MJCFAquariumArena:\n",
    "    arena = MJCFAquariumArena(\n",
    "            configuration=arena_configuration\n",
    "            )\n",
    "    return arena"
   ]
  },
  {
   "cell_type": "code",
   "execution_count": 10,
   "id": "ccedb519-a4ad-42e8-ac13-9ef6b3fe43f6",
   "metadata": {},
   "outputs": [],
   "source": [
    "# Creating environment\n",
    "from brb.brittle_star.environment.light_escape.shared import BrittleStarLightEscapeEnvironmentConfiguration\n",
    "from brb.brittle_star.environment.directed_locomotion.shared import \\\n",
    "    BrittleStarDirectedLocomotionEnvironmentConfiguration\n",
    "from brb.brittle_star.environment.undirected_locomotion.shared import \\\n",
    "    BrittleStarUndirectedLocomotionEnvironmentConfiguration\n",
    "\n",
    "\n",
    "from brb.brittle_star.environment.undirected_locomotion.dual import BrittleStarUndirectedLocomotionEnvironment\n",
    "from brb.brittle_star.environment.directed_locomotion.dual import BrittleStarDirectedLocomotionEnvironment\n",
    "from brb.brittle_star.environment.light_escape.dual import BrittleStarLightEscapeEnvironment\n",
    "from mujoco_utils.environment.dual import DualMuJoCoEnvironment\n",
    "from mujoco_utils.environment.base import MuJoCoEnvironmentConfiguration\n",
    "\n",
    "\n",
    "def create_environment(\n",
    "        morphology_specification: BrittleStarMorphologySpecification,\n",
    "        arena_configuration: AquariumArenaConfiguration,\n",
    "        environment_configuration: MuJoCoEnvironmentConfiguration,\n",
    "        backend: str\n",
    "        ) -> DualMuJoCoEnvironment:\n",
    "    assert backend in [\"MJC\", \"MJX\"], \"Please specify a valid backend; Either 'MJC' or 'MJX'\"\n",
    "\n",
    "    morphology = create_morphology(\n",
    "            morphology_specification=morphology_specification\n",
    "            )\n",
    "    arena = create_arena(\n",
    "            arena_configuration=arena_configuration\n",
    "            )\n",
    "    if isinstance(environment_configuration, BrittleStarUndirectedLocomotionEnvironmentConfiguration):\n",
    "        env_class = BrittleStarUndirectedLocomotionEnvironment\n",
    "    elif isinstance(environment_configuration, BrittleStarDirectedLocomotionEnvironmentConfiguration):\n",
    "        env_class = BrittleStarDirectedLocomotionEnvironment\n",
    "    else:\n",
    "        env_class = BrittleStarLightEscapeEnvironment\n",
    "\n",
    "    env = env_class.from_morphology_and_arena(\n",
    "            morphology=morphology, arena=arena, configuration=environment_configuration, backend=backend\n",
    "            )\n",
    "    return env"
   ]
  },
  {
   "cell_type": "markdown",
   "id": "fd1c69cd-f06b-47b0-ad82-dee87e513f83",
   "metadata": {},
   "source": [
    "## Generating instances"
   ]
  },
  {
   "cell_type": "markdown",
   "id": "3f21df58-0ebe-4e11-add7-57e5382705ed",
   "metadata": {},
   "source": [
    "### Instantiating the environment"
   ]
  },
  {
   "cell_type": "code",
   "execution_count": 11,
   "id": "7c5320c1-038f-469b-ab57-9f01bf627281",
   "metadata": {},
   "outputs": [
    {
     "name": "stdout",
     "output_type": "stream",
     "text": [
      "20\n",
      "5\n"
     ]
    },
    {
     "data": {
      "text/html": [
       "<table class=\"show_images\" style=\"border-spacing:0px;\"><tr><td style=\"padding:1px;\"><img width=\"320\" height=\"240\" style=\"image-rendering:auto; object-fit:cover;\" src=\"data:image/png;base64,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\"/></td></tr></table>"
      ],
      "text/plain": [
       "<IPython.core.display.HTML object>"
      ]
     },
     "metadata": {},
     "output_type": "display_data"
    },
    {
     "data": {
      "text/html": [
       "<table class=\"show_images\" style=\"border-spacing:0px;\"><tr><td style=\"padding:1px;\"><img width=\"320\" height=\"240\" style=\"image-rendering:auto; object-fit:cover;\" src=\"data:image/png;base64,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\"/></td></tr></table>"
      ],
      "text/plain": [
       "<IPython.core.display.HTML object>"
      ]
     },
     "metadata": {},
     "output_type": "display_data"
    },
    {
     "name": "stdout",
     "output_type": "stream",
     "text": [
      "[simulation_time] The total amount of time (in seconds) that one simulation episode takes: 5\n",
      "[physics_timestep] The amount of time (in seconds) that one 'physics step' advances the physics: 0.004\n",
      "[control_timestep] The amount of time (in seconds) that one 'control step' advances the physics: 0.04\n",
      "[total_num_physics_steps] The total amount of physics steps that happen during one simulation episode: 1250\n",
      "[total_num_control_steps] The total amount of control steps that happen during one simulation episode: 125\n"
     ]
    }
   ],
   "source": [
    "arm_setup = [5,0,5,0,0] # 2 arms with 5 segments\n",
    "dofs = 2*sum(arm_setup)\n",
    "print(dofs)\n",
    "print(len(arm_setup))\n",
    "\n",
    "\n",
    "reward_type = \"distance\" # choose \"distance\", \"target\", \"light\"\n",
    "num_physics_steps_per_control_step=10 \n",
    "simulation_time=5 # [seconds]\n",
    "joint_randomization_noise_scale=0.0\n",
    "# If this value is > 0 then we will add randomly sampled noise to the initial joint positions and velocities\n",
    "\n",
    "\n",
    "# specifying morphology\n",
    "morphology_specification = default_brittle_star_morphology_specification(\n",
    "        num_arms=len(arm_setup), num_segments_per_arm=arm_setup, use_p_control=True, use_torque_control=False\n",
    "        )\n",
    "morphology = create_morphology(morphology_specification=morphology_specification)\n",
    "visualize_mjcf(mjcf=morphology)\n",
    "\n",
    "\n",
    "# specifying arena\n",
    "arena_configuration = AquariumArenaConfiguration(\n",
    "        size=(10, 5), sand_ground_color=True, attach_target=False, wall_height=1.5, wall_thickness=0.1\n",
    "        )\n",
    "arena = create_arena(arena_configuration=arena_configuration)\n",
    "visualize_mjcf(mjcf=arena)\n",
    "\n",
    "\n",
    "# specifying environment: CHOOSE 1\n",
    "assert reward_type in ([\"distance\",\"target\",\"light\"]), \"reward_type must be one of 'distance', 'target', 'light'\"\n",
    "\n",
    "if reward_type == \"distance\":\n",
    "    environment_configuration = BrittleStarUndirectedLocomotionEnvironmentConfiguration(\n",
    "        # If this value is > 0 then we will add randomly sampled noise to the initial joint positions and velocities \n",
    "        joint_randomization_noise_scale=joint_randomization_noise_scale,\n",
    "        render_mode=\"rgb_array\",  # Visualization mode \n",
    "        simulation_time=simulation_time,  # Number of seconds per episode \n",
    "        num_physics_steps_per_control_step=num_physics_steps_per_control_step,  # Number of physics substeps to do per control step \n",
    "        time_scale=2,    # Integer factor by which to multiply the original physics timestep of 0.002,\n",
    "        camera_ids=[0, 1],   # Which camera's to render (all the brittle star environments contain 2 cameras: 1 top-down camera and one close-up camera that follows the brittle star),\n",
    "        render_size=(480, 640)  # Resolution to render with ((height, width) in pixels)\n",
    "        )\n",
    "\n",
    "elif reward_type == \"target\":\n",
    "    environment_configuration = BrittleStarDirectedLocomotionEnvironmentConfiguration(\n",
    "        # Distance to put our target at (targets are spawned on a circle around the starting location with this given radius).\n",
    "        target_distance=3.0,\n",
    "        joint_randomization_noise_scale=joint_randomization_noise_scale,\n",
    "        render_mode=\"rgb_array\",\n",
    "        simulation_time=simulation_time,\n",
    "        num_physics_steps_per_control_step=num_physics_steps_per_control_step,\n",
    "        time_scale=2,\n",
    "        camera_ids=[0, 1],\n",
    "        render_size=(480, 640)\n",
    "        )\n",
    "\n",
    "elif reward_type == \"light\":\n",
    "    environment_configuration = BrittleStarLightEscapeEnvironmentConfiguration(\n",
    "            joint_randomization_noise_scale=joint_randomization_noise_scale,\n",
    "            light_perlin_noise_scale=0,\n",
    "            # If this value is > 0, we will add perlin noise to the generated light map. Otherwise, the light map is a simple linear gradient.\n",
    "            # Please only provide integer factors of 200.\n",
    "            render_mode=\"rgb_array\",\n",
    "            simulation_time=simulation_time,\n",
    "            num_physics_steps_per_control_step=num_physics_steps_per_control_step,\n",
    "            time_scale=2,\n",
    "            camera_ids=[0, 1],\n",
    "            render_size=(480, 640)\n",
    "            )\n",
    "\n",
    "BACKEND = \"MJX\"\n",
    "\n",
    "# useful environment configuration information\n",
    "print(f\"[simulation_time] The total amount of time (in seconds) that one simulation episode takes: {environment_configuration.simulation_time}\")\n",
    "print(f\"[physics_timestep] The amount of time (in seconds) that one 'physics step' advances the physics: {environment_configuration.physics_timestep}\")\n",
    "print(f\"[control_timestep] The amount of time (in seconds) that one 'control step' advances the physics: {environment_configuration.control_timestep}\")\n",
    "print(f\"[total_num_physics_steps] The total amount of physics steps that happen during one simulation episode: {environment_configuration.total_num_physics_steps}\")\n",
    "print(f\"[total_num_control_steps] The total amount of control steps that happen during one simulation episode: {environment_configuration.total_num_control_steps}\")"
   ]
  },
  {
   "cell_type": "code",
   "execution_count": null,
   "id": "3fe4523b-41dc-422e-9132-ce8eaf289bdb",
   "metadata": {},
   "outputs": [],
   "source": []
  },
  {
   "cell_type": "code",
   "execution_count": 12,
   "id": "f4780d91-4c68-4f40-9085-15df21c9c083",
   "metadata": {},
   "outputs": [
    {
     "data": {
      "text/html": [
       "<table class=\"show_images\" style=\"border-spacing:0px;\"><tr><td style=\"padding:1px;\"><img width=\"1280\" height=\"480\" style=\"image-rendering:auto; object-fit:cover;\" src=\"data:image/png;base64,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\"/></td></tr></table>"
      ],
      "text/plain": [
       "<IPython.core.display.HTML object>"
      ]
     },
     "metadata": {},
     "output_type": "display_data"
    }
   ],
   "source": [
    "env = create_environment(\n",
    "        morphology_specification=morphology_specification,\n",
    "        arena_configuration=arena_configuration,\n",
    "        environment_configuration=environment_configuration,\n",
    "        backend=BACKEND\n",
    "        )\n",
    "\n",
    "\n",
    "\n",
    "if BACKEND == \"MJC\":\n",
    "    rng = np.random.RandomState(0)\n",
    "else:\n",
    "    rng = jax.random.PRNGKey(seed=0)\n",
    "\n",
    "state = env.reset(rng=rng)  # Always need to reset the environment before doing anything else with it\n",
    "frame = env.render(state=state)\n",
    "media.show_image(post_render(render_output=frame, environment_configuration=environment_configuration))\n"
   ]
  },
  {
   "cell_type": "code",
   "execution_count": 13,
   "id": "12a94c7e-3bd5-4a2d-ac81-69037d7dc2d5",
   "metadata": {},
   "outputs": [
    {
     "name": "stdout",
     "output_type": "stream",
     "text": [
      "MJX:\n",
      "\tDict('in_plane_joint_position': Box(-0.5235988, 0.5235988, (10,), <class 'jax.numpy.float32'>), 'out_of_plane_joint_position': Box(-0.5235988, 0.5235988, (10,), <class 'jax.numpy.float32'>), 'in_plane_joint_velocity': Box(-inf, inf, (10,), <class 'jax.numpy.float32'>), 'out_of_plane_joint_velocity': Box(-inf, inf, (10,), <class 'jax.numpy.float32'>), 'segment_contact': Box(0.0, 1.0, (10,), <class 'jax.numpy.float32'>), 'disk_position': Box(-inf, inf, (3,), <class 'jax.numpy.float32'>), 'disk_rotation': Box(-3.1415927, 3.1415927, (3,), <class 'jax.numpy.float32'>), 'disk_linear_velocity': Box(-inf, inf, (3,), <class 'jax.numpy.float32'>), 'disk_angular_velocity': Box(-inf, inf, (3,), <class 'jax.numpy.float32'>))\n",
      "MJX:\n",
      "\tBox(-0.5235988, 0.5235988, (20,), <class 'jax.numpy.float32'>)\n",
      "First 5 actuators:\n",
      "\tMJX: ['BrittleStarMorphology/arm_0_segment_0_in_plane_joint_p_control', 'BrittleStarMorphology/arm_0_segment_0_out_of_plane_joint_p_control', 'BrittleStarMorphology/arm_0_segment_1_in_plane_joint_p_control', 'BrittleStarMorphology/arm_0_segment_1_out_of_plane_joint_p_control', 'BrittleStarMorphology/arm_0_segment_2_in_plane_joint_p_control']\n"
     ]
    }
   ],
   "source": [
    "print(\"MJX:\")\n",
    "print(f\"\\t{env.observation_space}\")\n",
    "\n",
    "print(\"MJX:\")\n",
    "print(f\"\\t{env.action_space}\")\n",
    "\n",
    "print(\"First 5 actuators:\")\n",
    "print(f\"\\tMJX: {env.actuators[:5]}\")\n"
   ]
  },
  {
   "cell_type": "code",
   "execution_count": 14,
   "id": "b8bf1bfd-b074-4409-ad85-647bc214c2ab",
   "metadata": {},
   "outputs": [
    {
     "name": "stdout",
     "output_type": "stream",
     "text": [
      "{'in_plane_joint_position': Array([0., 0., 0., 0., 0., 0., 0., 0., 0., 0.], dtype=float32), 'out_of_plane_joint_position': Array([0., 0., 0., 0., 0., 0., 0., 0., 0., 0.], dtype=float32), 'in_plane_joint_velocity': Array([0., 0., 0., 0., 0., 0., 0., 0., 0., 0.], dtype=float32), 'out_of_plane_joint_velocity': Array([0., 0., 0., 0., 0., 0., 0., 0., 0., 0.], dtype=float32), 'segment_contact': Array([0, 0, 0, 0, 0, 0, 0, 0, 0, 0], dtype=int32), 'disk_position': Array([0.  , 0.  , 0.11], dtype=float32), 'disk_rotation': Array([-3.142,  0.   ,  0.   ], dtype=float32), 'disk_linear_velocity': Array([0., 0., 0.], dtype=float32), 'disk_angular_velocity': Array([0., 0., 0.], dtype=float32)}\n",
      "['in_plane_joint_position', 'out_of_plane_joint_position', 'in_plane_joint_velocity', 'out_of_plane_joint_velocity', 'segment_contact', 'disk_position', 'disk_rotation', 'disk_linear_velocity', 'disk_angular_velocity']\n",
      "{'in_plane_joint_position': 10, 'out_of_plane_joint_position': 10, 'in_plane_joint_velocity': 10, 'out_of_plane_joint_velocity': 10, 'segment_contact': 10, 'disk_position': 3, 'disk_rotation': 3, 'disk_linear_velocity': 3, 'disk_angular_velocity': 3}\n",
      "[0. 0. 0. 0. 0. 0. 0. 0. 0. 0.]\n",
      "30\n"
     ]
    }
   ],
   "source": [
    "print(state.observations)\n",
    "sensors = [key for key in state.observations.keys()]\n",
    "sensors_with_dim = {s: len(d) for s, d in state.observations.items()}\n",
    "print(sensors)\n",
    "print(sensors_with_dim)\n",
    "print(state.observations[\"in_plane_joint_position\"])\n",
    "\n",
    "sensor_selection = ['in_plane_joint_position', 'out_of_plane_joint_position', 'segment_contact']\n",
    "sensor_selection_dim = sum([len(state.observations[sensor]) for sensor in sensor_selection])\n",
    "print(sensor_selection_dim)\n"
   ]
  },
  {
   "cell_type": "markdown",
   "id": "04935c92-b0e5-4dbd-a0da-6e2884b60ab6",
   "metadata": {},
   "source": [
    "Let us base the development of the first controller on a brittle star with 2 arms and 5 segments, 10 segments in total, 20 degrees of freedom, meaning 20 joint angle positions to be controlled. This means the final layer of our output is 20.\n",
    "The inputs will be sampled from the Brittle Star Observation space, but let's for now just initialise an input space with 10 random inputs."
   ]
  },
  {
   "cell_type": "markdown",
   "id": "dddd3f7c-f567-40df-b193-8c9b53db4c55",
   "metadata": {},
   "source": [
    "### instantiating the neural network"
   ]
  },
  {
   "cell_type": "code",
   "execution_count": 15,
   "id": "fc2686c6-fe28-4487-bdb8-fb198b60dbbf",
   "metadata": {},
   "outputs": [
    {
     "name": "stdout",
     "output_type": "stream",
     "text": [
      "[0. 0. 0. 0. 0. 0. 0. 0. 0. 0. 0. 0. 0. 0. 0. 0. 0. 0. 0. 0. 0. 0. 0. 0. 0. 0. 0. 0. 0. 0.]\n",
      "[128, 128, 20]\n",
      "dict_keys(['layers_0', 'layers_1', 'layers_2'])\n",
      "{'params': {'layers_0': {'bias': (128,), 'kernel': (30, 128)}, 'layers_1': {'bias': (128,), 'kernel': (128, 128)}, 'layers_2': {'bias': (20,), 'kernel': (128, 20)}}}\n",
      "initialized parameter shapes:\n",
      " {'params': {'layers_0': {'bias': (128,), 'kernel': (30, 128)}, 'layers_1': {'bias': (128,), 'kernel': (128, 128)}, 'layers_2': {'bias': (20,), 'kernel': (128, 20)}}}\n"
     ]
    }
   ],
   "source": [
    "features = [128,128, dofs]\n",
    "model = ExplicitMLP(features = features)\n",
    "\n",
    "# initialising the parameters of the model\n",
    "rng, rng_input, rng_init = jax.random.split(rng, 3)\n",
    "x = jnp.zeros(sensor_selection_dim) # just required for the initialisation: only length matters, not input values\n",
    "print(x)\n",
    "params = model.init(rng_init, x)\n",
    "# params is a PyTree --> see jax documentation\n",
    "# print(params)\n",
    "print(features)\n",
    "print(params['params'].keys())\n",
    "print(jax.tree_util.tree_map(lambda x: x.shape, params))\n",
    "print('initialized parameter shapes:\\n', jax.tree_util.tree_map(jnp.shape, flax.core.unfreeze(params)))"
   ]
  },
  {
   "cell_type": "markdown",
   "id": "bf4015b8-5b9b-4438-83b6-0cc0d47b4755",
   "metadata": {},
   "source": [
    "A single forward pass through the model"
   ]
  },
  {
   "cell_type": "code",
   "execution_count": 16,
   "id": "3a9e4d4e-9f4f-4f78-b66b-a50512877aae",
   "metadata": {},
   "outputs": [
    {
     "data": {
      "text/plain": [
       "Array([0., 0., 0., 0., 0., 0., 0., 0., 0., 0., 0., 0., 0., 0., 0., 0., 0., 0., 0., 0.], dtype=float32)"
      ]
     },
     "execution_count": 16,
     "metadata": {},
     "output_type": "execute_result"
    }
   ],
   "source": [
    "model.apply(params,x)"
   ]
  },
  {
   "cell_type": "markdown",
   "id": "0e01c132-9254-4ecc-892c-d85cf4a9b00a",
   "metadata": {},
   "source": [
    "Indeed, all outputs are distributed between -1 and +1, as expected from the tanh activation fucntion of the output layer"
   ]
  },
  {
   "cell_type": "code",
   "execution_count": 17,
   "id": "7ce28e87-ec80-4e52-9a87-c8a8925440bb",
   "metadata": {},
   "outputs": [
    {
     "name": "stdout",
     "output_type": "stream",
     "text": [
      "23060\n",
      "ParameterReshaper: 23060 parameters detected for optimization.\n"
     ]
    }
   ],
   "source": [
    "print(30*128+128*128+128*20+128+128+20)\n",
    "param_reshaper = ParameterReshaper(params)\n",
    "num_params = param_reshaper.total_params # get from the weights and biases of the NN"
   ]
  },
  {
   "cell_type": "markdown",
   "id": "07cb622f-d094-419e-8857-bb161e9dd41e",
   "metadata": {},
   "source": [
    "### Instantiating the search strategy"
   ]
  },
  {
   "cell_type": "code",
   "execution_count": 56,
   "id": "d0d4175e-6c4b-4646-890f-61dbea1f95a7",
   "metadata": {},
   "outputs": [
    {
     "name": "stdout",
     "output_type": "stream",
     "text": [
      "EvoParams(opt_params=OptParams(lrate_init=0.05, lrate_decay=1.0, lrate_limit=0.001, momentum=None, beta_1=0.99, beta_2=0.999, beta_3=None, eps=1e-08, max_speed=None), sigma_init=0.03, sigma_decay=1.0, sigma_limit=0.01, init_min=0.0, init_max=0.0, clip_min=-3.4028235e+38, clip_max=3.4028235e+38) \n",
      "\n",
      "candidate solution shape:  (2, 23060) \n",
      "\n",
      "{'params': {'layers_0': {'bias': (2, 128), 'kernel': (2, 30, 128)}, 'layers_1': {'bias': (2, 128), 'kernel': (2, 128, 128)}, 'layers_2': {'bias': (2, 20), 'kernel': (2, 128, 20)}}}\n"
     ]
    }
   ],
   "source": [
    "# instantiate the search strategy\n",
    "es_popsize = 2\n",
    "rng, rng_ask, rng_init = jax.random.split(rng, 3)\n",
    "strategy  = OpenES(popsize = es_popsize, num_dims = num_params)\n",
    "# still parameters that can be finetuned, like optimisation method, lrate, lrate decay, ...\n",
    "es_params = strategy.default_params\n",
    "# # replacing certain parameters:\n",
    "# es_params = es_params.replace(init_min = -3, init_max = 3)\n",
    "print(es_params, '\\n')\n",
    "\n",
    "es_state = strategy.initialize(rng_init, es_params)\n",
    "\n",
    "candidate, es_state = strategy.ask(rng_ask, es_state)\n",
    "print('candidate solution shape: ', candidate.shape, '\\n')\n",
    "\n",
    "# network parameters have an additional dimension of 100, meaning that every bias and every weight appears 100 times\n",
    "# 100 parallel trees if you want\n",
    "net_params = param_reshaper.reshape(candidate)\n",
    "print(jax.tree_util.tree_map(lambda x: x.shape, net_params))"
   ]
  },
  {
   "cell_type": "code",
   "execution_count": 57,
   "id": "69665fef-be97-4e12-8ae9-2e1070015a01",
   "metadata": {},
   "outputs": [
    {
     "name": "stdout",
     "output_type": "stream",
     "text": [
      "[[ 0.011  0.032 -0.033 ... -0.026 -0.014 -0.009]\n",
      " [ 0.03  -0.004  0.006 ...  0.006 -0.024 -0.029]\n",
      " [-0.003  0.017  0.085 ... -0.031 -0.017 -0.017]\n",
      " ...\n",
      " [ 0.058 -0.036 -0.039 ... -0.059  0.006  0.012]\n",
      " [ 0.002 -0.007 -0.032 ...  0.015  0.029  0.016]\n",
      " [ 0.042  0.017  0.01  ... -0.008  0.061 -0.044]] (100, 23060)\n"
     ]
    }
   ],
   "source": [
    "print(x, x.shape)"
   ]
  },
  {
   "cell_type": "code",
   "execution_count": 58,
   "id": "1e97eafd-65e6-4f03-8feb-f5cd7a3324d1",
   "metadata": {},
   "outputs": [
    {
     "name": "stdout",
     "output_type": "stream",
     "text": [
      "(100, 30)\n",
      "[[0.629 0.024 0.31  ... 0.269 0.925 0.782]\n",
      " [0.7   0.646 0.871 ... 0.861 0.453 0.046]\n",
      " [0.6   0.698 0.466 ... 0.885 0.135 0.378]\n",
      " ...\n",
      " [0.561 0.677 0.468 ... 0.862 0.742 0.074]\n",
      " [0.047 0.678 0.602 ... 0.261 0.956 0.605]\n",
      " [0.483 0.924 0.576 ... 0.015 0.79  0.226]]\n"
     ]
    }
   ],
   "source": [
    "rng, rng_uniform = jax.random.split(rng, 2)\n",
    "inputs = jax.random.uniform(rng, (100, sensor_selection_dim))\n",
    "print(inputs.shape)\n",
    "print(inputs)"
   ]
  },
  {
   "cell_type": "code",
   "execution_count": 59,
   "id": "d608472c-e428-47cc-aac1-48217ddf3a41",
   "metadata": {},
   "outputs": [
    {
     "ename": "ValueError",
     "evalue": "vmap got inconsistent sizes for array axes to be mapped:\n  * most axes (6 of them) had size 2, e.g. axis 0 of argument variables['params']['layers_0']['bias'] of type float32[2,128];\n  * one axis had size 100: axis 0 of argument args[0] of type float32[100,30]",
     "output_type": "error",
     "traceback": [
      "\u001b[0;31m---------------------------------------------------------------------------\u001b[0m",
      "\u001b[0;31mValueError\u001b[0m                                Traceback (most recent call last)",
      "Cell \u001b[0;32mIn[59], line 1\u001b[0m\n\u001b[0;32m----> 1\u001b[0m outputs \u001b[38;5;241m=\u001b[39m \u001b[43mjax\u001b[49m\u001b[38;5;241;43m.\u001b[39;49m\u001b[43mvmap\u001b[49m\u001b[43m(\u001b[49m\u001b[43mmodel\u001b[49m\u001b[38;5;241;43m.\u001b[39;49m\u001b[43mapply\u001b[49m\u001b[43m)\u001b[49m\u001b[43m(\u001b[49m\u001b[43mnet_params\u001b[49m\u001b[43m,\u001b[49m\u001b[43m \u001b[49m\u001b[43minputs\u001b[49m\u001b[43m)\u001b[49m\n\u001b[1;32m      2\u001b[0m \u001b[38;5;28mprint\u001b[39m(outputs\u001b[38;5;241m.\u001b[39mshape)\n",
      "    \u001b[0;31m[... skipping hidden 2 frame]\u001b[0m\n",
      "File \u001b[0;32m~/.conda/envs/hope/lib/python3.11/site-packages/jax/_src/api.py:1340\u001b[0m, in \u001b[0;36m_mapped_axis_size\u001b[0;34m(fn, tree, vals, dims, name)\u001b[0m\n\u001b[1;32m   1338\u001b[0m   \u001b[38;5;28;01melse\u001b[39;00m:\n\u001b[1;32m   1339\u001b[0m     msg\u001b[38;5;241m.\u001b[39mappend(\u001b[38;5;124mf\u001b[39m\u001b[38;5;124m\"\u001b[39m\u001b[38;5;124m  * some axes (\u001b[39m\u001b[38;5;132;01m{\u001b[39;00mct\u001b[38;5;132;01m}\u001b[39;00m\u001b[38;5;124m of them) had size \u001b[39m\u001b[38;5;132;01m{\u001b[39;00msz\u001b[38;5;132;01m}\u001b[39;00m\u001b[38;5;124m, e.g. axis \u001b[39m\u001b[38;5;132;01m{\u001b[39;00max\u001b[38;5;132;01m}\u001b[39;00m\u001b[38;5;124m of \u001b[39m\u001b[38;5;132;01m{\u001b[39;00mex\u001b[38;5;132;01m}\u001b[39;00m\u001b[38;5;124m;\u001b[39m\u001b[38;5;130;01m\\n\u001b[39;00m\u001b[38;5;124m\"\u001b[39m)\n\u001b[0;32m-> 1340\u001b[0m \u001b[38;5;28;01mraise\u001b[39;00m \u001b[38;5;167;01mValueError\u001b[39;00m(\u001b[38;5;124m'\u001b[39m\u001b[38;5;124m'\u001b[39m\u001b[38;5;241m.\u001b[39mjoin(msg)[:\u001b[38;5;241m-\u001b[39m\u001b[38;5;241m2\u001b[39m])\n",
      "\u001b[0;31mValueError\u001b[0m: vmap got inconsistent sizes for array axes to be mapped:\n  * most axes (6 of them) had size 2, e.g. axis 0 of argument variables['params']['layers_0']['bias'] of type float32[2,128];\n  * one axis had size 100: axis 0 of argument args[0] of type float32[100,30]"
     ]
    }
   ],
   "source": [
    "outputs = jax.vmap(model.apply)(net_params, inputs)\n",
    "print(outputs.shape)"
   ]
  },
  {
   "cell_type": "code",
   "execution_count": 60,
   "id": "be08ad08-f539-49d8-a89e-c89f7dab18cc",
   "metadata": {},
   "outputs": [],
   "source": [
    "NUM_MJX_ENVIRONMENTS = es_popsize\n",
    "num_generations = 50 # 2500\n",
    "# print_every_k_gens = 100 --> replace by wandb monitoring\n",
    "\n",
    "# generate 100 parallel environments\n",
    "# set this to the number of CUDA cores that you have available\n",
    "\n",
    "mjx_vectorized_env = create_environment(\n",
    "                morphology_specification=morphology_specification,\n",
    "                arena_configuration=arena_configuration,\n",
    "                environment_configuration=environment_configuration,\n",
    "                backend=\"MJX\"\n",
    "                )\n",
    "\n",
    "mjx_action_rng, mjx_vectorized_env_rng = jax.random.split(jax.random.PRNGKey(0), 2)\n",
    "mjx_vectorized_env_rng = jnp.array(jax.random.split(mjx_vectorized_env_rng, NUM_MJX_ENVIRONMENTS))\n",
    "\n",
    "mjx_vectorized_step = jax.jit(jax.vmap(mjx_vectorized_env.step))\n",
    "mjx_vectorized_reset = jax.jit(jax.vmap(mjx_vectorized_env.reset))\n",
    "mjx_vectorized_action_sample = jax.jit(jax.vmap(mjx_vectorized_env.action_space.sample))\n",
    "\n",
    "mjx_vectorized_state = mjx_vectorized_reset(rng=mjx_vectorized_env_rng)"
   ]
  },
  {
   "cell_type": "code",
   "execution_count": 61,
   "id": "bae335e1-d179-4f16-ac1e-ee2078c6e264",
   "metadata": {},
   "outputs": [],
   "source": [
    "vectorized_model_apply = jax.jit(jax.vmap(model.apply))"
   ]
  },
  {
   "cell_type": "code",
   "execution_count": 62,
   "id": "83ac8f89-677f-439d-b7d4-9aff282226a7",
   "metadata": {},
   "outputs": [
    {
     "name": "stdout",
     "output_type": "stream",
     "text": [
      "\tDict('in_plane_joint_position': Box(-0.5235988, 0.5235988, (10,), <class 'jax.numpy.float32'>), 'out_of_plane_joint_position': Box(-0.5235988, 0.5235988, (10,), <class 'jax.numpy.float32'>), 'in_plane_joint_velocity': Box(-inf, inf, (10,), <class 'jax.numpy.float32'>), 'out_of_plane_joint_velocity': Box(-inf, inf, (10,), <class 'jax.numpy.float32'>), 'segment_contact': Box(0.0, 1.0, (10,), <class 'jax.numpy.float32'>), 'disk_position': Box(-inf, inf, (3,), <class 'jax.numpy.float32'>), 'disk_rotation': Box(-3.1415927, 3.1415927, (3,), <class 'jax.numpy.float32'>), 'disk_linear_velocity': Box(-inf, inf, (3,), <class 'jax.numpy.float32'>), 'disk_angular_velocity': Box(-inf, inf, (3,), <class 'jax.numpy.float32'>))\n",
      "['in_plane_joint_position', 'out_of_plane_joint_position', 'segment_contact']\n",
      "(2, 10)\n",
      "(2, 10)\n",
      "(2, 10)\n",
      "(3, 2, 10)\n",
      "(2, 30)\n"
     ]
    }
   ],
   "source": [
    "print(f\"\\t{mjx_vectorized_env.observation_space}\")\n",
    "print(sensor_selection)\n",
    "\n",
    "sensory_input_nn = []\n",
    "for sensor in sensor_selection:\n",
    "    print(mjx_vectorized_state.observations[sensor].shape)\n",
    "    sensory_input_nn.append(mjx_vectorized_state.observations[sensor])\n",
    "\n",
    "print(jnp.array(sensory_input_nn).shape)\n",
    "sensory_input_nn = jnp.concatenate(sensory_input_nn, axis = 1)\n",
    "print(jnp.array(sensory_input_nn).shape)"
   ]
  },
  {
   "cell_type": "code",
   "execution_count": 64,
   "id": "ad26250b-a854-4e7b-becb-6095865f2385",
   "metadata": {},
   "outputs": [
    {
     "name": "stdout",
     "output_type": "stream",
     "text": [
      "[0 0]\n"
     ]
    }
   ],
   "source": [
    "print(mjx_vectorized_state.reward)"
   ]
  },
  {
   "cell_type": "code",
   "execution_count": 67,
   "id": "f393c398-6160-41c5-b3f0-e7c9adab0b38",
   "metadata": {},
   "outputs": [
    {
     "name": "stdout",
     "output_type": "stream",
     "text": [
      "generation:  0\n",
      "candidate params:  (2, 23060) [[ 0.026  0.021 -0.032 ...  0.055  0.002 -0.01 ]\n",
      " [-0.026 -0.021  0.032 ... -0.055 -0.002  0.01 ]]\n"
     ]
    }
   ],
   "source": [
    "# Run ask-eval-tell loop - NOTE: By default minimization!\n",
    "for gen in range(num_generations):\n",
    "    print('generation: ', gen)\n",
    "    rng, rng_gen, rng_eval = jax.random.split(rng, 3)\n",
    "    \n",
    "    x, state = strategy.ask(rng_gen, es_state, es_params)\n",
    "    x_shaped = param_reshaper.reshape(x) # --> stacked array\n",
    "\n",
    "    sensory_input_nn = []\n",
    "    for sensor in sensor_selection:\n",
    "        sensory_input_nn.append(mjx_vectorized_state.observations[sensor])\n",
    "    sensory_input_nn = jnp.concatenate(sensory_input_nn, axis = 1)\n",
    "    \n",
    "    actions = vectorized_model_apply(x_shaped, sensory_input_nn)\n",
    "   \n",
    "    i = 0\n",
    "    while not jnp.any(mjx_vectorized_state.terminated | mjx_vectorized_state.truncated):\n",
    "        i += 1\n",
    "        print(i, end = \" \")\n",
    "        mjx_vectorized_state = mjx_vectorized_step(state=mjx_vectorized_state, action=action)\n",
    "\n",
    "    \n",
    "\n",
    "\n",
    "#     fitness = ...  # Your population evaluation fct \n",
    "#     # fitness should be an array with population size as len (e.g. 100)\n",
    "#     state = strategy.tell(x, fitness, state, es_params)\n",
    "\n",
    "# # Get best overall population member & its fitness\n",
    "# state.best_member, state.best_fitness"
   ]
  },
  {
   "cell_type": "code",
   "execution_count": 23,
   "id": "8011049b-b0bd-464f-852b-c20a845f3571",
   "metadata": {},
   "outputs": [
    {
     "name": "stderr",
     "output_type": "stream",
     "text": [
      "WARNING:root:env.render produced 2 None's. Resulting video might be a bit choppy (consquence of https://github.com/google-deepmind/mujoco/issues/1379).\n"
     ]
    },
    {
     "data": {
      "text/html": [
       "<table class=\"show_videos\" style=\"border-spacing:0px;\"><tr><td style=\"padding:1px;\"><video controls width=\"1280\" height=\"480\" style=\"object-fit:cover;\" loop autoplay muted>\n",
       "      <source src=\"data:video/mp4;base64,AAAAIGZ0eXBpc29tAAACAGlzb21pc28yYXZjMW1wNDEAAAAIZnJlZQAApfRtZGF0AAACcQYF//9t3EXpvebZSLeWLNgg2SPu73gyNjQgLSBjb3JlIDE2NCAtIEguMjY0L01QRUctNCBBVkMgY29kZWMgLSBDb3B5bGVmdCAyMDAzLTIwMjIgLSBodHRwOi8vd3d3LnZpZGVvbGFuLm9yZy94MjY0Lmh0bWwgLSBvcHRpb25zOiBjYWJhYz0xIHJlZj0zIGRlYmxvY2s9MTowOjAgYW5hbHlzZT0weDM6MHgxMTMgbWU9aGV4IHN1Ym1lPTcgcHN5PTEgcHN5X3JkPTEuMDA6MC4wMCBtaXhlZF9yZWY9MSBtZV9yYW5nZT0xNiBjaHJvbWFfbWU9MSB0cmVsbGlzPTEgOHg4ZGN0PTEgY3FtPTAgZGVhZHpvbmU9MjEsMTEgZmFzdF9wc2tpcD0xIGNocm9tYV9xcF9vZmZzZXQ9LTIgdGhyZWFkcz02IGxvb2thaGVhZF90aHJlYWRzPTEgc2xpY2VkX3RocmVhZHM9MCBucj0wIGRlY2ltYXRlPTEgaW50ZXJsYWNlZD0wIGJsdXJheV9jb21wYXQ9MCBjb25zdHJhaW5lZF9pbnRyYT0wIGJmcmFtZXM9MyBiX3B5cmFtaWQ9MiBiX2FkYXB0PTEgYl9iaWFzPTAgZGlyZWN0PTEgd2VpZ2h0Yj0xIG9wZW5fZ29wPTAgd2VpZ2h0cD0yIGtleWludD0yNTAga2V5aW50X21pbj0yNSBzY2VuZWN1dD00MCBpbnRyYV9yZWZyZXNoPTAgcmM9Y3FwIG1idHJlZT0wIHFwPTI4IGlwX3JhdGlvPTEuNDAgcGJfcmF0aW89MS4zMCBhcT0wAIAAAAnhZYiEAP/+yk+BS4nRcKlkWAf0mOgGDRLzYAAAAwAAAwAAbZPlLY45xoa6h4AAyhrKXu+8KX+QAAADA2ikAQkETBLcCHH/j53RH1Rd3o3nVeA61qSFfXsAAAaarHnvAAENBumbH5XuI/JoZM/klSMmuizEDEKfXoDWeTfCfYaGdEAar8QyEVmLtN/YC8YSdt1dZfKyLf0ZwewDzMPx2wFkE4AC11XLAvIOfgo0JWXTdUDX9EdFi42gBjrTlQjzP/WjvpfyaJN90c9jNpcNEVIYug2Sd76ECZDU1l2Efajj2pMIeUdUxKQ2voFKA7zoHw5CtZpNocaOLyib9CvYRJBIBtE3a11JfPBTH7P4nZQYDyTfkNmQAC9EgA92ESTjgY3RaV2Obfsd1D33wYCIeIbRRcACBjUWUEzdcEiCMzwK+WJjf5QiiK03tAn8voUJx4+xf/rBXdG55/lGNbQ+sDQeu1tc6AABZ885YhzyVtb0/YmZ4h1mfKBwpw/4zEykAPqU/VxGwUjfnjRpp7oIak9o0nC2IHsHKlAAIhoj4Gt2MgKVahukgQuKebR//GZvqAANrelkss3FXGDuxcy9q15Xmn2Yn22GAApxJ32oE+JTn14erEpEAXIdtdDY4IACPohK9oCjtSC7tetubKi1u1xJScUI7dyxXL91hJirIK2mwDxaRwaWGz9yT07O0TuCOplLqsdo+6dvZhcgOilNRMiNVAbcUTH4T14GYJofo2Pb86AHYr//Ss4V3X09tTszvW0I/nvD28j4zkpsuRbJ1/IjNwrJrbkhZIVIdQ2x2pOSNiwjTzDexbXYtVrP+DVVggpfVVBioB8c1U9NYp5BbyLxeWnKrUBRXWf3cd25907MJxfmt2imNkRKmOBmDy18mjB9gYwTnIgvQV/4GU+/yU13vXC5Jjl6PpDxhGnmPDIiIQVCzKBfBag5WpUqUGUGk9uO2dk3inC3MIoAdWJr8/2dVVCBxpWlz49sHQ8s2ntwCwXcmv3yH8cID0kTq6nMxQZVqdjJ6BA3KjmzBWNndGYhz9Y2i/tAEnWAFwCV+wTw4Mh0DywhtSYevakW2hOt59TnV8q1Xk+iSbGlzAEMBOscxme7LCjyXK/OznaPKIbJ8nt9fQvWBPgsIiBNZH1HVXno8reEDXS6TVWGqprMS9aEXCa+j9s3QbEl7q0yzHw4HUXHpE2LrGH3+abcxWXjiBEozW1lvrEeZ5VynoqkZRcRIN1EItSUOg2FlL6shspwuWtqQ30Wpuuhfu53t7675F1eQgr5UCIFdgJqdwejQtWUMdfKwMmhEs8Xf4Ob2ofPUyhFK6QgiDeJc8fcdb4oMmHv0TV+niubolJUVXIMHD7NRJZmVQBv00dvkVHsTFNOMdvCa/RUX/xjHEvfusAOkMlzdeZrsAYeXvEk0lfYdm8TG6A9fgM7HeG2c/ai7TBbAARSJ3jwBaAp/P7OOhTlNczvixmKKpdyArx3uEaJKTkNDaJHDhMnHEQ7ga355BVfWW6fIPOxwhghXNU/bd/cuJP03uI6cBmtETun/AhVWEumkS8VTyWJPttNIcbUhedtad4wXDGUM+zTAjKd2TYf7dGjQAmQGyr/kENbicqNsltmBfJyvAykhQyws2CSucGgnsA9tOGewl/K/uVlBiVXtrNNaD+C2AXgVUYMJTMpTnehLuaLTBNIilf69DpjhM3NOrG8UdkvtEhLutFwvnQZ0mwSzMbyK7+GlQGymA7sIPKsHlDkpe1s5hBtNuBv+J0NUqaJTP/9+BtWJVhzoS6BPNNXcJKekSJF9pyeeIy6CJBdxUlI3g4j31uY8vFSyCADd3wI0L3959NnBdqlK9R8H1N6V42lhv66coc+uOsQLCn/0SIJgXwB8W3rVOqmvjNXhVz9WVSbYpuwbMm6qVZudhprpmvNiTdPC1Etcl7FBAdCeSBlrSbac5cMLgqbP8gUNSZNV/iXmwmDB6C8TKe5uaxk4hKBUga9ls4hmaKmAPygSobv1qP7wDqUIcKHexd4iCwyamL3n2z5h+LxFuMu8wLml9cKEUdNEwp+KK7VumcGF4uG9bOuG7531flfGhZB27wEH99ASNl4O190toCvyE96/vtsGpY/vMXanSNyCVtZMUGBkG57zzYZcjluSo+JHZU/Y2a0hqSNmDDSOOnwxD80foxSI+59W6OebDp7pmDFZaFowK0PeRH4KsaSTu+DhQKspSCivwDbN+dLY8fEKhJVPiDfUFfsZSBSbN+Dmigkbvur5K9ZIYETeb23j8jYgKyjRNndMEyGvs/FFPKmvUXZFs8Tu4K8EouiRjYafD/FM+xWauR+EMtNM6MJBKKTb7A7miRpVQzx7VwCGgJsfdJuVyS2T5EHqHPzFDVkh9NbVlUIVAOiIMdsaTYPheamHdpeoGiPLVZkHBTAiN+OFvE/cFKT8WaYtS1s+Fia8HHTLALf6M10h3eQiBE+aMo+Hy5lPORGAv5k6iCyvQobr7l9RqfBtFmM8mZl2f5zw7P2OmaA9tnIX77n6GFgi0uEhsu9vCeffeCpqIoTITlPpxS3IhmUXcN/mFucNCCJiP1wq01K+Fs0qg+sQE7oAt55V7QlcJpREPA5b8+RcsipQzRnOXm4lJZNjkaf3dVM0mCs0dFpSMXFoobgVcSEOq8BpaB/RBv9PFxQ3HSxdUzwigh0/xqOfczzGFrf79/iKYzRWv2qdPyJgwg3tAlLys2PWsl3P71bB2mPUyxDj/2o9RLQbfRpyo21u2iszPI3OJjASzyHeicKH6FO1KhSbhX92N2HH/VyGYbFweqla+MRSZbGikyPFhFChzIPa49zvlvsDLCV9vLpg6t4uNjYHo4Qhb/G5FffiIRns7OpW8Fh5o5Ro2tEnffq5HypdR7ONIN63N8joJVSJTvR796xsLrnVwqpJa9BBxpXdvkEJR60InyBZOkUYxGMk6wV8cuJ+qKaO91DJVRs8NNALo5QHRc7W9RMrhGP5paIWbZQuNzte6ECPcgOxzYYJW9DzdGjn/9kAqN/SmQfldRUn+PpW9UT85YXPMZ3z18bIUfQbargZis1afC/HC/bWrUROfpKhkIyZqY0hK++xDt0bhwvRnTtDNVBP5eX6Bp98kXhTIkiG5Xe48Ztoz7jmL4hqQta9Ge6EJ61kzk/Qiw4nQlVb+avEtL5+Zkp0lEpqPIciCIoiuA6Q5gEdnky6AAC5sTV32ooecUszoU6g2MLuLXJmoRegsAPtqby/dPvoAAAvSu1iHkfnpcJNDCBLyk+SgF7EMRQNgAApEMvapRz4QyoGUfusooZ896H2b94BZkBLhuOjB0AAAMAAHx+z3+Uo5/FJG8BBgm/UgGABMP6Yc8RKkm+GT+pAAABR0GaJGx/AAADAfedoxalJaONjfAAADSNBE8izpwz+tSr4x4juixR6tkRQE+8Np+8TdetIJhZCfvpbvwasEFVElARrzrVjJNVPWtITtjT2Q0mbcwIxPXO0pKYbkxbJk/OMMWsQjz79Em9g5+HidypimQTtjmyd/od92BaVf9Mkn1RAwo7dbMO4R1OlNy0f8Q8htrikO5StSbaaEJNjOtyUW/CkgpsPyvXf4fvKgn/jsXVHymyCk5wXScq7HF9SYqGPTa8svzSkVrMXoP7NettTVIFj03SaD6ZBKFpgOsOjiF/8Jn1y6YDGRgEEbdMUudYS540TQ5Bp1bPe79kOBPWdwBwokVMq5VWbQQZdmtCUAOzgx07Gn/k/sia5jdMeVgjqxKp/pJMkTqOSLrLhk2BBg/ugcz9BaJpBPkeVLudCoDpJSKgFJ8+wAAAALFBnkJ4rwAAAwAAAwIpZxVBxGqzUfB2nyYS3SB0JZnTK7rmgNIAy6Rr5AQMkvsCJS6rlovhmk9CwatTzLnJybbAAAHnoV1VBeDSByeQthe4aEUuDAoPnbQ8nidGIbu46Vs5lvEcxIgNrXPTIDSdwOeE43G9hRS9I5Z/0NR4C9qylwAm7yND4ymGLjGAbjblMeUs8IRngV7r5C4/agqYo/TVNas5knQMWqhTrUN1DhWAB6UAAAB2AZ5hdEn/AAADAAADAkUTFBu7DqJxW+k83KlH+rfkAAP3nApqsBjYi34/aTb8fZsCLwXFDbYmQRUEnTwd54W93slRpd/zuBhKhx0bQr1zhH8+mg/LEOrnRe6lMiFZuRBN2vLoVyll1bDG+jOKw0tBm0YBUAA7oAAAAG0BnmNqSf8AAAMAAAMCRQgAq9CQjoccj8cbKkfIFrfebnsN9cMsRYUNZLLsxcoOGlJlD+tbvY3xrFEktE0b4H0KKGTCOfvpoYsjt95k74HF58soq590P/G+5rxbEXlo5NKYRHHnlrdp9AoAAMCBAAACZUGaaEmoQWiZTA//AAADAfG/fL59hAxqAAAGL/TipgJVAAAWzzB40wnqTXpr0dnVH2Aj2ddpjaRJ2NFVR3K+tqBGkZ0yb1jhWGUC1lIfhe1ejppy7+MvfZYU8UDjKUoozbRsPxDHBr6VkpQervoDQ6jM2R4nzqx/e3lzZlHBTHD4NTdR8pWB3PLa/4Ysxy2xM0qdY913KpS8Ok+FjXMMgw4X7eC0UPtw/0AYhw+yBDHHSgTWzFDCna5aRVhQdheucmnCpPtTnOP1ebBA/2UvAoksBsJutFIn7I0XT78hKJ3taHKXm1EZEqO6CPbzG/qFYewr08wtLjQN1KbwH6BlNAL3x5vAVPPrzounPWf2pi7+nSe3rVgMyGNy31UxIeiRnyFj5G4Npm2ADrThE9PwJgqQqPWs0NQ8uMuY5Zm5xMt10ujTZ4LZAfN282A3qfmc7HNDr4tKLvvzSCUzA04HqYvOHJ63fg1wrubD/IxAlnioLSPt7/PAFRiD+fBh+dqR275DrGtxa/D0HGyd7K2KuQPSpJsGwlCelmJ8pUGCReebjMjC+LFc1Qnt4SA1LQjVaNj+WgBZyyI17yQ4XkyO0Qej/L9a7gdbi4Gth+LwJ1jktAaD/qfqwif6bLWxecydzconp2NT6zeN9nfLblp2CmAWVOL3QOk4wB+zOG3v7T4VMoBb7LtKTEt/V6QTeUwIqnjmKiUGZJbhTpHxg9oK9hGKS7Je+L2F7ZZDQ/z0aYr9vF3Op7H+pZZREzyfXIYD0K6LV9geBIkA2Wn4D/77/SE0c4k+wFyEpKRjfvIbR53cR4X7EMEAAAEJQZ6GRREtfwAAAwAAAwIiDcwnsMXg0p6sEo27EwTWsoXYVexIfPGZTOTDACR2TnxF6PXa97dxAke7NM8E/k4+tlXcirc1TY01eApqorlNqrNddSxtgI0tkeGeOWvAhdMxC74eGKrWnZVqbFUWiKMZXCpQpsp3VQH/3XkyYaS2qdgE9oHtlNhflFADmXmM+enqvZsTcc32XawcxxiyAArIJe2Tw60PlRBcbHwuxg9Tbl024BriVEcJK26IiHfWzPDvLdA/0PLTociEfXhbQVJ0agyAQzCHVECA5W5K5RopKpoEpm2jL5soNhcp30vn23odiWny4C9sBTxGkPAmTcQlHkQ9NEIwtdAKuQAAAHwBnqV0Sf8AAAMAAAMCSlNu9fv4ScK7AbCccRNdo6hbqsAnE/0PjnAD0/QwFWIJp5ZIzzLRjqRevYV/WyNG019KYXcxRSBZnJtYE37F5XHh0nehtn/h2kGx06LJaBwoKGrZ/GbG2VPLHah8izcQEcpV/OBfwDX+atwyAAP9AAAAlgGep2pJ/wAAAwAAAwBLRE4UzRaByAWkds0k3ghQzhxhA8+tTacG/qSbS/5b4jHpKgjeaHvZdycx432jyrxLX1ywsKsDY95KRj+Hwi67bGrhwXcWwgFZO+0/edjKZBj/573VuTINvfZdhce6mhf5oDbfVOPregOLS4r2+Fa4Ya+MMDUVqN2X8kiAkGooY3a+scw8OAATcAAAA4VBmqxJqEFsmUwP/wAAAwHxv3y+fYQMagAABi/PUywAAs2v1rg/ekA5UiHmfW3JftLrCOveIaZ+2XkQTe8b6lH2Q7tQvHL7oNh8iKsgJ+d44yIz95zQFzgsCTDHf9vX3ZOMXOEJ7OEV0mMepThhReX5Lb9Y57neSI3GshIyrWCYcnwG5m055dZiLoA2NUZmDnXnCDGv+tE+ffn0NfNKdXK31gMHaepBkSFg42XgvUVsrI1RMGk8258PSxR403ahmXQkfvWnOSQL5oJIdVA2gMVUMNskVv+wc1yRWrwKYUOilRcKsm7IgBQA62IkTQ2+up2Z8wnavuwkQZvnHaHJumB9cfOMENn4KkxuxrFcPg7QMwjBC3vp5UN3P+kDltflbpCyCHvipM+OFUJdny0ypR6Omx9zHVqp3wPgd2hBtE5JayXqI+WRpJSC3QJzexoaEV9t64BYULRG/JnQMitJi2j9rKIDvZ+JE951Qknrt+SYYiiTbXp3hWWE7xp0jx+/iWaoOYh6M7lxc82hvrmGMe92A9LRzS0B9+LfhvdMUPcxNTIL/W87lEsA0zxUGkKWikb1NCFJ3k7W/GJQfB0e8NxHUWGi3kgVl0kfUtH+cNa4QO/++OQiCw7VTUB4WHyzJC308163WzRdvOIQYpbKdllPn7WZDUfTpKXzLLyA2JyoxsGbv6Dm7GwLJQHCE6o88PLe3Jkj0cpk2jiooHRAgLsKyMksBx65OR5sEAzRYfnXhH5aVRCzra2mFfkrIM08NxK5mOOLt/oKnXa4YV/qKAAcmEQozdUsadLaIUHMX8NmHiS4/JjxbeD2bbo+RSqjEdBkuquuwwbenr6q0xkX+HJ7VxgeiL9SGR/PYQUnvBfyv5G9Tw5ybHNF7h5Hy4v3ze0YkzkSVqJ5H3lxFUi2a15K9DsE0SPCre3kmyH46rpzGQrpGoUeAVYAZ3Y+5LXyZKG8cCqwSVn8E84iusvKnKmaedPjq8FDEXANK0aDs34UALhY0YcIRojHscp7S9oSqZ6F53NTNyF6O5URfvSwHLwx0Upy/uPXxMJ8Olx5F66mAIvfQl5+Gfa26AIm7KcZhOIa7fjgI5kco/Sg1332yttNAeV4w/P/s7zvgnARdLBEoloCO2bRgVzQo8ltN2FCDhYkBBntHFvIu/PGmkGZyw0hwgArlZHbpUGqyVJBzSmuCmn8ad5QAAABn0GeykUVLX8AAAMAAAMCKCbd6+8XadUyTm6X6Vmh5sWfQoLpwAZlmsSeNyV395c2L2Ms5a6DRzg92uphNIITHDNZDAdj9JCM5Gv4vX7Dr+6MINtX17jGj061+qVlZIoRpwgkVthpfOIJyX/hXhSFwXn7hRoxWBQQ8lX2nLzOV2hwn6qEsBPS6X8kniIupqSD2+36ErhghrnnW8IOaLfLfQNwJy2ylAP/OmNwYm8Kmy0O+dJhF3qkLuHtv2XZv+Dr5e3gSeddsufWXRGBmV4xdFAqOL6VjZg+uc5HeUqph0bSnRkjJxghM8Ta0ioLegHOkIAe0kUcbshVsEWHIck135ZsjNapaUOMubiH7HxzWhqSeSIrC9B952Z7YipfzgJqk/Z03JmEPEyP98jBJa0CqKU4EyGHXB4XgUFmtA5pjnbkIZ5IohDsNIGYcb8eryIK6QQ389jQWVVM3wYnkLP5bOXGoFbDo2TXIVHx4D7jRdHrv4bFHAHfHSNz7LKKdBtc9Ygd63MtyBoRDujTuLlnwe0jQaWKKBSVx9BYXUbgFlEAAADbAZ7pdEn/AAADAAADAEqeyRGfW4Xls/7Dg7LDw26XBh5sOGUqWm5F1bRB5T+9fdTxuOW0Fld4t1W8CVxpdl2LJ4BukbRMCOnGSk3LCWtJouhKXs9mZRip3JPxNy7W9Z/1/fY8rsWXUX2RbSvHEa9mxjZtNi55oQrXFzM1AUbdmwD4HzulUFwfAk4Ne4H3x2yonReCkCfvnJi9lM/yuZIFCl9HiebkllioTfpyrBi3TtPpRDtojO4D14Dnq3+6lIhGgEMHyyLepwjQe0T46hkDBPx0kZ3QtIk0zAKSAAABQQGe62pJ/wAAAwAAAwJIZY7RWJsfIDJ8eJvrAH407EaD3NO64InksfsQ+vXkhFzxKGXoJYxkpuJ8ooG/pRhAPW1G90HGqUdWAFScV7oi/qok13em2eNPr7Zm2K53mwp2PnQsS7XqASMEfu4G+L87K8snA6qAfWA09a5E3knYJSOQ+xFJYO4F3bkSoUvHW3PrAPNy2jGh3pqLx6xlY3ugP855c9Lrf8jG3VSweqsJ6qPynlj9za+aKAPcWXvAU5U5g7eVWQNYmq2vxif/T0SLpxEACxbEzpqSKFYDg1fcwiprPhQbRpJisyKqe+Q2Wv172dY2IiIyzRg/SurRLAB3+uRVIv5t2k9Ko57LRSq1ECGx2Qvq+QEY1V8AbCHsdr4eqDWVEpyLrfQ4aXXSXhu1gClXqGbXH7eKoBz78N2IgAARcAAAAlNBmvBJqEFsmUwP/wAAAwHxv3y+fYQMagAABi/PUywAAs/mDeDH+flW5NvUj/TZEp/QvN35FrxmszzjeQunsNOgEn5Yi72d25R+AqstqpQuclBPkMzHPJm0OF4zoRp+se65+iVeNznPjs1hXB1dafOlMZXA3S402dTAOfFNfVtASBOtWcJ64yGMri3VOEIoxlpnnOLstFPy4yONfQETqOK4o5R+yfS5kKbw4kHO+X75KR+fIhHYIucw2bqwKBfaEQ8TeiTWSwTPMScIWHhDlygQ1DCSMctqAc/zf3Nc1qHQIZJke+v0/oi3HRPRc3EuHWHFG8z9aCPsIOqcGgUCBIfR7d3sdJkeUBKRBTiSj3/Ru67+Fq4TWV5tMwsP1COsg6JiZJRo2DXFTUmm1Ze8OYJZ+Mpsa6rmC3npn7E0FF/Ejfl7xH838LSeknw0uNKGEHHz3MP6J+agOH9ACsx8JbBFl+iAUVAmvQRtF9Xuu6RVkB13FWMvT2NQFyksHOPma9TMbBqEwlxo+oCUHIrZKapjRE75zqjuMAHSAWYBDhKN38wPwmo69E+BOZQC0IMLeKJH35nTHuszkH39ORAUCJik6abb1DYqUzfpERjwZIe2H5bLZdqO1g3rcHkDTlZTFCYudWAk8ZH+OrosYDsrESBANXNzEOB0oTeWR752+prUAvZIML8/pNXBqvnT820x4ToRhOd0xhknoWvTGMotHX1u4v5y1STQCC5+WgH/WYvuSmd3onS6Drw51QbKqKO1mtn9S2hmGkQrp0Dq7JBEqK6CCf0RAAAA50GfDkUVLX8AAAMAAAMCKZ2V8NX036Mr4mrX6CSvUMgCOKTUg7xhK2cAaSzh3iQ4GDef1oYC0Na1Wr1xh2xyDXifVGChgli2ryiuLX+Q1jWRGTg/iUJRQXmwhGYjVE5XdX/olIx/EmcV+vDi6jFHuCrWOfow+3sTPdKn4DWa7hwLH5MtXZhtQhHnGOkfSSddklxVaxkcZSZXH/KCnCjDVob8kyFW1mb/108Cb+m2qyv+DPhCTotPbLDoc3XF3ZCYIgMnccvVrWEpsv+9lP8X0qq62h/yYSE9/nXcIg/Efs1pHFf74GwDgwAAAGQBny10Sf8AAAMAAAMCRL7DFDwkHJdc3dKseuPpTgUS0cbJImJu8j9rTkG7dOMmknoWKRPxlicuQl39lCqWX60Z+9cxo3pyAFgGKQh94lHtaWBzcWDuG0m2r2n8KUoetgJh0AOnAAABFQGfL2pJ/wAAAwAAAwJMSD1jnb0mB22DrRJAEc6BLBS3LWBI2seup03CB6eWiJHLwRwJFLWNuANgrNAW+/+lLuUrNslRvXZHY2I7Rx/8O5867Y5v0qH1VFoiqhXebYTiOwRkYCAzPgdrxWhIpGOQFxYlegEUNOEVyfBZoEwTxpKQe6WpivtRa2BaWulJF2pTyXrNYHPoADZ4Emfutbiv4IxaXumflhZzaN+47v+z0vw+F97li23DZlBcpNxdW02JEWm8VNfWvkjK7Acv1IAIcqdrrrs6Nx1kzWKcNRAwgu9TtnV6xFol0PPp2WCNhdILIg/4dAHs4O0nkv95xcfR+g+6TbAdiE+Owf8RHqJTHzwCtOgAm4AAAAJ9QZs0SahBbJlMD/8AAAMB8b98vn2EDGoAAAYvz1MsAABeS2ZDy0hzMm6tzRt+x+N+mGhXXH7mv4a1dy40kqkGnYy91cNDa6hQw/xE1fx3yxW7aZUATOQFEDz951fVmpwNFLlhEJ/bAJkV5Pb3tsx7Tu6CUwIgNyX2GvpqqvjtoNATMRdVBe7bE4N/sUHtmm++iyJe6ny8gJECOYnfoGLCVCbXufBZu8gNUEcZaI5uJGunrYh+C0cT2hJnxEzCSOcwIZi7863dLpvlW9DDNjK4vxcGh3JySpzDw7uNyHHVZPyRUQNmv/L/r964TETBqXXDsBCDMnpn2tUaKH4DXE1qDVESXjsqDiTQPaGb66fb7cflDro8AzH4vs9gkX+EQ+soU8Ms0bROsqIkONMymdWMWfPqsnQ3qJB617Qxj+7nNFuCDmALdVe/UGqYrhdWGaZDOdzK3So7LoqAUwPVyatfbX5Tiruju4oz0YWYWIYJrXq/Jr8yeYdhg4vuTY0BHRnM+fGzCbKR+HcKCFcQxbM+DAWIUQ3XOwUbj91xVMD+8TmqLmIlHIl8pYBkNNSnlmcBFoQ2nT0JCxDmfA0Sh7zvS+GNeOdnRWC/fM9VUJQk9HM3z/kyBveAVOhgKEo3qlbBuAv1GJ18FVBRT0rS7CAf4/CGzY1X45YLg7dgDWoK04FmSiwKDhklo90r01qV3VtqqKB44i88JAfbUFNVsFBu14d7pgm8jthM8fxeXakr0y8YnSPgMAGAq4Td5ILFErJo5Eyb1Sn07CD/4EJYtJ2vqvNe0nchpqDl0LM+h4BF11ZJazqxEsPH10KDZ5MTU6H3vnKeMcfeT2QCV8ACPgAAAVlBn1JFFS1/AAADAAADAEhCP5ChcKWmhGWA54cXCZySYFwWRqMpF3hogTS49VMiXz0DuUr7Oiju1C0gTw0uJYU52u9de+CwO1IDPDXAvlSuwmuv6az6+Th2+FT+XGQhh86wYS+ru9bp1mTfW6AuMn4DOL31wdIYqXMYnCS+C/vcSsLU93AptbYyGBfxgWrG1rv5oGzkmqcLUat4pHMpAJCNfWn5UOTCRPxq5l65AlV677rSbCqlUuU286XHyJ6XEK18d/7o9JiDsNzsFSxG5nRsN2lLV2aHyFcdL7snR8/6oh1ZVfR7pKRImudmUo4rYVOE+689/Wq/OQ0T0nVsKW2TCZrZiMJ0X8oS3SSS/Y5kOZAFDM2dk6maaDx9Z1G60FwxvkVtSEwX+AfNaadU7bBNAegsMTb4smhi+0+RFWvNAlAdb06KtD7gWcSGpMPhU89bHl0ZhCGALaEAAACgAZ9xdEn/AAADAAADAExBbynJ5RPzi6XrTh5huCV+Qx0UM9zCGYAUH5XtcpZUhbzAxdBe8pKAhcWZ5X1d/e9Yx0DnK2vxKqLGFHJUVumALJUg/EJ8Vih4ZHruge/5frIQxWexfDHhuBavG9vZ8DwxGJ0spf0U73ebyQxHdIEK/t0rF3clg4DSDgsVmKURDBr8nZhOQXt1E09/l86DewA24AAAAKEBn3NqSf8AAAMAAAMAFv5WtShyILdVKNDzS++4kQ26oc2j/uJuWIQB3V4bu1sRw79mFdTjXW/Cpciyvr1iM/eKdMDhsCtIuBkBjOSPdPu1k6abu4TBCYoHvbQkXaCQmT+lVGlQ3hbS1F3Z8WBlDQb0r/S5d2eaA04MeD7NqFb+D7VCLUWdwUyiivAmPIN+y2HXY/0aVn3HXfXu2nj90AADAgAAAihBm3hJqEFsmUwP/wAAAwHxv3y+fYQMagAABi/PUywAAFw5BhZD6Cf4mc8gAABSJ1ZgdW1JnnP5DE5nhNKOI+qY4mzzc+bvcZk844Zfb8N2PAfHZGmDJnGoyhE7ikf7S10Qqr5difE4/9cbNkIUwUx6Lmp51gqr0MyszJfxJp6DouLIGe49zaPfrCjQJnXj9WRCyaCjfgfmmVpEoXEv6ObAQD+ySfUwG4LACc0rZX6KRIV/kZ/CDa3PXO1khKQjO3866C+09LAxnlNQGUecpIYkZ4g6dxAqNx+/gGP0bDl4PgYkKRM3jmapSYLqWlW8uXgOwg5qJULOAb5Wz3bDja5wNqx0JDzp9qNQ/ZJWZD/PoX+qQMH9EgjPia/qnLE1UXyBenBH5wZ7m9LUEfu/mSCj8/I0Mz5KJRZQ2GAuy5wUUwn/FxCGw1wDsXb4x8ZDjaiHFLw1BxoVmp0JvYZYyIT0+uXJspASUOmzaZRFS/xY09v2faAqZcQLNpvJlM2o2yVJDG+HjCGTj1q2cxk+xZ98tj7JD5xNTblZkunpVoHfV/PXprwr4DxqLNxtStbG02W3mSHnm9dqzlNqIjs+elKmz/jX/kvKu8828mndk1S5CY4JqOCJP9kCjPiVi091DOBUevpenUOH2xMt2Ag79ipikBgTipiB0oabKRV3nttOERYU+4bxhouaIXPJwvzU0grZKjjloR7CzY65nDqaMciJ1JTwGfnX8YEAAAD4QZ+WRRUtfwAAAwAAAwBHg4S4SjHSSYVHtHl4JlTMb0L/Qum6YsXv7AYtEmNKIl6Kkyn5l3SH8ZxYrhe49ViueyKIOHlqrm9rwpnIGuXaBCgGxsQL6qU4GjdV9PFX9D81ERimuvbYrtohNkuMnjhl5BXafGlqwnbkUCI9/QP5qloxs0JVW+L3J+e+YfIhapIyMGt+RL60W4IpcLOoPFXsBD9kAjd3hBQCnolhaVfGfescsglEzKE3FQCq9WFwycqPvWOhTtqVdeZ5VigAWv82c4RXtWzZXxd0oFpk17NtJ1DH1DOOALSInajypB7bMPrOtooP46UgA44AAAChAZ+1dEn/AAADAAADAEsPQajgyyiADyIFYKOrReFHSh69NQ4hCy3WZqV+dK7yuTFHtx1tvJCZcgM2cCFmQD7G+04GZdmmqCChr8m1kTPgT6UhmRuWiWp0ddQQBLHFiN0mbBMPyFdzb77v7Yr7Ymq+hGgf5J+7LdwCTNbn2XZ5AJKYg/gkt8MwH/hsCC9gZUEc1QaCHaD3O2A4VpEz0ojoOqEAAACXAZ+3akn/AAADAAADAEs+uo1TwrjmEOyCju7gua1Fp2vbm/IZwmwyzwXH3W7y15c0l3BKJAHA00NJBpZMdW6zSNGiJKBAt153rOwkXJLrUQmsslp7TlsquAE+7mQmf3wH/+lpLjTCgzW73CJKycCQJkkb31CfiMrhVUt/cQ/2sUV/xLIB1JycNP0vCAIgHTLXAPMhqTCygQAAAfRBm7xJqEFsmUwP/wAAAwHxv3y+fYQMagAABi/PUywAAFtEYPCDy7uZ0u526uYoqTLGoMBZN6JMQC2bA5SlNe6zkpYeMErz/1B7jbOAetE3N0iqushBEP8VuhxEdLx5Yh9Nt85WccfCwRUZRD3anbWzr2Ud/o6bNoG64GaAmcwSFDGEHW8EAxZh/isQemYGUTMUA9MNZV9M/CAcRUjzuZpuhE9FOo9PlZY/GYBDEMPG29cFQT415ckgZy9MBTW5J2vHA8n0oWWUrpDAxlcAhQ4Xay3iT7yoomHHy1oD7H+QfPoGtiFwWOTpEik3ah2p2UGlg2z8djl459R8qyVhxuu+aScxgCxQL3PgWtrGaFZ3MbhuBzuxxG3qVYFmfHGPfF5j996Exhxp2HUlOtuyG4lmg8uWb9ITrzxRjkpc7Ueb0UZ6f7y+iUFdmVos049tr3X52kEc5ix7NfGwlb2hcDIPjoBqgJxISmvmlndKzzRi1/SNQqgdjcQdUoP6Kp9XjkuntmKU8XsU9C6yV/KVSo9Dzc7ANQUwUY17caKPzWSIpBC0cyPS3lyLpT86PmnpyhjLnXqP2WD+ZUT7UxnbX8pr+pSi3mOHEg2O4WdlLEGkw1rLBjUb+nedhjHnU5/wFvH1tI1AFNxhrXsLyvIdhbVwSABEwAAAANNBn9pFFS1/AAADAAADAEd2BbXjVWxT++j07ht1px3wM+nQrb+dE5kg5+E96dv7z91/3LkF4XbbkdYR1UwRxKgikH+DRKw6E1LmUiN67jhEA/vGzJMGXM802jjWfc9NkzYXKqfLAoTNnVdxk6FD7PpVuVv6qOz59E/TELPdpRa5irNmxQFP2cQpUpV2l3q09sGIHKz3vnKuBIHSahgdKkV5nIBeEae419roUXci5bgQEDBoJBfqMj5WntZ2VgcfasBVllxoPglSprB5ChOvBOsZwCVhAAAAhQGf+XRJ/wAAAwAAAwBLmGifAikX9MtuSQtc2PmXbwL0xCf+D4CugFuwjWOL5hufmMgk1hHcr5KpmTiuGDiL1GwfsRyX9mxlUQ/o7eNO2LiYPU7UnIbtzkBxefjQAVsZCsCAYN/mRIr9YLeFAe4J6PNbNC1KLc0ptGfMgd1jRUbvoCCwCkgAAABuAZ/7akn/AAADAAADAEt9pHFaeM/TywxtwlKv073FU7VALSQ+B2CR933/XBNFqKWKlMDXFoAU4KVWGH3h86qeVeVcnV3x5cMearJHVwKnroI//CJce9NrZmT2un558BlvC9kCeMp6iDTjTeIABd0AAAHPQZvgSahBbJlMD/8AAAMB8b98vn2EDGoAAAYvz1MsAABcOQ0MlirVCAVNTujTVpRDy5yH8gjDlxYNprI1ACWlTgQrjKGrF4EIeZZxnL7Mn60AVhiGpZ7s6ieNEdqttHvVofUkoKGQp26iue+C/pj6i0WkRCl0eaVvhZxlsFu6Tu28rdEnjbgnbljVoK2814Fkm8eR3vnfjmRGjzV2LSemvh2xq54fAF8n0kybVpLPtNynvXGdkL8M4nAjbL2cx18QEgG2d54aH3J0J/3NqyAShhofJm1zNfCfnYQ/FkQN2uz0C4gB/DBGL0U2I/tYDomElSfpAJlFINqy8/Vkd4vvNAIKTN5PJm8ctYu41QFKiDRVOBsCN8oGmowvIg5kEXxg6yPYAJCaWhvAcaVPY89UoCNmOWhml75koSmjWQDTIZNeQa5ICDJ9+k/Cx5pY51EZR/54ZbJUCBG6RyD6v34OwP1qLZpEjReqtsLcfTmjiRvpHm55obIwnDWEeHA51LzEuIl52YuJHyEMvUjoPwWAZGv7JLC9AM+/zfhKBNZ+IWtFBWfqGj48yDMDtOkqsXNAGCTiqEhO4HwL4evqADKy9Adv451hyEZOIvADVgA2oQAAALdBnh5FFS1/AAADAAADAEcua8+71o9aXcraDQONJlCMfACEmqfcPeDoMQDzrjKifEZQA36arEvkFEMqI2c5cNzX2EHw7XpKCWTMkOf0nSn+TPlGXIOLxHaLcTSGNSe8gcOm1ozXQzKbv/aHqCfYsDay0FpONJ8T55F09W8JaHpWbm2lHr9Z4rtFq3GuKalWj9GhiDxD2E2K71vva+WuJNe4wma6wfMabg83D0WK8Am0rwEQaCeAGNAAAAB8AZ49dEn/AAADAAADAEtSO+O9ey/u7fh4nt2I8UEk+YpUeaVz3u0j26K8GSAlf/sBjzXqVS09OUsF6zxnQy2CLhDSInDC83v6wBQ4EoCXqqmY2U6S5BMoeK6iDFOjIS22T6Uh3NcyqDkZvuk8PXEHXq5oiYZgsaatMAAPGAAAAHoBnj9qSf8AAAMAAAMAS5dT2t4cB/lxnybRYahdVPE6gyVdPRhB1Hc4f7eLJnWRImWLU3sxz08Hxcy0UDiwdl4HTZbP7cvqepy8cdMzSEUyaq3UL1CWUW06ZiHkhSjvhDJsrg2P5xBw7R4rlfdbPu3mi/UpLjphAABlQQAAAdhBmiRJqEFsmUwP/wAAAwHxv3y+fYQMagAABi/PUywAAFw5DQvxl14gSgq7jIqYAscw5J+/MC0JsM1F/fNoGoFdFb+4hr0t9YEu3huslYjWCgv5z7BobZy/8S9J5WnpIuFJ8Y0LfQalQkNvABJgvHnG5bnXkUsxSCCl6dy+wK5sPCcTr+jUlD4ZBFNbMceg0SWGoIUcndPPNk7hLW5xTJQR+oeg1xgcohz/bhjDiobuhacDXzYqkCow0o1UsVmfoQ/Cy2GHNkAZMVJpCwWHiCeFV7RX0YqHNTsoa1AhZF0Vc3CbIdpMe6ZAiuDbzzUQVnRdoee7RWqN+mGevIpHcfnq/gSmzmWavv3VYIb5D8/zmvU0CscOxRXyckTk5Ok5qFOaK71ZLkQZ6rycw5otw6dsK7xbf1Dgc0WFMfDCJ65aufXPsVfdLCLNY0PSLnZ1S7DlxUsNzGOVZ8R0yKxBQtp6J59d0B6MDA9YbxQuTanV1hsrkVZwPaPqWAkOnDGXqfFhJYc8D0q8N/1h0A4EPpH+06ItTVf8nKk3KZu/d/uUpQuvYQb5ez9UabiuWMLgQ0JuYoUHFcrzODiVInZ57bcf61iikTNhZzrdRCOoTRXssIU2fA1wytnAAAABEUGeQkUVLX8AAAMAAAMAR007oZth5ZU4/NMQkINfeR3y31rsDh2XBbz/+XFv4jUT2xnn6KvuES+jw6rwt1kDJuI478O1rEu2Oz/o2BH4bfuTL8XEVF8WHaM7bKteu2eTH5TYN0KnmmYmc4K4+AWan6hTSzfj1u0yeADyHnMNv7eTPUmtVM/GxmuI532Brr7/3W1fsPGyoQoeAC1NeqDtcHRU++mc4MWwgCRClLlcvQkSygV71D44AqssQ6tiqSWS9KjN2zxj2ac9ZPgjosD8iYTKuJNNcCeW5L7VvmmO9tflR8q7mcwBekByqWCw89ZJaJ9TYISY0wQGE7HsJkHpqKcp3YH0Ly5THY5OFZWlQkJ9wQAAALEBnmF0Sf8AAAMAAAMASpqJ/95mf020J2Q9Yv8fgZSNslIJBIo5osZMtfA6Ag0xEHsgJZ/amHf2/IAIta40jLZSFxVkC2RXpF1nW0OQkRcuhDJMkn+nvVPGddVn5Oc3929+VmNIe1o9/IGvGqaiHBL9mRQTmEFSKuV/iv4yEIy5p9Vs2vrr4vhOmrUQkOMe0YT8bNDs1mr6kq0gudm4XPIFfeJXvfS9O7SORZ6gHJIqQhAAAACRAZ5jakn/AAADAAADAEuZRO3L+hE16kSQ7H4qhZBWjMHVc4xEcQJqto+AgoSxLMxAfF5+2s6LdbsQOixaw4z3YZGc7OQXZcLh3e48+oFjzIcXu3j+o3d44/yin42+9k0umbCQ5BtbmEAWl+wzhgbMniqHDCnwxpakLGjG6WjK6OaNa3I6VzdS9MAzuquup6BgQQAAAaJBmmhJqEFsmUwP/wAAAwHxv3y+fYQMagAABi/PUywAAFwCP5jLxmvNQMKdh4QcPao05Xi/81wjEF5pwH7hDVJ7urfZjrqIH18XX4PpeCWn2VLBMvJXduQrnLrNPi542GxZUxRPXUjvlxS8/SVajQP1PDSCkKLpdFmv4akzqGNBrRrd/1rjPwbC9yVw5orejyczHh8jhfLuHPhePJ20ZfN8vAlq7ualYx+UjiPcBV48iPl6KloDP8JOi5lR+NfpChPS3xNzY3zF81nAvsLn9L5602+OXltShK6wm3/GnkefBBPCfMWTzgLXwKXioZJu8/HbiCqeBSL+Bp6inJoZ0uGzDXOJNaCsptR1Ojz05ZywpQM6G8DZUHcsEIujkXZkZbGWB1ah2YCOPLv+DXPaChM6tQ/U0g7Gdw9HSo2fVnGsr33sANq6l+hoWuNEMXe8pDXYrz65/6rj6P2jcDK/XmvVOMQJeq8l872deSqejrYisJUwM7Kr17PQXwh9Mqznq5yXI4myJeFGarhvhxT3xA9S+ZExHbMw6KISz+eS6HAIsqmtAAAA+0GehkUVLX8AAAMAAAMAR3pcDLcVvn+b+wJrjeMl+wyGEDFHVBYMb/6bwPK+a5fBRUu9QuNezvBSl5wP/L/8BS0kouctSW42gbxhvULSNYPEObGTYfsBT6j8dnXmvYxBE5xwy16njFF9x7oAQwyKywpf/nWO10qAfBO3Ole7me/EsDLNzba+Zg1op9OvWmOBHd7ILUBcKyxKAo+pj+NwONqsJHtmBtKax/niQuQK0o624wdsW/XwslnhAc0jXNvfxrSNR3qC8EBLy9OLbdBc4ToXEYX15EUxyAE28uz3XcanFCge4i23TYT8EeogEpkwyD4jY9rYALq64Ad1AAAAfgGepXRJ/wAAAwAAAwBKxE+Cnt5w9A2r44QCL6gOLp8pqQZXc9PhwI4JsXLqOMWS9BfZ4/W/hYr/edgY5AYZvQHW9JkNxKsLh4EKm5NohmXfqBjyon7KUzylVRr8tLG6A5V6v+CN3Fye06anTGqTVXIODOe9QKDY4d7K6AAQMQAAAJMBnqdqSf8AAAMAAAMASy2ol/bLrmv6fi91cgJ+ay1wSxV+VOCHuqYCZY3nn0WO3cRw9+yndJm40yE7bH4uZY0X2DiPuIHk3E3nAsWFaCBsSgmrPAHc6GqqU56GXH4F5soh20lJB7dm68jIxBn76VnbsMEMrBBjRCdlJy4EVyp+06r67Ptmp/B5bKrPliHfgUqAZUAAAAI8QZqsSahBbJlMD/8AAAMB8b98vn2EDGoAAAYvz1MsAALNxFxKfcHMaTur/AGjKNcofxVNxi8GEAqySmFsgIpP+yoMfHAiuO3ZLmHv9wYEsyz/X49OEviuBouGDiMsq+npOzlFTqOR02DMzRKFXKZPyl14liBHkEH/J4zTiOvCxryXzbRLh/R2ke8022/4Jq04RTztkQ5n7KUbMmFFTnqINnHDX08OsFIC4zPdgmqwnFGXosE3a+fCefp3ItsxqbQNXFlazNLLTfxpRnwIaA6PTckYbcUy1e17WDfeemB9n7JyfUv5AYoC6aW2aBZUVluOnzY7JixZm/hOyTUnUUHFeitUdd/V64JSJLrF1hdOBw4CKVP0jO1fpaVbagQd8yMxEaLU4/XnXmS60ON7GX/yuewW4BECfq4KU1m/cN/OBOiJ6hOaFfn9NVuUPDkVesfDlbo69FjPzFhSlGXU9S9o7VI+pHcRzK4h+Cl/BPA3yxfoH7z6nvBr3BStZDtdX23zj3ZuxMQ4z2OyAoidgfukqhsHSmckvnPpF4Ky2WnGitnAEgiClPEzEfav1l8G5BntmQ4q1VOk6JQF4084KAV1pTgoyYQrHvx+J/ZL4vBDv6ZX0FbwWvSmqB6Le2M0ms8AO25Qo0Ty2BAjTLbhHkZuqQCHI99F6w0VKSU2wlk6oMml6G1J8R5jiHcPqZ7fv7GPoddUXOkrZ0QwmpWY/KzxmnXx/SITshh6GDawCoCTDxTmEOflGb65YLsAJuAAAAD4QZ7KRRUtfwAAAwAAAwItYs9xbIkQULh03Pfj1uBbroHcvGMspeR9VaNj6VuxbwDhZ7qSpwf0VAGT63ayQD69V0ZiCsopBzBxGcKS5hDlrWZ5KmgePl8hxB8ukfC6xrJHisUfIWqqY5nuRXR0QyUfjTXTCsQ1ddcVjemsfDb+G+BNArk/JtMZG6W1MqdKyJPAGJM5vjfqaFfJKi/w4BEN8195J0J5ElF0b8N6UtxrDllkeNhxMWI5UiT1Nh3wt7DJufNgAN3FEcvSpilGVXJQFBJhrxMvB0MCAVpjXhXJEknkEFm5+RON5v+6EVuV3Ev88/58ulnAN6EAAACFAZ7pdEn/AAADAAADAkS+FwTcPMVZ1ToD9NYHCB4oToRgtSgeQf0AcbZDeM24Z6fHMOmMTfnuvWDBvGpBzfJiWDnHlavoF/y74oPVB/m3UXBvN0wQWF4ATtimkUS5i1w29SiJ/it9htkWVNrsGO+iZqDq+OWU7KNcqaH0/4m/sSyFwx4BdwAAAIMBnutqSf8AAAMAAAMCSb68Mv2nIIwPdFWtps++bYZD6yOubCDKmyiHaTAf8EmiqJftBTe7fbcWQrR4RSXdpagVY8ACwUEtHNtqO5Bogtkwx7+NBK97fIudjVmfCox+dV6o6rGXLsEoymTgRklHiR46Daw0wMKRvYkH/5Cq/bgMk0AZ8AAAAohBmvBJqEFsmUwP/wAAAwHxv3y+fYQMagAABi/PUywAAs/mCHTucrf83XRe77OXUBRj3jxJ1wjKP/jkPNuAFWuh10OjlclL4KB/VqPJBRLHPdS/Fu1dft1c1knXhAZUXydkPPsUdb2Ne49zJZk/opsAQFa/reL2s7DebOpiFR1Fjkf7MYYuV5SMa0x81WIPBLnsmrf7IRTIOpsjmzmcM+noT3aLRM8O7hGejDVMjiZjPg6ViRxaxvksv+bBGuaSlPcEZgBZGfqsUto6dMfkwSuv1KsxA/AXrzEXpQLB3EaVkfnvkXOi3tpf5u/okRhNNnGQqhpsD2Wjnj/PhKqRK2H/tj+2CCvlT8vaZsKmsfhONR3NzsXQ4aASU0L4OqnJvOfvCoba1pnXAHDylMlf0nocKMNMc1bP9tP0YFsH1th7ozPihMfJWEZV/tQcpz95n+K4O9iPCaHO12He3xA5NAMgbJKuJfKK2CmSQjjkDabBAFHllicI4nqF8sL2wHBMQtyALKMZDEykyENrBIkweidpGSZllmfDgJFtCvAjI5hc497L66gcB1E5tzpA9LJTHYyFgoPyq8jktF0Y3EkvRX+R//r12Etd8eSLwGZbx2vQrNe0322x45BPhzO2khl9YVxeqUaShh7+hjPFBGm8eb9ORjHqNxwo6eLVMNZulTiJ6j7x/ju3ZuXMNY0LjE2jKSTsmIkbXPsNWPq28o25+1ZB2R0N0zrTXDAprKJHwM1e6l72h/UNSgsaD652jnSloegWkdcYbNMOz+QS9R/3NAObsI2n3UENksrmqEHzDbmKMtd0Otvv2VekQP6LIgvSJa909cvmXuiYo0LHacU2MbShsBHPUBbT1ccAAAD9QZ8ORRUtfwAAAwAAAwIixLPm40qd11zYV70Q0JUvF0Y9/TQCxmVtQAMyTZP3EDjqjE/Z4EhP3vCri5RiBqwxXWKuvT5gqyqCFnI/10zIDBAUBIw0dZdT6tunUpTQFGBU/i7V6GsbzLXJWJKvS7RjjSS3uTjZZfylWf2A4C/xG99fq5JxGmVDd64lMCNt2rqZiw8mDEyk8MFUBy8vUT9D4cll7aT1ElbASR246gdiyH50SS8a1RTCl/QMNIMr6dzpgn5+nbaIdA4rXFOu4gBq1bfGqe7yX57ItX+ZueLZxJ4HVDQdpb04BzHWrx/ju6vTGp+kS0/shI7hop32dQAAAHIBny10Sf8AAAMAAAMCSonP9Uw5GXHQqVgtVJNc62q17S8tu8H/FH4Hznu6CG+axd3+VF7lg/cjpAoACnhVY7GARIMMH67Ub892yPxboFkwUiI0Fa4c7ZRq0VYJmB8Cx7vZshEaH0AHrISaqIC+0wQnrecAAACKAZ8vakn/AAADAAADAjsjRRnGZznQ5RVltyPb/10et1JnXsAcCJ/kMFuoQcwxYoOxzhBT+ub/CZHSfZ0hnhO8XoQ81mevsVBXIG+3SN8QpfuszKqdxld6zIvMPcHQihRtAOWvxu47iWQEgbxfMYAvfhUuDJoi96vVAUK00at+WIJqD5cPdbAgAAxoAAACtUGbNEmoQWyZTA//AAADAfG/fL59hAxqAAAGL89TLAACuNhi/jqNWxrRO8tnLnx6prUXd4N8pKsVkCMbmvUZgCZgqpHuQHGfgv4nca3eW40JFVoB+DeXPmYoNtcDZE9GkwSJRfsXTVTvOC9YRVN9deEcObOC4oBwmzzLZZlclYpZ7mYlJnRGJ0YvHZmf61zXOCgSBeDOMBk8KjUkkp60RCuaGrjjWNjG/K//VaFEQaNf64Fo+3nBy193eZnLJloYQgabCkVskUm1qbcXXSM+VYexUAqwh0gPFdT+bwfZQ81DEKTCCZ3v6W6/EcAmHn8Au5mbgvLGMac5vp/7CIDSstvmCYU8HtNb+GyWQrLTNYQNf38S17h6jx1VnCQyhYGLcaqP6TjxqimiU0J7Hy0OVNHqyZfYEprdOg0pYBqCAnJXcB9sN4uZRh4hIq47y2RK/UzeW8b45xJalNVDgLW70G26hKXm+XMNQmfmqpzMzWX4j1fMo+OSfp7/ltJO/8Q9JbueH7ZfTe1EzfSumTsntcsD8Q5lBA8pX8jZZ5BnvVA1P0r/UDyjjY4LfyGD+kY8GbCxyDAEKXu62go07HECHdNCsgUsUyCj6pOBw9elEu2kjrL5g28mn0CSGaik2mAjQsKfDO/fJX3E3awcomp1yXuNne+z7hOfSsFKb159jlmYEsJLAep5SIq0ExQ5tw4FSqgVYfCyLBRkAANnOCRvBqjj8ioATHpj5aCQHffZb/KDOmX1dy5mvvWRCvKeevjHd7blaoOKXrMsUXJ/9WZISBreL3uJlFcSmD7sGYFOvuzZa/i8F6e9qBL23Jm2lg1GuTRqdoJBReOxQMpuDpaGLdM8BZ/7rx3TNneNUJEGKjTlZIR4xFVELeg2dabp9iQLVfA5XsNidhueMbFhJ0bc/i9J38wHdAAAAflBn1JFFS1/AAADAAADAhl62G+X9WwvaTZbCVAsDYr8MSTuw6YBN6OxYOickkBvmdUmrzHl5mYuX4ZscBECva6OGVPdnuvlVfBJWfp08xshw5K3R2t3h11LJVmpUdX/LJRdYBZ+JTJsuRgIOg2Fbwfn3lI599jeSLvlX8KWemKZFFk/HiEKpyCpUBnmyBId+cseIbX4mGDu98nmemDsrnAL/+kMvBg1KHmf95/dPG5jsfx2KpoXBNchJ94jqsZvBI1AaKf8lN4+lxNGTJYRF1ZISzT6DOzzH7nBvUQ3KxHwSDF96DzWaGV8xa9b+o7BVgZY/Fo4PIVKMMwDx/uym8R74tJMkyyrVtmxT0j7n7k9IMjePYSzI9mWRqhxY+uEk6c1352ItvuwI4rDLCNerQMdpNru7ZD5mJYChti2SEaj7QAh0YeJtxWFS4dki0sOANqbxevd51Ir95K16fItKR2nu2Q2+DEEiKJcx3Q2ty46VykKlQ1oLHE6xZk3iM+9IBCAODVVEgw+tUxJqu1n41Sxum4VOPVkLE0IR8AHBQ1aEJ+MHZ/LhYxV8b+Eo0L5ePRGU+i+ZY9sVGqhyLylo49ht7Nm1V31RFnvV5ltLFt3VlZTr2yWDZ99GBeMHVgK4mCfnpckx1gTI7u2vUSpJc9CsOCPRuHBqAGfAAAA6gGfcXRJ/wAAAwAAAwI1M2xznuFEUKlm6trfULLHxaXg4VoRsBM3qJKY4i0RyFYIsW4uUvbPr9fGF6LK4dheqB3j6FJFDwLBT6iz1k6NiJmcr72OctiYqDuYh+KTeJdYAYtSmNrtnxPV2jYSiKr8C8JD5PsFtJEg1uGCkvhvG1TP7BsxgH/8FysxPXDUCS7gUjRjf+iLxRdhYWM7CdBdn3HpCHHqkNoiWbr+jvu81YnYyLnGojbwxIDREGubaabIvkKpT3h/5nlimtYAIyl7NpqL5Wv4G77KLZ00gC4d6N1H2dqcfhgfiMAvYAAAAJsBn3NqSf8AAAMAAAMCNGBRR1kDALrzJeNMHAiKDm4sQgSRK9raEoiBaRy60eubacLra9qrWbJF8fYI8cki1Vqfof8yVAueT+//Qkq5KkB25ZJHKrp/UimndtiFItcbBzxTFSI78WI7FTsAB/0U9sxqr1bgRvPVHAnAt9XbZ6dNfwrhzkVjiMcQKFo1vn2UsBwscbBgjoNCYAAFlAAAAWBBm3ZJqEFsmUwUT/8AAAMBtXVrjueBNyDYELRDAOBX2zm1n5aY7qnlQYkJCSCFahZ58iNjwS6wCBapnJ4psmA6rs5lyXt1vS16Z+XTZnbYfftsBblq6jvpC7EpXeQA1JBU+ArPmhOZ7BOLgnVm7slm2MnywQD7pKGRt9CSNAp7e6EdTBCso3Xr8mgnRhRQqqJVu6PU4nv9vuggkYp8pDi1omQeaQFe76SGdTXv2nDddY55bm5vAFhWbomvwj2bK3t/ZqZ54bnMJf+KsJhJl2NUJsEVH6cJQbBJb5lePWKo05XTN9/l4O5liVlVopYYqtF7dMPVFJ40w+4c2awtxPTXGpZgnta7CO/qNeJ8skpMfsvcMX2bAbLKfM3l5zbm/44iZJf1PEqs0Z3yLP13K8aTQzZJTesy6PbbW1x7pC0OgJadKtBn6HXRIWTK5aQuAaTZHWiFdPbRAb5Dj7o5OrKXAAAAdAGflWpJ/wAAAwAAEUbk5KCFuDtrtzaqlKD3ua6/RTlZnWBJbFSEA1n1bUwhgP4mWFahw/RlIzFVR2RLv4Mq3vX7qYwpAJRO3JLs32cG5xczih1dz9i2radlwIZfsoAlz5d40SG8xfXok0coqSbXw8yUgGBAAAADCEGbmknhClJlMD8AAAMB8b9vcAGj+qLXswHt4CZYAW/wXqM9On6dNkQ5adG91vwQrNRDtINMAAm67MZHWjuH962O+d6z2uEXDU/hQykQXXz7Ky2/8rmGBYL2NHvOutslYNtwUky4SAQ3fAt/zpQS0VKqo36jY8jyddR75Kmm8GoBuL7q/cUlG1GI5tC969CbhBynN1qheqCyxs5et7EO9ANOWq5b+VB4UJqIUbs9I7zFZe2NT1xDlccwOSI8Kg0xLa9jMtQPM7W4InDOXA6mcBcw4JbWz/TU1WaFVCdRSnxXZ+7scahoJ8p2PbSXmeXRv2/ZrCN1Jxy5ZErjaqhfMzCZxb1f3Aobm6KBHOe+OH7UgPNx9N3iq83jfVdU1bqsXJGHHHG2SmB8m+ipLqndc5zSh5JaJqLSLBvZiytt1oJ03btS25FHKRGQSCW1T2RLJbefmAd2cYKjSMjRYwWhxDicP9iN/mxFAGGR/sQ8vhi/N1ax5o79oxgVSjZTKSNUatlmE0BGN6mLZ76PNSOcTFpkdXQOJfrjASNk7rOb8XKxqn2bDZuuFtxoCz0mQJuQ/plGzCEMUXag7MQcFAnQaMohke8GeX9ZwnM+WvVO3Z00LVoVJNO5ShCzRSJc7V1UO+2azYZwYw/ruB43zHBB3clhT3ij5o8TFOXBIaSeCUBlL9lXkfdXZ9wF7M6JbG27fL/8mVnOyc2JSZ7qsA+PxdY5IIcJa407qHJ1oc0gXvq8wJQUctRlL1nX9CMP+bUmnlk92BpGhdayqmPlxIURUpgv8Y3VamhmsK/NcHifZ8gor2dIb5qJE+6plPkg0+pM8mh84WED3QVXMVN2ck8S9rB/aDUa6BZRWpFzTKnmqVi2Dp7bJIR2Qf/Wz5VcQG6JFdpAIUUkt2vZJ8jXffTr6nIOl0tCfxX6R66qNFsRcF+VF0a6OOr8p49wG3C/nyqgcI9ACaFyKnLkZdx9NbslrPnIFgOgRmqZfBBThYK0bHQkUW8U/C7teHrEkMO6spIKEVgfkky5gXlBAAABp0GfuEU0TX8AAAMAABAWy/yWtom7cK1D9C/X9j/yCiBf9iNIudRkyIqzBo5f4rlB4yHuFZJQ6JahUmF/pb0NYZLWuuQIo6TsZE8g9yGLL1SQ3384lMspw9yn5wJpn9544uAdWRZSE/nMHqyHCDi7P1z29+kKv6Bkj0VOH7a1Xy6MDwmEfAdcV/ZdSx5qS9UgY4Z3gS5mko9ead42vo6CY/koMrBqQ+LEnH16FFOXApbD4MotI99pfVQxYtEqfQFDf+vpLylXvM6oppfuafVBNUY/5hXthjtLIB/5znYEZBahC9tD5pJ6/o6A3uGX3T65wNiJp13PEYr4kiuJDKMBAxxQvjmp5CG+glwh93NnmESFrXLG1KdDFVxaYc/MJtpAIcNbSbMc1PtDsSYKZOVVzmkRyS/knwihk/l7Y1n4lmeebOWVCnZ1NdazXTfL0YwV+1lo4CmpNTIM6wKgXVLZW7S1c41N3wD72G3d6KW60mTNpG77c3riV8W/8WTxW5Q0MGlphbkBG17I65kyjZAnD+WY1V7PZYLWOzJRiH16ytVQscNziAB8wQAAAMcBn9d0Sf8AAAMAABE0HQnAF+b/RCL8uKwgr1CCvLEp3gQT5/b47/HuV88zsnVND5PYytSVN18ZEuR4Gug5TEyeiagl1aAcps2hz7Wcv9wFwnpUqNTRp3emVMwH8S7fCRgdGrS08bxYt4B6QokCY2Ido7UsnLby5uDnwuIx11SqLwE/T0bCFkM15FsJ6L5cT8ygn5KPPNfWBq9oPWSbZkoHXmaxduSLK6XN2oISNXj/vw1w3ZTx+afjBttt2LGqJuLvfo9EYAwoAAAA5QGf2WpJ/wAAAwAAAwJC1Gua124AOVTlqKLQiYmNPxni3n2pV4ffgKLUj6w2X8oTYwqsxUojUzUAW0+9pOZ3oxglt4DZXUT9Z129yK8u3efa/RFvZlVuRkB/lXNVAYca+T8uaufsNeKMIeMNLS0uddwVjBsBqoWIQkWJE3oXPkjeo8TXMIePgTvaZu0UCYoaug9UvOaTAuuHxMP/FiEvtj3Xg+izc1cy3N/3UGcs2Rt4BGHOm7WmdS0s94Bu8U2P1czUJPHcQGz5H0CW50LRwLx4GHLWJAEjHU2LZFLjdPEPK8AAOqEAAAIVQZveSahBaJlMD/8AAAMB8b9t2ckr4Nn94RNWkqgAGC2KQQ+39HH0e0dpA5gi17uor9t+jNU+f0C+iZ6tdMtF6GrWDecn9nj0spo4nS06PbAb2V1/Zf6zOOdYz+2HhZMOqfQ5MdTYD5lKjujwx6hH/ONHxkFXEKaNMX1sfDRCTujDf4zKdAuObQZbayhXOayeE/tPiVekYYgHn9g5iSoofDjPPZH+M80D3BEJb5c9A5MgN10Tw2RrgQFULJ57mwxRISOTa0/CHWNqaRGoPDQhIXh8BjtaOfXBLz9PInMlx8lkng5drsxDt1Nkk2u3fQ8IMgBKWnVEmk1OIV30ewRAb66k+4zFe2NeW5++YgxSod6ncmIdlrTePp7p7JID1TFH9vF0R1wGAp8YDx67A677RJeT1VZXBzuiOyr5VjOJckVHi0xZZM6eHKz2Zw3RpGdGmAUSc6WLF7ftnd8408l+dLF1HdXbmlNLdZRgAz9g2rHOjmve93nuy1MI1SWP7uTXZjxliymWAZ6cgPQMc/2x0R7e9RTlEiZa/CQE8cBmQkT+aB8lQLsfXfE2t+0ns6GCYUM3VnNPKQmoi5RlT7LSONI+irEIqKmowPvsdiVkbdqFnSK/9HS4tgAg0BxgPx4+3wVq5p5Jr1/2osDI13bCSQQxVDuY5PCH6ZBkRScJ7CFVFIleoqbeJNfqqqvKR5cGQmhHLoAAAAGrQZ/8RREtfwAAAwAAAwIoJtrEFl1gPldCUqXZh/rvWaRX2AMymY4NcE5Dq0rU/L+hX7+kBOtjFLZgPb7mzVETvf9eXuxAEaloPrcsFGA7ChblkgAj2GPF4PnuLNw00QnWVHY/IJi6SPxxjiwLP8l37CrtKl/wnWrH36fTxHfaQxSsupxD5UYa8TLTAtN8QHG2b5doOC55rP2kvyk5ub+um69x1GuUbA8mPA83e71EHbTKZdru6ScIomskcEKLgddSAEfVoStTilqeIjcOZcd+z40D9xrLUPELgKuT/vFSZFaF5AA4X6UfVwd81fsrwEf+c4MaOhj97XKEc7kvoa/9LU5AF/rI37tb298/wdxWSVaaWwSy0roSjy54lufT6cCzBHXFGG5UaWBMoUo0dxSer7Ns54DvGixz/rad8CIsOWb8QqGWnjEWtbDB6qU4YjPRJWwU7KQjEiGPreYU53glS79f30DKOqEcRjK8yn/EDmmCYlL71Toj6vvGBnCBg/uCzTIPF+rE3T9bOy+DTk3fKo/2HEFOiU92htH2yEMKn/Y2/CeddOWE7kAYsQAAALkBnht0Sf8AAAMAAAMASw9C31erNA8Dr+BcZy+1y3UHjxRJsPEilMbCbrplbsNiQoVU35CJlB8cdMmXctaD6aCw1OyAsa9X98Az/XdrPzy2c3dELkoN8nYZhFfVBWsKoPS8A80eE0aKcEhWXi+59Vrx/+n/NPwRejpghzMrspH12BWlErN91uBIoKF7nKgpa4dXxpkCmbkJQBxxcWOPUYEbcjtnqL4FnZG33nxAFC4/LLc7sw5PKAD1gQAAAJoBnh1qSf8AAAMAAAMCRoxu4PcSgsPx/3MtD7cGfqktyhuHkVsJqWUtKYfJ2G3tlahzW0rGr716CsAYU18nzASQQlU295/D23zo1CGSnlO0ODMZZtiiqM9f8HPyiNS8NSWLCki/UGZYdD+CpEfhk9KPwkfEcWvizwYuiaMkfhhDti84bS0hlrHmPuQjKzUF0RjqAUbOYEiLEAMCAAACBEGaAkmoQWyZTA//AAADAfG/aKmUVNkzKEYY8jFwgAKQA7nYRRfNJaV956xAWko6rbbVvfqOjAnjehyHW9tNLaTtx9fllBsL4DiIxwRLhw5MT34tgOK0F8IresX9liR9dKd4y0ZueOdl88xIkIn0XtGWCkyJCOkuWsFo7QJCK5JKr+XWTqDpiH3IFgTaLJyD2f6uzPyjtZWtrur/bBj7F6pEjsv/Fax+FDBWudhSCyOgCkjih/F101UxEozzQP2ArXLQz6eq9Wu0LjNgMoDSKDwjsZUyuIo23HmYQsYXN7Y0rZsLXHE2MKZZRej829fzMpFB+vZWd6dEV2e+SshuO+ZfjQqeOPJACgT9EylB1RjgfmK7gayIGU2b+PbjEtneei5r4ue58EEAbCkRWHfQvK8g2VhS7iHyxnPiNK4Pqc/u75alFHlaZ3lhDrryA3PpB/jFXi19y1Gbv4NCg0a7hl4lELTtTF75jKysB+CzfdZ0zGS9Qmz+Af5dgBEvhpabXTwL7JYe2fxfojqOyzj0G+8Sf4yHZ3v7pKWCdX7WVnPrXFdJxSSZtacUPuprBYU9BKisEiVCS12MD2F4rm6FB3ZH8nDzcStaRsVdaMUoXH83c8iJBuMl+VVe+28BoA6bMKjTWPTPQTd9bFJb+0j0PxN0gXG1RCoh/yuzMPeklFr5XYDUgAAAAMdBniBFFS1/AAADAAADAiINmRCUf48M2hyzrjxHt6pfCsSvbAX2UVMbZa0NXkqdc2jl7r2fdiLdoA1XYUBRaJsA8HJ5cndvH8FdOlgaWOfdmMABWDlJwTEJyVpxLhIhX28lOaQbmFwKZfuWZIgqzWfTasJPmCoX2oUZUsf4dTJckfeBMpFuRPYNolAELSrDiOZ5sdQqNE8vDdn9R0wDig1E5+QdnEapyqLsRzIdiZuz0vMpMcaMzPK1Dlw+U7Bk1L0FWUD3AIeBAAAAqAGeX3RJ/wAAAwAAAwJDIW4OTr/eGL0OP5GGtuupwC7mppvAZ6mTmWalQ9yGcrpP4QoW6MH+qpcJQtYn4hELrm7wUVY6uOUIt+AP0Yte0SufcTbcf+Rko6Arvya40CXg3MI2RvTCBSNOG5BtngW9wJNHjMHhVtU9x1RYVxmuerub9H9djxbXFhndmxBpDHlj9gKEXVgjfguFd7FnS4CMW3jdUOB+YgBnwAAAAJYBnkFqSf8AAAMAAAMASrbz+n4hVVKDCpN0h9utjulW7O+dweEoGsM+YDy4Qx1s9Y25WX+wMdZ/tf4vcI6QcsB5dqY3lnTDd6giQfj1M7U4cH0SnAcUhFTtEUV1YCroS+I8/x3T+mO9jWtgUE2vJaelTnzQqM8ixwaVCQEYeSfQRAxUFnNsgLl42IKVe+nWx1Ei+SAAF5EAAAGUQZpDSahBbJlMD/8AAAMB8b9oqZRU2TMoRhjyMXCAAFOlcrIrWuS6bMDfumK6A7p5f5XkkV/BZyt0c4fahAdRH9vtxQmCE671S5a7vKTXk0Tn2rEdqnNCGZw3Ah/SesqV7mFM2oJt4uKpMHBkXsqj48I/ecvJCjq9UHtwrpMMhIDfh1wn3ITziCplgxmUhTNE0sW2xarr2YJ7EiA4uW8LtFbDOQbAukoFrjaZlSLwCF984hFoBoHoFrWlL9QCmasYT74S9equrRiJutufgn+OK8Fk/PxUC4K6kB1RiOpubGzIR8DbDEBqn5QPV9UOtcZHuKo4gjKVqBT7M6j533W1PA4Bo6uTXY+cjjdxnCCbswkNWr5UGd3DJrAVsEqgey4Ukp2scI5f7qguQuRYPM5a/Tfftz390Ff6PFIyIpgoFYboomjM+VdI0AatxFDlOi0Ybme7uYTaLRzy5L76C7irUqdCCKzfNGqqGQ2k33hjjdDfB3IpaFcTZCAJmJtgLDfJ7NOu806l1gq4VfxgddnkaXYAKKAAAAHOQZpnSeEKUmUwPwAAAwHxvzNOTtIGNQGw3h4QAJ+KieADgk1lf2NxWD5FpNQagzQE7spk7vT0vYghBbvMcV9YKcpL6N3T4sP/Tyad8ObDs4jq1vd50N4SUJVgP8yWUx3lk+OyLBG3qlQ126f1fr0szxocD0a4pyjtTFESRtVWcxqNr4JHXZg0jBf/WTE/DzK349TtUJ1joCsAmx5ITRY31Kp9pk4UcbusvlmPzLsA4z1wmWxcEQZ9G8UJpr9FIBVtuboXehDIzZiU3VL/dis4ZRwn80nT+GxXhKlXb2vOU7tW7OEIHUrHxuJU4XX4FCG1uNc5cZxEMwRptgw33lxosQ1VZWoa79VF2urBTjPlRS0Wqg2HxH0K8uRQfCwUNX1ZrFw26l/Qkw+ca83w4K2kz120Eau610e3BTPccbpV3ELErdELq9QVE+GIsYSx4fXs1SX3m8Aof8kISwNjz812ddwZZbuXYOTepABsLIiONQcBXcSIjD5qCmBje4HIRJ9GuWRsY6hkcJOo4H01p1T1dJ3TjLf9FF0FqfZ5Sfi7KqKSVpxEpJo5ANuMcf3pRMwBsy4OEz0wiEYfhmuPRBTBl+1IJJVSAMvOz4NmAnMnAAABREGehUU0TX8AAAMAAAMCKpXLMIpb8nCMHHe4TG+VOzN3HtJXn7XkzV4BXSYOQBAsyXvabVXgrSqytDQugx0kH8eWrufvii3gvSdf4hezN/JianakYcZojyiS5oBzXv12rkpjzkeGQPHbzwlJfS/94DPQRJpIN+UUHTuanaISQIPBO2B6+zt+ltPO7HsRy7Hm3mkv4xDZQBT78D9/gwC/0E0IgZMJ9FSJYQxhC1rnOR8jkSosFAZBXaKyQEj5a3WOrYCfxs6g4VqU4u7hEe9KtP1MsdLGUOh9MELEUfRxwjLMxvSZkyQUf7FPOn6eV12EW6BxweJ9Y+HLxxZ3YRfTR1BMHII+3lGZ5ox23jvMt6Hwep8nd+You9z1wH1YbJv4tzQSa6ihIZcI3BDE94ZxmrTZjVQmGrA6QZtZA+mwEnPIoAATcQAAAGwBnqR0Sf8AAAMAAAMCRvSnUNhXDMmu4s9BwpPBE/bc/+mp3w9cdMZKq4Fdu2/d8swNk2yQNi2md8uliyp0RKBd+yAmOmPj38DOewL+9H9VPdd0nCgepr/fVqC6bgXswN7qo5AHRmA4aF4ABlUAAACMAZ6makn/AAADAAADAkm+VFYylKFtg7hrwxCJK956/21HIo2vr1mJdiDvoGs5oQHXDcPVzkjfXDQ2KAAr+rNEwFoJfci0sJM3tDRk3oZmZJdp0odCkT40BIFE4NDDNMc2klw5zdyGDAcKS0ckcmk70lIKQpN7h46Lagipg5KyxIjSwbiTHrGe070eAdMAAAHGQZqrSahBaJlMD/8AAAMB8b8zTk7SBjUBsN4eEACf+ALsX53+g8zEJnK74jSsvYB2EgjilSXluLj+oVZd4Y+Rlz/u5BKsSxwWZYUyICESXMnpMr4d5yExmyw0QQB0FRqYV32VFrizPuSFujr4BfLndQTaK2r60H8nypqaL95saFzx/Vpdxb92iqRBW23bNoA2MFK1+iuyRHBVkXGSPTtqbfXOD3kJih98Fdhs+QY7gLLMlufBjYPyLy8PPZEkf1V31CWlMtV8HrOXA7Yoo8wvOFpeVp5IrCWwKE99TWuo+qbdBlHMiTEYMnoUfYkO07sjcgqXsyv4UsXPxDtp6ODzujSIvpqLNWFBM8hxuRxirc972nDWxdt/fJf/rL/7VURHbxhgzlE/RwpcIqP0ZifuA6KtL8rfl5UWjIleE8648gF9QAtT/+jP7SQJohWeO4DC+K5OoAJvk/0NZRooy0pT37dELlwNPZpTiLtsG8E21kfsYdfZqd5kGL6ZY1RUmHHGd0CCgCg2xaY+PV7TqquNKRHO0ho4yXVCzLggYf1MsIFIUbz3e/N5HlMbIoKiJtwJ/+XpOsjsq3mJFcM7OPIQ2AX37mAUkAAAAQVBnslFES1/AAADAAADAiIzX8iTD1JGbStNhb5ywEFDOcBGCEs71IbxdQyfbgqC2BIF5GqcnGqOq8yLqqS9uJ7ebzpq+KffVx6rQAY8UbQpn/5wMfxApZ6/KPbxVFzl9YB2NaMx6ztlZjtGym1Cn391XmxlovEH5JZWoQtpJQECacb4t5U9YhEI+vOsQNe7nzD07/9b0GedXLk5O4vn/4Ynvq3hN1B/pPqOwHlC7HhieaaPkLzXDQI5RMMupjLO+SJ3+DXHn9hI4NgB7B+rhZ0/g78lckNOb7HFZqNVDZBGtNyy47NdBdqkPW4ZmRyqzj22xMQWq09gvNoODX2JtzXv8hKwBDwAAAB/AZ7odEn/AAADAAADAkaw8HtmMCrpa1SuUYbn/fsNm3pMM/uwn12k2Y1sMftWxhRNHm+p49MM6bOmOCelxhDVXFZM1LuUzkpncK9cR7C7o+ewQN9Zyxsxr9L2PlhchKT00+i91f5evLQ3RfaNZ16Gscqu76NYGluybXB2AACpgQAAAJcBnupqSf8AAAMAAAMCMsvlKoEbA9bTJyX3DT3vkMw0qqDksu+27+qGv4tD5IRV8wuVS/iUUao8qD6EdT0k1mbW3vB2jdcMGdXgvuEtOGF+UfW26ZK2rlB7NCJiy1JnenqFZBDqyyVF6A+ZDxkHb/rBDTxdY9riPjKwVSV8Q1aYDoka16O96TfqCK4mOg06KVCbCiC/zgN6AAADHkGa70moQWyZTA//AAADAfG/M05O0gY1AbDeHhAAm3hvuMBAKnoaqbd7kL2dWxTGBi7Ag3TOdfNBG2K0H8lW3TsLNe3VtBSaVz79uzmdLykMfYhQ9jkbmkk34gZX8+JvbS16m+5IaABv2QDVYosxi2cD3m4WN2WtauYTzw4wJalsCzdYqI572+bqVGkPXC0b75UxKwBRCrdJBv9Rki7GrKRoz6P6kCHDIVWfNDyqx74xgeNw1BQwPeJ1xcHUWLb9km7wliGIH+6zSnS3pLAPZn9K2CrvcwccarJXPN5J8s/p6anxQ8ZuB25hzCcok+jeq4u4cVy6nPYKVnasxNRwl9WVVbA/oC+GP8LR6PXRKAe3jJgh94yXSTaMt57G++0r1uw+d8E64MxCsjv8i1zrkLBLSGgn6RAtd47MP3oJ0RAFlVM6fZKgsDNz7UvVzNZIz7LnERgGBmQr8Ite7TgXY93VSZmg5VRchjw++QXY7+rZMCEeDht1wjVLveeqeUC6S+79Vsm5sLZpE35IyAoPH/yuAe2d5d0fxkVJRA/Jn0jwetOfgjbCvceaIrzUqPYWe5MMgwK6BHyu/Qad1YA8porQ4nvMNjjsaHOp2Dt2zrQNEezu5TER/QU4II4NABgOZMf2iY9Sng8beWOUu//H8uwFm/eaIZxXntacG9zIHD0/pkZ+7/erJbq5astaeK9uQynYRYJEuL+MWQnHzRtQVhTW12Fx4AjsCZU0BTYOciBNxKgACAI1IOZ+3CICVj7OVDjHRsJU+7nK0EzZZ3Ef+PafPv3G/D3fgz/svAPMs1vqLCLys6RXk+gbh9mRBB3FTfd2HjQsL7A7PtpYqgGgs8noobkTcdDERPHXIuebfat1AkxTQ1Cr8wMOIw9lVr90lmdXCCZENurPr5DY7ItxpuHBDhvAvlS9JC7da1Prg0jyITwP8zgX0QxZN3y0PbRqcsAFx95BgxLdCHDCwzp0mo1nRkZ7Ur/DUP5GMjvoJFoUvpu80PIiEiOi7kK8OQbyEB5n1rN6p2Qi6wAOjE2BctYCGOmVCo6IzM2nQAAD/AAAATVBnw1FFS1/AAADAAADAhKvEG4YHuqkn+RCn5/hYbLANQlnfyLqmB5sxk+4Rba7X4/gmuJAIOlilwfrvu5CYBlKD7ZRL/sERgMRPf4Vvv1xnYC0liMv1TpMI8HwlMCkcdiL6H1XapOxjGxlFWhXpTifugQXyiSHPPjthC92mHrs/q2cgkVClIxVw+G1GQI19yHzZNSGBgi2R8DUefIVZsvSBMcRjIvvGCHc0Q8nmp2QvCRRGYPLLzhYCb/Mm8TBkTpq85m7CqHuh6oz6c4VcViqzzswTj3vVsaZWkdDSJ7XgXbByqXf/zleKxlFZO9dbL3D+IZgzf9sHjUzr2Ukc60tA6XflEFPuWj3plisHiD8ZX3jBwsuZ4SN1a0OtLtE48NRpApOuP+TddXsxxKnl7HZBjJYAfcAAAE5AZ8sdEn/AAADAAADAjopCKNbq07P1sJnFeOYvpID/hH9VZiMdDlcJ78jom94g3OW1vtSR+1DnpU2lSBZUNEmuQFmpMT4xAhj96MAYKI+FQkQFLvVnffVwp3wTI/S6TQydktIrOYF2DAoIFCy8/gCHkv4BsYwDu6DrqS5nNaBFm9nyRDwqwytyMdq7QwGd6GeQB2ahn8cQmEUMix+yqm0gd/KgGleRFafUIWe0b9ZoFUN/eoSPsKK5dkuVlcE5u0jzaljrAzY3p/qCod92YNkTSp/ygRcx3nQD5NtsncXfdLtgc0lBgbJimSyFhMP00OL3oWPpSyzIDKiMz+vBHOTKwNvaXktIavjyczjW3vzUAOdDNGccZ8wVT5XpUjI+x6DYHsOtfDaeYVd9aBU8HvWInuXQC4KcgATcQAAAHoBny5qSf8AAAMAABCm1tHBL3fjH4Cpw/WvzSM5fv0LiDm6Tz8UQ3SznDBGV7kBLg2EBrS/2mviZs+D9e1SO6eWBCYzMGRMWT5wt1aSWU/OqX1vCjP1dSQ9JR7TbWOtCT/NBrGhuj3qLnHpNqcNYtS7mpOH97o2ewAH+QAAAptBmzNJqEFsmUwP/wAAAwHxvzNOTtIGNQGw3h4QAJtys4Buq/eSNuy91Iaz9JO/knhcmmQsgNKOI+qbWA2Fy2Bu8oN1nl+ipL7AfXFfKOqYSKIMGV/nsL5FPquODMEnxMiP81UhoIFSEEV5gsBowNSWsb2xUCXV3uI2lMPoSIDJPu1tJMUpV/zKqA9P19hsW3HsDE444+WgfDvc9SPN0Jw+tlC2vkuhzgS+CUr3H9OGsc5qWKrKN0b+wz9zzcMrVctSF/EeY62XTraUMhKbauJaAE8pbihCbajVEp6Wie2ZIZKcNf8LT3NfFWhJn3gJrcKZ8KkuERyAkUmv4T1awPAemxh5g6l3N+N84lZGw25rq8/A5j94MVCZJ915Up2mAckncQ4dL19+7kr1CmZ2hWN/Ptemuzx7BHDLW16S+EyZUVZ/gIiTNjDZFi5Qh0oGagsN5lDhtBtKqdzQOkaWph1TEk+ZYRvbV6s4VLoEXElmBep+YvQl6JYrTZ4YhuM87XANSuzLMq/Vlo1YNQnr+u+vOsOR3CqLiSvrC/Uh+lNHEpsWY95xBAXWB+1Xy+xgciQ284c2Yt8kbB0E8MijckMeOmAxJhHg3PsgdeSpQuIkwJ9UmumCNSFoxoBb9wDtM96Xl6VgxfRTkkJsJewa7+RBcwm/qHfQiv6OCHldEwhvQhTd5K2MwoPXIM6t5ZMv3+oexUSkLVfKfIHDgp2PC9dv2Uon7kDCiUL/kvzQ71R32bdbchCVBACbMiQ6UXtYG4BIPWsqPWyM6BhOaATXHWlX3w7wZKZ89EkE4wkW2JjqpmtTSlfsXkxKWTphguM7Eu3QsaXBoDzec13atTYW8z7Nc/7baD3eYWwDPYDam2wVv0P67mKURiKiyBWwAAABekGfUUUVLX8AAAMAAAMCGEbGvo/UAv5VhwQstp6CQq24zw84n/xrE0WVMSXSRWdlyC+azAHptDiBTay3ytsyaaBYR4hkDACDWgr8Zd/2IVRzTSldFggYv/JZpraXi+h0hZhV6kbQ4DzYm0CPfCjGr8HqYC0+FNPH/PIb5igf4dDn1BPFLxS7fue9J+CU8/YP1kBl8YoBhk6a2HBmx1QF77oJ2RenL3IhFA69tY1YJExwPT1O4E+GpwbCI9s3z8m7mB0Fx51tLZhKBxPjq6rBl37vmlc1CZeSOKIqL+j3V1EwIzjw7bR4UNptsulblekWj9MI7NgpBeqtsf3ArbnEn3pBZ0S8yGWFLsY/P8lxVJMFkGkPl9jtpQ3OKvICAWpD7EuYQAEmNiF6SVkr90uK0/QjgzPDeTQxMJ1GqrZTGRO/LgObn3NNzmHkm8VKTpBatWVBrCrXcqOUZNezFMZJDaAEE5h7X6IrfWIePQ16fTeyHHCYb2ODnwDAgAAAAJIBn3B0Sf8AAAMAAAMCLX5PQEzYbEFWBrcRPwW8oQX9RR+rAPfM0IDAeCvRMgSCx/czOsupyRUzhgjb4OcvjV2Vf6yA45NScVZq8kDuMEInYR7i0DO6ENWZGuXE/EK2O6h5cd5bhDVBwHUhqH7Qa6H9wECUr//fPdTNYtxHCrtByVTHKOfOh/rDatU4JPQjkAAsoQAAAQsBn3JqSf8AAAMAAAMCPEgtlIbI6/KSmbdR7OYR/GOcJbmEAtAmtWXahn2+U6LDqMzWxAHbGDVXPmFMyyviuvaeGLDEcCnQ3TYmrZV/YCaz3ckiJL+vCvp33lzmtaeURx9/Z1dqcEHEIxJISmyUDRtHogP/yufyxRi0LmTumZOAtIya3ocCclS5Qk6BC7hvhmHeL5XqN2h81gKupxzpJtVesfhPKbfk1xIADgLzrigLDXEy5zsQOPbi2nL57n6td4EyqEkWiqn8sRg2NgQHcfRAhkUnHcQuFDR0xEEIxpghn7X1vKUtuc7gnpT9SCZpCP7hQECCw+ofmAfb4mnycVusWh5maeto1hAABgQAAAKVQZt3SahBbJlMD/8AAAMB8b8zTk7SBjUBsN4eEACbGB5Wj0+HES+/MK8QXvi6b0pdHhVkW4JRggkly0xoqLMSPX5tV7a1t68qKSpYtgprRXKqlaaFHH0m037hpXuXjV4hejSvhlzVEaBIzs/Zu+f6hvztQJcNtdLE8O/lil77VxBWcCGUL2dRTA+t/VxhfwK9d4cfX+a9d3oCkjQ8HHfnbPb0VbELoNBIukwAtloKvhZ/9sbN/aguY1YEQD6siesD3Lv3hAHd3APxjrLp4pOolIQyTg09SXzhQZh8grTcKF17O7GDsKd9YjuSb5me255PIKVtQ3RT9o6nrx/8RqX/s7n5hHc64w982nb/6H7tH7PHYcC+TKtKV/H7pobU5uhLyiWUO4bHdIu7b6BfDQW8yY+KnSz3U/vhq9mSkpTdCwGkYNtnW70vTWQ7NhEDF+MaVOHNEfJ8OWyWUSzt4bUUGdzL8V29fg/urt6dJSu94aiQ8sOLNVwGoD75/3UyqiwInvv6QE+ZYDsfhEbqGAL2pkgBnoRYETfamyosP+n2RbVzKd+uzEdfTYg+fBZrcgsCT40PmPGqxLmoLNLRdPpVZMbXSmarj0CckFAx4+bionuM+qMQjPe7udpwJiw1GD2Rcpg1nihnT7YxWhSLgzgwI0CXcRdIBnHSfO13ZxBS/qkv6Und9fvrUB6J9BIHn27kRWxHShCheVwCBQqrIhMX2AhBrfNYECi3zUsF4KlAkLV4OuUS4u7BeZv35iEhxvEbu8HKEEEQ09gXKashGgfTqTkongPKwVOvKflvJKtg4/FaDyIBypPUq8ByJTxw2jRjeLJzayBndTmZvm+WxwB738c4EWC7cAi+meNMn+jt2bhBqDsKgAAAAdhBn5VFFS1/AAADAAADAhOd8hvhti1fCWFKpAhKgXcaCY5ULT/whk79XOMSu4L5dnXhiB25ChFl2MSSg9hM9Idkrq/hc6KimCn9UK6qMkQzvQt5YY4XmfVpvLnZvLP3+idj6vqIafAuJAyT3neb+OjgJOXh87F8VY9UM1dNHxrqmx6ooTsyo++JvKvD1b3jtEffNdg2qvnFYSROD5Ncba3T/TqwgkMKyZmBR7+M9uLr4bRPvFhybQJPA1hTHmKvBTwoGZoXDnAzNwPnqHxCnI9MpvuAtuUTAFJ/bwLCEubd0l013ZbIuMY7pgU2hkpUWGJ5Tq4xtRpzpfasDL0+2llZ5/ZdRzIMXC6J5qqQB7av7wgGmqJnT/C/z25t5OgNox8JpCHFZcBAHomUpsyjUWO1zKM1vKm9R6nIObVdQ+8A0dmBxNr8LNLs68jx679F+1NAb4Wkx0ahfY/R9bq8JL0F96mpfy/OMxsCiH/+tYQKqOm+n4oPOxptqQGMdk4s5T3Kc66tMPlWHgyOlXO976YUb3BN44aMNhtmeQDYBUlBcb6aaHD5tIUYPTddavKcMPCGlnlihIJZrGqlKo3uty+ThVD4bnu6jrkt0aJ9/GpfsvwllxNk3ASdAAAAywGftHRJ/wAAAwAAAwI5s+enIWcY+pKm9zPwl5fiuTGM5cb6y7TI7zaSQ44g6AdSJGmgF/MzbP2HFEpw6j8HpiJoH2EpD3HpIJjg+ZtUueDdNypY2xItuErEKYZtXOy0ezDbdKLwt4ERtNYVwaW3nApWOqnJDcbq+5nnaRlOvRlPDUVxT4owlX6fZKBE9tKAJt7iPP/F+qvEdeUpmGZX6H2G5RATDuJzpqyTKZurZjwrm8F0H+uIxDYMAYvRnwq29CXRBx5GYmigAFtAAAABKAGftmpJ/wAAAwAAAwIzmrqnfv1W59RtwGgM+N7Tx58e93BcfP21shkV9rtRv7zCfZD1GtETQbYjeJGnNxppoWSSvrcbmHfJzoEPa5OApJYsfQfJrhdSDxBjJlM+NEV5OlzXurmRmLX0hzwp9Cucq1HfxfbcUZ5Tg1GSpi7fNzFIeYuuIvmgugbUhK6SFAK4PjY/WcWxtAaFqBaR955X6P1iOLVN6tnqjbQYij6+Kk2/rZHXZ52yPGgHaVRAoGntnBDE9yUGB6Mscm1vWy2nh9x6XwPvlW7X1EmDoQuVVrOZMB9R/m0/N07NeQV2KokV7rIg7YRKtFxRwrBu8RikxvHj6yWY600tlfmtQxwswJ+xzlBYUF4mXfpB8wG8Gr+O6LhE+cbAAAGjAAACrkGbu0moQWyZTA//AAADAfG/M05O0gY1AbDeHhAAmxj//j8WZgFybLt4k5GcyBFmQwT7TR7dKYjY1u9Wurea2I6ptKhuFG2XbSjfy3dbH28qTgVIGaxulEtwivXiTpQJNCaoo3SVHxqstVkqEExPctM4ICrIAl4cYOvELG04unqtvPRgpJr9xf5ebVl6ZiWcxRfK+nJJlFuh7xhT4HoIagj/Pb+DndjZCE6qY6PNiKdWZ4jvUBiTMYlv7TgZaCeBCyM1lHK+nwPNHGf9P6je9r27dHBlNNb3qOMkfoY80KUMoBZ2s/WTNdK+vCanPMWzndT6eXhn0VtVCruDsZGIA58v7LFQ7EO9QlPaXXSiAIG3q447PBxRDTNrdpV6hKuVrQyAlhsU9+YIRmk5xk+PweodbNsoV0ztO8uWAe19bpi6DMo4aqPW+0Dnl0S5NLO8rguul6uSy0/QkTBqHkfjiAl/yxG3vt9fwVO+S218EhYT1VZih9z1C5j19JbUO8Ly9KtI3bc/uZbPrJQWwmEVKpkZtfn8zD5yLMJTcM77tudg5VzjF2B/w5/OH2V0OKh+0dMm85obExR4kshpyU2yqTpEPNI//BqhvwNLDWfInD60IfC2NI1WH7F9UrEqD5yVGIbUT1uSjAdpO9MFG1r5d+bYfHie+L7fzJexLKz6YHPm/YBylZHXk57SxRJNBHDHwIzvVEQtbpN7mY3AaT2xxcFxDA4lGBmI87q/oT1LzCewZKeCjSzXg/HxyOuTRsNfZIHoIi6pJ2TvWV44HLaNwdKBubN2DhFu6SUKyvGbo6ZIMCoZcrOYXlZO1+vemgGeMAutmGCn2LrkCsXuqv0FcfSSjn5yDwZT0EuhiPiuqNlNMBYwkyNW4Kc2htn1Qo/9+FUNQdm9/mvRW4m/tm4hAAABfUGf2UUVLX8AAAMAAAMCFYb/GXuCzWAkIFGZkeNt4YuwofQBCICFB6Cvmbp7PEHPz8EtMCIopNfQ7zhtQtYz4beVp4SuNIcyhRp5uPuDmLQJdZbxZrdG9hzh+njJfR/X2pG/9iUxBgEHE8GY+yFnVeKIVaHs6HM/nVmFncxwsITvCETtFoeukiXzPTsUfgwlUZ3nz9yt4B3Q7cEQQdNPvRkEqdqdgEgb4RJgP5Or8xWU9cKLX/Ea6RQsMhukHWrcgn9romzyB8kpGgtalBJTliAZ3Eq9tjvWivN5w4ULiAwSXPNpf5Lu6Avg0gR4UKM0LxKQ7QJJpOPsvSEL3ndb51p/BqUbChsUsghDuAwVtCerQvbgqHh3FidGoyKJe6ms+6z84tyV21Svu2Ujb0nv2OezfDZMv0rGnNrEyBptJMWWj5olEGD8YF/L+IKmxM327SraFvM2Apc6AiymdOjg7HMQhW4kT38O4HcqHWih0HbFjL5DIrrkelEDtEBSQAAAAJMBn/h0Sf8AAAMAAAMCOK9pciRTqTvtLH2HWtZcUn0Wtc2yeIUu6fFOaD55jfQo3P48wOi5QN48OuozmfNX6sY3LhADBj/p/0I8lXSoSRmWv7T3oAurDX1bUtQoWyOqT/Tt5KUFb2b9yMWmqSH3BCy+E1pEUF0hACb6cRyXnuoCTXhKFWCWHRvOAJGy4pxXpqAAGfEAAAFBAZ/6akn/AAADAAADAjS+vr4aPs/5Dmtbx3icIZZ88CdtpWJGnZMCKGd+zYS1T1Z3AXweuoORH8LUMadEfM5IYRKG9H+hmck8yuuEeG/V7GBevdLG0WlWFoHbMOeirYPV59pkiUhD2vscA5Vel7LIkmzSNNXgh8zUC4ixGh1ufCtiqBEqKM+oGEPFFa49mhH7ox49IK0t8jqYOWHbh7+gAVBzcjOTCUjZV7f5igrNE0o2XjKHabNdInsIE/TTsW9HD3c15JMKxZ88V1EUb7WtntYEkSoY9xh5gWgCw0XXzJr7rPuBSJZ2HrleYUrpZtFcT3ZJkRKMc8XELRMTkAHm6APnRPsrnkzfy8llkRasxwAxqCd1s2ii3GUmfoKfv9HdbHJJjbh7xyAFBgDN25X/DxUlcTFCoKOm5YQFcUoAAL2AAAADaUGb/0moQWyZTA//AAADAfG/M05O0gY1AbDeHhAEm5WLdcTtaTOm7i7VlkGTjcsSKjxGZe6pKE4mYhSf4Si/fiJOz6GseBN4Rd6PjyHKNFkQqoIX9PQnkmz9QO/6TWfZxvGPKkUXyeOx6xpRyd5z3fbs70RTp1tWJNGFkxJ9+0ps5TJzSoogrGmkfUr+PK9z+DcqIUUPifKmm0c0dWudUGmQG2iXpqOhX+xJQWpwCxko9WPRqOQFSRmPSVKSC7kE+wbNfPBbSl1Pc2UBp/PHbq7+/4e/mVEOLg9iecBy2BdV4kOmwNlx/GTgq+FdynN0YT7XOzJnObHJEThWnsih/Fw1prZ+WrhS6mOdEv6Vd97DJ/ngWiqkw9Zt7iSFM0gEuxEW35HzOb2H6ZhyTl/hSSUNcLxYTC6f13d8WYdogZMRwiN64XKXNbwPX0wMpZQj6+//ibNO3dILBKXsZng+0TOkW9yg6Z1p8gj0G5GLmyB6ZKiR9yhs1cX9sQymhlFtDnj+TcX3GwdKSGj2Hx8iF3MLtr7YZ6e/P5rqHeSfGA/1aT1w7jvLtdSS0pHjGwfuozwufXH+RsBs6PWBccmcW0VpxeR8sG5oF8nFmjEN18nhYonfvhh77/eTkXxFa1ucRCO6+xWJL+8QVIjlGVaxOop0An0w8dSpdIG6hNNb62lYT0eMbs8n3zJX5BnjhqCMoO+wbQt9CIJ1MDvRcn6ZU+OaYiUsJItRwMTs/8AbwlXgyOYD9nBRnE2nK/7hQak3Joj05JVm9vW8wSbNtqxdJMnz/S+L/ZZQGVoNch4oBr3PxlcguLcKY3oouqbf3iR01VQfkeylFOFdTBYdN5Mu/nNE4sVyGRLk0I8CHlDtRfAYGrsxju1qne/XN2minp0dv4SjL2fRFCBesnQlwVEB5cVw405viCVIiNQ+HmC14QG73L9VTv9jEWGN7Z66aZy8EnRkxt/5y0KTe/StE1mnBDVAmYhXzOYf7fU4Y0mgHSp/AOjfxxAcDg+39qmMVDaDlOfX7kkyDZUIwKP5bCWu6l5N7Hz0PNYmV682WHetrZAjMhdYnsyZAKKSUrA3NrTS3WKeSUblDcY16ox9GWTjjRQAtdiphDKhDIn7acFWy2KyhtXU0CQGn8Cj1JzUiLZgJwQoWdArG3StgQAAAfdBnh1FFS1/AAADAAAPyRcphmNa4BwyvduAJA2y2zDrUfhnedHeF8Qi94DiJRCLNU/M437+DtA1F+3wTq2HHFVzD4R76Fs58K8SLyJ+E1mEz87jSqUiHW0Sa376UvSLEfMxbPq7kpxenau2LswBewv5P2kENZ6Gb+JQ9aPAQiWj+/olqdN8bywvxbVreFho1AOsIH8FV49N898MkJGRCJ+fn2UW6gd8iUEms5YlAQUVUTGdoRWJi2X/qtd+b/W07JcVJNxxJai3MC/D26g6KRW6twNkY8zeD76VCqaRGymAvBO2O3t6EmZanMHuZIN0DUfQlU0gcOLJctjVaGUYDap/0BUZ2e6HNWoaWlcEMaa8QioQOoAVCQiHuetNwJQmI/VK4Bp524k7ZGkA1ysywjN93d70COIOL3PbFimHv98hGpcDv1lhfBJP4uZogN5GG5cvMijcSDgWeAktrOEfXqkPzotWX4hpyw+RnIrF4tWUgscVr2C/vS1d5vbCz1Ukga/RVouPURqeKJw1c2khE4lUZfybhNbW1sQkzfm3psGfcr4ESKgrbgMckGtiUt+DnZjIDrAyS+xpVhu5ww5M0Pu28vVhiuXep9u40A0tdI6cqPstfpYqxmpjwTbMImZuNDuFOyz3lTKmw9Z6G/no5PLMyHkjTPAD0wAAAOYBnjx0Sf8AAAMAAAMCOjxbqHIU6/H+VC3TqBORq6Srfg8W7SbyaxeowmScV6gF1y9BthxkdVH9Mcy6QPvMRK4f+UcFMmsUUy3v1CmI7s6K6JZ3krBRjDetc15XN9EEA8gIClJGKkFCm9HKImzxsIJULd+Qa1GIzZ7OZlIZWr2/HOyco2ogHh4+fspVu/6RehjPqhy7vXyH0zfcC+x6b0qUa0FGQVWLhYQ5sXrRQo5Ptl4lHEx7PL6wMmYYmBFSEj/W2S45Ooeu8GTH/1DrBTZO1ILG2/Rg34ULe4k2QCrNbXAr+wBXwAAAAOwBnj5qSf8AAAMAABDDK/MEw459L4wpfqGtAnpX5WoBwSF71CTvZuahiKXJyqbEcsUIE18ZGP4Dr2k395tetSBfica5Iu3LmTkTB59E9UlTkUCGkhfoCs9DQ3vMW9QzXs6Mlv5TmJtJ5UR9/0F5tj9mOn8R3yBZkepacQww229r71EDz3Fdlrpr4yjhG1DJMFFxFrVoEgbX7p+z6UP9hFx6OoUpZgYL/szaZIIqX37yVUf01fTMUNboNgXCsDBTRumI0VXgSYEXKVOlx85H3JthZNQ67qjPxE/IhdhxrauAAXC5ueMRvTBRTwCkgAAAA5RBmiNJqEFsmUwP/wAAAwHxvzNOTtIGNQGw3h4QBJuVoflzP77P3R8RYAzWxvsYzOKVsbnwYc9idIFNL54SJO41xYN2wsk8SblGxvieiWfCsQva0H6ssi02XzcZHPllpuSEqAjKdZHfnM1OCx/F5yC9sHPpGj4Mjwcsr4NFWu8lhzAps3aFjJrvkljI+p3/jvnzKFW7vpG1UnStv2iA6sRaLqIIgpkd4xzom1Iq30BwhmbWD+SJxPFJyW3SjJ8CBJUnQowpztklyeFPz2ubagHmtpOfStK+R0gmZICjKrOY4VQ8ba3mmG2iXsGvnbaS8+xCoMw7wFMnW/2JN5+7QAStHZwtmX4y8uYIoAqcfhdNzwn7fTQikAN3e7RPPsmkzWqQmv+Anca6gs7FMNRV5FRQuSr0jbJEKgnOfWXPN4PLvGa6HMD33awlaCyk5c+/kkOLGhM3JsMIckxLO7zgKRe5PE0jERE8IjPJ7MdI5LP6SZTjzcHFmY+hpSPEmxQGW0OBmES6jjQevrt+1qYxTfQ5r5/zPodn1JZCNLdZlkWrSD7msNCwBIEqQcQ5MsRq0/esaHGP4odC7mePosVZQy7YnWlPdU7vCDH6A7zmwxWcCR/QlcjVCUvBGwL1CMHOmO0W7O/+HxtjxbsaPWRKcwI2u2+TFmeDRNXU6UKCXyS1iY2TSR6mlMS+Pl1VbQdTPmJqZcHWTTDgz0S51bu2fVNdaxz/yDF1zbTIbE/Wk3MmHYc4sFRqD36OUBn2pvDarhXV5YqWP1kUONQjTZQyhqtLZURC+21zvlMOYJFtOzm2muGpmgGazSwAYqUg3AFiZBD8oqBNO7KArcMYhYG1gGHgop8GCRj+mxO91XRpoAR4+hqUh1e/ETlrAF/oJ6Tgc4YXFuAVORcysVQBsJLjnbcqRCkYmh81loj1ARjcHgwTKzg3F+6e2UQRCW+zvwxnoKLVoH1gJulAX0HhB7B9WXOJ9JGvdQUN81HDeaAEd26K4BH3EhhRAiyEbpYMbfzTWFJAnNQ8diANKqkKKDzNIxtDkkziFnaZPOgLqsyhZyvx/fm81WE+SDDHJjXaTcA+HpEmMuzjjWZ6u++qNSpQyQYLbWj8wO0JhHZA81VceiOv+jEz8kMiwLBbfaswKccbaqlsv6LkTYa9Rdhgg10WnbARFaU4Q+p36qLibRGuMbmOQBLrwxMsXHXScUIGop/ApUI2EsU1AAABLEGeQUUVLX8AAAMAAA/SllAQNPQO4cAAn2UjlQvLeppZ0aiDNnQaVXfrHSIAkXT2qHpvE3SsjYruYCio2dFrSq9mWjkFgTeCRhI42l6OGeTE01bAK/CDIBjlhr3HnwxOkoQtdP0ouMS+wa0iO865XeEBXrJIIyfdj4RpFfDpy2sVwnK8n10n6tbu0AoivcmG7ZWP05rHON+vcwSTlCZZCLNvNgNtGn8RGZ3fBAD/ooK8YiPAjPVQKiSpXwetLM8sz/ngga+zPsLqrfBRrsro4PtgD7j7Xu+tBoNfTyFqG+zH06VUe4jHWZ7qyfnZKGbvXdUrhrwypuD0oSx1sa5M1EyHeDLccm1w/t/11vg8c1+RcWkFCnBs97WcbUM0h+vKH6GyVBJLb+PzrgD5gAAAAPQBnmB0Sf8AAAMAABDrVu6OWaR+hrOnubmfa/aS5gxtm60fbt8k4ZJqe1qmztlA3djLs8o/AeN4GnMQnfdSWfTsDn588xkOjaYXeBKgdZVrRzgdDup8Yho38blChTOvtHNXgS416pY9FfDgP0/aR35sGKETkiC5MO5Awdrn8fKcCMYK6sOIBXRdM3xz0u8Z1yPj+koES6XsoBnWL2Ri1pBzmCNNDoNbTcsYgRfNvDBVzAuSzJrcA6sAWmEexxH4mh++t3DWEZ3K+s60hmaTa8nXr1xbLFEjpUMzQlfpUO/HZ/dmlQtOt1+m+vBdbrH5tgqAABZRAAAAkwGeYmpJ/wAAAwAAEKjN5rSMZ++0NIqj4szWKdrlhF5UbYgg85K78eDVVAYjfgEa6mZdtMTZaDY3uJ18ZEWkKVt3s7QJaP0LUKUo/bF9gPkMdkJT9Vf8opmD2VwI9YwKhQMp8sJX0qmauILjPlMYI/BOa+W7qWXMgxDXTcWoK6VnAT5sNB1/Cvl98eqQV03hkAD0gAAAAvhBmmdJqEFsmUwP/wAAAwHxvzNOTtIGNQGw3h4QBJvEE3Rhrd7V4bhylzCDpkln0kX9rovV3FTlrL5fDPcMghPLxQb5UJdDlQZHQCVRrBunNMo6OcpZpXIsubuN/utlhW5IZXvt1isTaXzHmEmOnJBKY19UAmpx71mE4/qw6FstqKPkxIrbr7h7cuSeCiqMFQKpxatL7cDVcLofJoOyL0WbAR0HxvOgKA3NXruK9TA7GO97Jrsh6k0yAo9BZQ5I7jDtGbwE/2Rmgp+7d+YobdWceV0F7TEhG0kdYBTpjn4i9ExKHol+yMJTcwwig91bRswzkwevtOFupYAxoxHlAojjWGCQeSXe+Ruwc2emGpEGpFuYTq6BG236iYoxQ91l9y+W5n8g8geklRbdbResRhCyI+BxZedCGEw+N0IYR30T1bgphDImo3NJlc0gdx3as4fTCTac8Hinzf/Sve5hL5l2/3woS/r0ju/d1My5Ok1s1z1e4VN/j6GRPDMBs9D8uNQEdlnVN0lDoRqUzHHUcpylHH/YEamSx/R/D9bN5fk1MRdyEBjseB+yoDWDYH8BSFvy/hVpT2XN0UN+SMHAYc3y1ZsqfgtxyVV8kwEFbrJt3eSBU5u9YE/kDnJ0QP3QP08ulMMohm0EbWV+W79PA1y6Jspaeix/VqTCBpuhGLQkS6cc7IEUsOLAy1dtMqT4uSHp8CixnZkQYQcw0fPEXmOgwPGLGadX2DTD+VQIzTTlxkaMiwqYv9ui/C0gyi5VWGiEs5I9V1USZteMIpCDcwXebXl0Bh5JrpaB4dFhZZmgEaonOu8rbh3LJl3Tm2mcXWJnV96uAx7TWffTf1aKwLRiF2WI4U+sdmgHRGyobOG38VDHrveU3xS69RdOHoFliezTcgZVdcLpu2keE+YcUsVGzBEH6Fnh0ktkttn0ECQYIc2BpqPNncIXT8I4u9uQ0myc3NRjKpafdQDevWK5YqItqK7hJ1JehFjfKKJ1gRtwAE0afARKfQu5AAABFUGehUUVLX8AAAMAAA+r5zJ4sIGemHtYeM+riRnv2hHX5Mp2aiCiGg6rcQStm1FjEWuj63lvRoqxSk7lzcSI7Q/eErmR2CEZ+sAfZAJ12QiYMQZMv1/U4rsvYQb90iOpo93QJf9nVVRq3p1MG+oN15cgXD9DXNEiYNNgt8hcL24QQqa7BciusoDZvSPLl+837TIXDEVwWiZVcYULGTG+qQSE/2E2q3EfecMPUAqqbZLR7uPImQA/8x8UsSWbkYsrE2UFaeERazWmzsw+c0BRBVacjgBZqztdcMy1oqjcj8hWRePOQEnelGAGCZjeozUWMXGC7T5DHUTgLZR3FBaI6rczdm9V7766NJqq3rPfPHP5XPiQj4EAAAD1AZ6kdEn/AAADAAAQtBzd8MGJsbpD2QpHCCvvIaoeYDD3PoGZvU4v67MX5SxTShewqCrmEp9YJDtse2j4g2oL6QGdOSkwEkHP1KudR8Wj2cQTcX3cm2oKfdu8woE1ag8is/+Xn255jpTk83e4RVf7Rmbgx316tN/miGLHVO8M7PCZKIeSio97yOIDCNtAyGB0ZbErk5qtRpXL5j+bYyFb+ONXHQGc7rzkcreA6qZc/1s+PBbvwexrA+pZO0u3HVaqOjbQris1TPYWAHRbWUBB48tFNOPA9lI1zOxQtV5WZ5dRwYAgpZ7SMYJEO+GpLbX91pDUC8kAAACVAZ6makn/AAADAAADAjWjI5nfGobfCkoXW8bS9Y60fUH7/PDQJ5fL12KS5xA73HdMvNw1pLdXYpR/f+RTzQTpCwzbHImvaCkuAs/DRZAs5VJbh8AWmGFuCgMGmbXqJ1j9NSo5zx8NrOlWyi2fOjCL0UAlvt1IH21TaQpPsyndv0FRy81kCf8pTHoUB0LLgkOxgqEABjUAAALWQZqrSahBbJlMD/8AAAMB8b8zTk7SBjUBsN4eEASb8EXqUgnMzdQLIW7ePy5cg8Cbtf064D80DSwOfKzlaNYw9qOzqf/1i+NJQUQgKmWDwLU8Ndf8DZlfMcqgIKzdSvjcoY2UrcPb5SMKST7GAaGcf+iLOVXjyNwtUktA/vrD5+JYK1ct5sgKRgeEJsH5P3yd4+q9jBkAo8FvYt7ooVShMy1e5yLhWfnK02TBb60oADxX5WOmjW7nFUvgD1UyzjZWLlCcE/6m52a/jKlh4/MrAuXhibthD/WCZ3Yb1dX30l5zi4zZ64XJcPhSUUo2XgD0wOUEUFWwTf0wXrJC0YsThm2bpJnyEBpzwMdsLzk7j9nwUInlK9zxuh94vNbiSA2zDDhPT60Af9VlV5zmUMC72KksWVSUkjU4nc9jCC2WgcyLXro31NRxM+egN/t1A1QAy7kDLB0G0VNLTgQg9D8c60CdCsY9p7TbfALKPUao7ut/1cKjb5kCWE2611lzAXrVqrnlNSmVF5ILt50L6FwxdeKY8EbYjQ2peGUyRvF/M6SJ8qjZvJ7ZGbV9xqlfN+07uED9LCcDb3xNIT85zCV58eHmhfxhBEY1Ybv6YBGpQDiy6nou5BwS5kSDRj9ZevuCAR0DzbhdynK3gRl/dSChy02VH/hmelzV3VgH+mUr07PBYPzrTThLHR9gq/JZ8qnyr/c9K1mtZeHHxClCKarhMRkR8EERj4zBqn3C53fJ5ievxrVUVS/gL1j/NrcD6e16V95Bc2yYgyfp9vIhohowHyc2wmuwdzDk/cF4BH3s6pOj6VmOMPeoA9iE6OAc7TsmdAixhT+8l4Vw1h9srYB5pRgC0iAuKvkWqTRNUaroOthU8hR8x64IQdDoXWIGTSYO0qGXmrMYr3pCnPa7Yim+a7zezL2X2PUCJ/eCZR9Nl/WZ8z0sVR2hBhouUhwlAtBKjOYnvCXgAAABY0GeyUUVLX8AAAMAAA/KNzhztnXml3vNbLbFdoDmolB6FGYD+GbkWiD5WD+Ltg7D9lCPmgq6EafbePpr6DKLu7Dj2kl3jLPZ1lHXH0+gCmB+BFelzyRJ7oKnG+GLyCB6JQxYU2EIpKlMG3OQt5TGioBpk82iO+dtS1sL0lHgFnO6KGuBGW2aGU5cQMMVaNZPJ72An9MyjrcxRSIH5wSQa3p984DoBoXk75omA6pPkpnGyPUOdxhr2gXdvFZ7NroRoTQzJanXTgPZfWprb70KZgFJvyrZ8fBPVUB5BNdYY2rVgL2fHxY135pyMj11qU6YtKhQS2FJ+XleYUdc9LnbsANFNVSdtrS74qUJGNjCfYOnQta/1Pb92Hhqay45JfiLr35gZBBdgbX5MSOrisKGG1jceBv0CKgZ098Dsklh0+JvRGckfRQIRMRshGhTIVSyQv5wqyxzLJyMD+2NTidextekAUMAAAC9AZ7odEn/AAADAAAQxdXayP7+H5FCJ4EBv3Kd3abpD2PeVBBo5CWp+jUx6JMBWCKD46FwnTuEus65X0gnISM1ADw2E68sreGKu3ktn/2WtHZxaaC+rMV65rDWTl/J9A5fP2/9Vs8RPKNB2SWytaI9FNnzXeGFyDvGsYRqdG/RVT41cKUnridCadm5FVEEQeyK+n41VgGGcSI9iB36bDf7O566PrleKyA+r8dgeLlOSqY1efiYcihmz4Z+dBnxAAAAegGe6mpJ/wAAAwAAENbQ9QO5KPGdLDR0ZPs7L9DgSizfnYQ7OfzDHrGpTXRGNCmigTCXoSKZli7HMl/dGN8yuVP1Gamel/A9+d1RqC8LlWTmBXW8hrajwqAxqivZZPQ1o9zpkAEGkgScUA9aqapTFh+XZRvPuokAAHrAAAABkUGa70moQWyZTA//AAADAfG/M05O0gY1AbDeHhAEm8QTDjxzgZkP1UYT/WFBSBh9ccXYOgqkfZge3KAJfedsKzyuunKV/a/0+LkGu3XiFwjM4L/FbFT6v+jSLUICLOS/1ah9tLy8euohjJsBtZYzQRgbZXxcARZ7QM4xjlkbFuM+xlWvJliM4XKETHFtfTyVIX1P4gRBF9BoYkhqg7G+8WQz8fvV+ihp2d4KphCC2ZRbiQ0qP7cjjOagpQAX5h/Wtu20E0I3F8XwE13cGs+JTNVE9NGzpw7tgRt9vUN8y/wB7cCnxrHm5Q9Ptma/LCOH1HYDg3BYtTBEol2EmirO/YwMKuaipJe5/g8yl3DVyReO4qDL85bkjbBZduukzEC0p01hgESvz15PEqjW2UN6DXtfV1Urnjdqt4l7av3c/HnE95wJAVdhi3KmPWz6Jbv8yZnZP1aVHhpWeRT9mT2h2fxHkKNzZMVbIgS1jFtdru8fxr03igomqr9bkYN0it0IU5ibKEfm4Sk4GehKtuw7wAKSAAAA+0GfDUUVLX8AAAMAAA/iDfFcRuuGP+XiAl5l21yPEvYmUBuUrAFqLHmd9+EywToiJcoHm6B8GdAPPWrJcXGyTX9GLv8hekL7PisgSqRHhtQmKVJju87UVrxxYW8YW1P8cFHfQhGUE7Mza7Zi8vPnfnWdw/Zir5ST6jNoelqqAn0TebWIikylDKBZDr4liDUL2aZUgoPC6OCmq9gcuxNj2ztQ6aqBXsw5TgNiEpN7X5PLUSPauh8hpJzvnY0er3RUrmCdv7Q05xBjg8ds1Bs0LkcByCoOY/lROnvJ0o5kzy+/ifxsl22GaqsRvlQZ8rHihNkyhma+CfggQBMxAAAAaQGfLHRJ/wAAAwAAEKiWR8ODVplSqfBcfQz9qLf4lH0ueEBvxkgXKw1AEdM9fw9/Jhekgf3o1glNliRoRMc04HYJ34AsTRfVoes8nmE8LYp9I4XXjmecrGk0lspyPmZNkCGfuROH5RAP8QAAAHkBny5qSf8AAAMAABDKOtGjWKKEq2iXp/yvylBNbqk621OYBe10xYNEGc5ZGirqs4I0JNlnzYih8gjDGeXX/hG6ZfZuqwryRw/BnalKBDvEfKMV8zGgdpdUG9vuQK30Mc6rvMTFgDw/EXed2B1LnOsN2s8d16KoAAWVAAACpEGbM0moQWyZTA//AAADAfG/M05O0gY1AbDeHhAAmsdifRbItOKrSolayTj+bfxkZQ+w6qYR7qjQTNFv3m4cW1LCCtfPX86+eB0xKcsHycnRGsswiWYuWoWqJCTXs7O8hLXjCOesb2Bu4+38auSqo9BHiq1yFsLFyHUSce5hCsOpPcb1UGh/k7kSetFmAh8vkjt/AyWjVVITt/h2pSPN6484mfXvr3FImn5Hg/xsWjP6GHrh9Z0BO5FFy6PpJzu1eZR2uMyQPFRkhl22qTk6ifNHgEgPzR1TE0VmfarYtxPOgVxURA1ieDeSsssfccn5Y4GLXKgnbTtirIVjgACi+qCI4bjqo620k9Nv/lYv+XgAOE0yNtXLODVYKT4jEOEG9BcfBvQJZmf6WKF58U9qbSX3+NJEizPo7UBj1OXmWH8W/tENpfALX0sDtAGs23jjSiO35ZwUgrl9hhgyp8YcWPApnPKRZky6Hg876kp939c10goRBWhWty0PBsAmSvIFFYjqziZx3BS+Ecj3krLYHZFEBAfYJ9qlvfdOtuKcHG3C8OEaVaxKYIIe3D9HYU8Rj9AnYQ68A50EJwjsNV18J5MfswobtCJOHC/du/AQCYZuoxfzc2ICswvzmuaW2lpYNueEIdpp+u5H+KLoPsk06/rDHY+uGgiaDxJHT+wyAt+/FUD7IT/K7wy2zGr6i6yio9LsFKXHQT07g43efsE6BeNH+XHKxCQXoCBcdNoD2x/M9cn1YZJD4anTRHAkAzswhu7u/863BsJ/W9lBULKXzEfb6KWQSSqGSX9WV9YTjanhan856kFAaL/83eCDmsHNgqaNeQAkW8hCF5ba4qBviww+pn93gLzCEthX8PunSOvcBAJiIhPdBqyTr0uF6o9DQmNsqoAAAAEzQZ9RRRUtfwAAAwAAAwITfasotME15/IoIhDWzs2p9Pebet0QEouXvXWv1rjBucGnSNw0F4twfOnJDEFdH5EVaY/UiFHNVfbD7+M6Y5Tr/n8+buxMHmSK0z3756rfiEIEF6G/lC4lnn+X30lzVkvHzsfaF7p4nchfWLfNR4xvqWs2urim3V0CLGM7AcHqzvSyYRBLl0A07cX5spTBVRQW9FOXxA9PSRKddsEiRmdwgaQXnwyvRuqIanxedASJFa5fMpWohtGaMO1TEFMrPmTWEjEpIGKdwGwbfXdLecSduhZgPQ2FNdvV9VsPc2D47x9cU9VJrIxHYZms2aQu518G+sRYXvRszT4zvaZqfTfoHwYRY9/5bKtFEXGGtgsrrs74ZCIgnkNHaD/vVtEWaH9gGjAFTAAAALYBn3B0Sf8AAAMAAAMCOJFnOdBNQP2eUqKGiGlfXOneCISRZmxfVe7qoV5pm9q/wgzQ1Zm3F8Nqk9cakRBAn/yAh3Vp3mpvMEq8VxRR48O1lkCSeuRf42ogH6ojDbs6vzqv/FsDw+lFUcB0eGZTs0EmWokyDUsuRxKOS0ulW3sFc6eFKCcnRClFej8WsW11NtXv2ZNW7TPyCliZlacE1oQ+FbywebSmIp+0j28YAkCvaFycjQAR8QAAAH4Bn3JqSf8AAAMAAAMCLCTKVVUxzDiQNn8iaX5DWG3uTb0byF/+8iyhgkl1UqH8YvvlLtvGu88+5lFajqudqFBw+aJx7Se8YZc3bU1coqU4BszqTWh9c2PzFFntz1Jo5Zk5qaXOoaTz/UwXAuXJQX6qQutVha0QvCjI9qZAIOAAAAIFQZt3SahBbJlMD/8AAAMB8b8zTk7SBjUBsN4eEAS7/0JLJj8uKpsY+mwT6XIb1nBapcEWT2+wIEiKF4b5FhcUd627X+J1gz545H/5LG4Lt58KUYuH5r6lufR1GfjfhQHeYF8HbXsq9wpowium2A6yWddbOf1M/LSlFHIcwUYhNCLPQKLiPZBSqY+wUZOIImQ03mwIycmcy6mF3HfA5yDTK2Z7rrDiwHrqilQdoR+0YV4I9j0vp5sl7hKCKhEHpEysv7Wppy7YoFPsjX0LKZiEhLid70YIXysPQVkNuVOOq2b1fhSZ7HlLzskqUxGEEwVQexuFa0VBccX7UKsFn4mzOI97l5Wswu8rtW3HAn5Y3u9zU3Y0Ft6W6u6of2tMrrQva+OLkPmQA5I8k+U0Ntj5fmVx7Eu2XVp8SihN/tHv6Sh1pFi4WxiiZBEGEBPCcInzHyAVuyAqUpQ22R9ni+bjKRnSer35jicFBUH9ajv5GrElbZz6eBn4UTsFdzlev/SIf8qeDRhnKxVwSIDqUjzJeBCjnl58UDIk94Hl0iRjLk2MiTvjuHMxSRH1bahEhOBPo7Q6DYoyqphbxo0HNjnrdN9ohW5kp06db7Ob54qHXWrVCE7r0RqC6fgIlh1Ox/9qOwVA+eGli7N/Gh4wLn6ciXSil042D23fwezptT9lX+MDugOxNAAAAUdBn5VFFS1/AAADAAAQQTbWIXQ76AESuKBkANlaDGL29rqhpeGTZWHwwzQQol5Elk1DJnM9Lzlytiqo1AGHELUTiKNWgSX2GI0aEeMw3zPRgDNnaH8g0QkOMbH7lQ6bFJD+ZYx4qKPzPeuAJEH2aVwH03RfnlLw88W2mLle5XjRvGKZAea3aQcas9xlzys5zSOGAfOUT6gt1x1jrwj2qPPza8zoi4APYeNjXRdrYAAKoZwUMRFYf1ZAuiSi354Kt86BYlJVAvCK/T94C8qrcC1F1nYVcAD5T33+cYWAeUhP9wQQyRV6kXy1Aky/qYyC/mgCLi8KAgYwT2IEewa/w6turmGfelzUpJE29jKGbBDee0YVnDNCSrRi3vYLYT39PhUMXwzH04K27ZWgPlW9dT12DQIJr+B8y5ZbRjlS3BXw/qe01GEgLuEAAADCAZ+0dEn/AAADAAADAjR6eDEKgOXxPyhV724/hsn7fDfVlt1TwvEks4MogBs/+ML43XdB2clnCApNU2kdCMcNe7+wvMxAobZuWK+kn94wAA3D1ldlKWcbJArupO1XAt8UP0pPvPvl3KDKpSxbwDt+IliHQO2Q7QRNplWj8ZIp1KSScLnaxf0ScWnJUtSbci/J1KJe97mW2Eh9/bJC+bhKe6fX0PTr3oe2KqlFGkvLmLCK+4QDntMFdS3mUM6ug1sAJuAAAACOAZ+2akn/AAADAAARQyx3TlF7BXVr2Gl6xaEklRILCsZQL44tau1HxzGIEonkJNYrs2DILf2mlvGJ3wY94emK/FVoueYodweZKYDWRhYaEcNxlx7otGUfyoWq6FDKegecGWARTpecRv6KSRBAEyw7y21Cn7vc6mpCyXt8BgYeZWyekDr48dfiWbyBO/gBBwAAAk1Bm7pJqEFsmUwP/wAAAwHrgVRTuLHi67/DQsOylnq5KoCcrofXYDQzXnmmbYn0ydFgMWR8eJEWAweYmO5LcPjEju8k2bCXj5PkolXHjHdAJ6sIVqlqr3cuzlgiR6sV0a2Q568na27DGNMfczvJQOmrdR8dMOTkCUYo1aL+lhJlX5VFBV4Ss6s5T6F75Vn69MTQ1Wf4SnuoX6Z0diy6ptQVtikQTbzH1RHCekbMngJNaY+WmsdlBoUMHkJDFANYNS77Gf4n7smyTB7Agc+067CAUF4jbHuC8MBWjHAhjMp61XA6b4jgEWZ4QKh9ZX9I48/8ryPok8l3MeT/UzYyZ6l/Hd+VIa/4VNbl92TxVjTDe5ABD/EYA7X1M92jZkF/KRMbPXe2NYOunmLUmtelZpBtzRrwY5BSL0iyxyYI1XSOOO6xk9VjijWY/QJMrpJtRDVLRbGhuBZR/cCc6rKi4rKZB5dZpGoLvYoGUR88ZRlrdbq92cqfhNffFashzRFjaWgSk9QKlN/QXQIUJ0A97pc3A9fEu1C8HHACsTsAlqISBzOVIFSJ1oh/qiEbqyXEoIbFQH/h+Jn8+cU1bn6hpPKqv9kyXAZGBPXRMSDMPpGk1LezaPxmZ7Dxx34Q01lXQ6P3suRYCvL4r87uS2ZXqYL0cvvFQPy7DRLBdZFZbTCC7OQvgzN03/fgYtiEUkx1efccGXC4ZqPZ8mmvIYllx+thFMEk5LFqMzYtuVfQvFUir4n+D5u14Xi9WUCZoS084fSaWq3kYv0QPQ5wAGDBAAABN0Gf2EUVLX8AAAMAABAQyXhqRd8m2BDwQcux4p+avfAQYxEmtrEZ/CADDLQvOTDsA44omdEIzKyq9hG8e62v9q5rC6qCSsauTQyy2XF15VGorbqAipVdxsBPqSoa6FVKrlxVmjgYq6F8/Mv2z4SZu5cdDPLRoJ3JiFj6kcQQga2m3v5m9B9BNMQJ0Gc8eU9C6w81M2MoBHx4fX2LVg221jTpIbL/BugBed1/0VYi9y5Rm23F96blTpJOa7fIfhk/uUNsaTDtHzWK/cgcY/y47DbzgPt8gwjbz2mKf3Iv+UjOiZWZW0LA9PDdnUHKMxEHePOCw9KJj42AKKT5Bh9SYvQKfApR+w9L0zxV2zyXRV7UF/kaEVYmnHk1OH3r6cK31DSt30chNHPagYW1VLX3sEgr5KZ7KAYEAAAA9AGf+WpJ/wAAAwAAEJV7uOHmLvcrMrVRH2P+PSqvUwG9nL1N7z+/ETYM8t/L56K6ag70xoAOJpQb4sFInVpVJ/KaS4oQWcmxkzyrroFfrAC+UjgIG5/+qNYeRcriNDULw9wa0CVQpH/ax95Wk12t5kM2dW6IToMiy2BdgLTz8ofM+zt34te4XLUgColl49nutlBN5yll+PSRmvWp+rpirjBH7LU85Jax1WOGSn20J2HezX7NY4A7QWayNbGG/+HtH5Jaf0w1wf6G1pZHhM1BQM2fb1Nf7r9drgV6CXQzOAg5L2uBy1THFCrKZcqGIT6RVVkAFbEAAAjlbW9vdgAAAGxtdmhkAAAAAAAAAAAAAAAAAAAD6AAACAIAAQAAAQAAAAAAAAAAAAAAAAEAAAAAAAAAAAAAAAAAAAABAAAAAAAAAAAAAAAAAABAAAAAAAAAAAAAAAAAAAAAAAAAAAAAAAAAAAAAAAAAAgAACBB0cmFrAAAAXHRraGQAAAADAAAAAAAAAAAAAAABAAAAAAAACAIAAAAAAAAAAAAAAAAAAAAAAAEAAAAAAAAAAAAAAAAAAAABAAAAAAAAAAAAAAAAAABAAAAABQAAAAHgAAAAAAAkZWR0cwAAABxlbHN0AAAAAAAAAAEAAAgCAAACAAABAAAAAAeIbWRpYQAAACBtZGhkAAAAAAAAAAAAAAAAAAA8AAAAewBVxAAAAAAALWhkbHIAAAAAAAAAAHZpZGUAAAAAAAAAAAAAAABWaWRlb0hhbmRsZXIAAAAHM21pbmYAAAAUdm1oZAAAAAEAAAAAAAAAAAAAACRkaW5mAAAAHGRyZWYAAAAAAAAAAQAAAAx1cmwgAAAAAQAABvNzdGJsAAAAr3N0c2QAAAAAAAAAAQAAAJ9hdmMxAAAAAAAAAAEAAAAAAAAAAAAAAAAAAAAABQAB4ABIAAAASAAAAAAAAAABFExhdmM2MC4zLjEwMCBsaWJ4MjY0AAAAAAAAAAAAAAAAGP//AAAANWF2Y0MBZAAg/+EAGGdkACCs2UBQD2hAAAADAEAAAB4DxgxlgAEABmjr4ksiwP34+AAAAAAUYnRydAAAAAAAAoeAAAKHgAAAABhzdHRzAAAAAAAAAAEAAAB7AAABAAAAABRzdHNzAAAAAAAAAAEAAAABAAAD4GN0dHMAAAAAAAAAegAAAAEAAAIAAAAAAQAABQAAAAABAAACAAAAAAEAAAAAAAAAAQAAAQAAAAABAAAFAAAAAAEAAAIAAAAAAQAAAAAAAAABAAABAAAAAAEAAAUAAAAAAQAAAgAAAAABAAAAAAAAAAEAAAEAAAAAAQAABQAAAAABAAACAAAAAAEAAAAAAAAAAQAAAQAAAAABAAAFAAAAAAEAAAIAAAAAAQAAAAAAAAABAAABAAAAAAEAAAUAAAAAAQAAAgAAAAABAAAAAAAAAAEAAAEAAAAAAQAABQAAAAABAAACAAAAAAEAAAAAAAAAAQAAAQAAAAABAAAFAAAAAAEAAAIAAAAAAQAAAAAAAAABAAABAAAAAAEAAAUAAAAAAQAAAgAAAAABAAAAAAAAAAEAAAEAAAAAAQAABQAAAAABAAACAAAAAAEAAAAAAAAAAQAAAQAAAAABAAAFAAAAAAEAAAIAAAAAAQAAAAAAAAABAAABAAAAAAEAAAUAAAAAAQAAAgAAAAABAAAAAAAAAAEAAAEAAAAAAQAABQAAAAABAAACAAAAAAEAAAAAAAAAAQAAAQAAAAABAAADAAAAAAEAAAEAAAAAAQAABQAAAAABAAACAAAAAAEAAAAAAAAAAQAAAQAAAAABAAAFAAAAAAEAAAIAAAAAAQAAAAAAAAABAAABAAAAAAEAAAUAAAAAAQAAAgAAAAABAAAAAAAAAAEAAAEAAAAAAQAAAgAAAAABAAAFAAAAAAEAAAIAAAAAAQAAAAAAAAABAAABAAAAAAEAAAUAAAAAAQAAAgAAAAABAAAAAAAAAAEAAAEAAAAAAQAABQAAAAABAAACAAAAAAEAAAAAAAAAAQAAAQAAAAABAAAFAAAAAAEAAAIAAAAAAQAAAAAAAAABAAABAAAAAAEAAAUAAAAAAQAAAgAAAAABAAAAAAAAAAEAAAEAAAAAAQAABQAAAAABAAACAAAAAAEAAAAAAAAAAQAAAQAAAAABAAAFAAAAAAEAAAIAAAAAAQAAAAAAAAABAAABAAAAAAEAAAUAAAAAAQAAAgAAAAABAAAAAAAAAAEAAAEAAAAAAQAABQAAAAABAAACAAAAAAEAAAAAAAAAAQAAAQAAAAABAAAFAAAAAAEAAAIAAAAAAQAAAAAAAAABAAABAAAAAAEAAAUAAAAAAQAAAgAAAAABAAAAAAAAAAEAAAEAAAAAAQAABQAAAAABAAACAAAAAAEAAAAAAAAAAQAAAQAAAAABAAAFAAAAAAEAAAIAAAAAAQAAAAAAAAABAAABAAAAAAEAAAQAAAAAAgAAAQAAAAAcc3RzYwAAAAAAAAABAAAAAQAAAHsAAAABAAACAHN0c3oAAAAAAAAAAAAAAHsAAAxaAAABSwAAALUAAAB6AAAAcQAAAmkAAAENAAAAgAAAAJoAAAOJAAABowAAAN8AAAFFAAACVwAAAOsAAABoAAABGQAAAoEAAAFdAAAApAAAAKUAAAIsAAAA/AAAAKUAAACbAAAB+AAAANcAAACJAAAAcgAAAdMAAAC7AAAAgAAAAH4AAAHcAAABFQAAALUAAACVAAABpgAAAP8AAACCAAAAlwAAAkAAAAD8AAAAiQAAAIcAAAKMAAABAQAAAHYAAACOAAACuQAAAf0AAADuAAAAnwAAAWQAAAB4AAADDAAAAasAAADLAAAA6QAAAhkAAAGvAAAAvQAAAJ4AAAIIAAAAywAAAKwAAACaAAABmAAAAdIAAAFIAAAAcAAAAJAAAAHKAAABCQAAAIMAAACbAAADIgAAATkAAAE9AAAAfgAAAp8AAAF+AAAAlgAAAQ8AAAKZAAAB3AAAAM8AAAEsAAACsgAAAYEAAACXAAABRQAAA20AAAH7AAAA6gAAAPAAAAOYAAABMAAAAPgAAACXAAAC/AAAARkAAAD5AAAAmQAAAtoAAAFnAAAAwQAAAH4AAAGVAAAA/wAAAG0AAAB9AAACqAAAATcAAAC6AAAAggAAAgkAAAFLAAAAxgAAAJIAAAJRAAABOwAAAPgAAAAUc3RjbwAAAAAAAAABAAAAMAAAAGF1ZHRhAAAAWW1ldGEAAAAAAAAAIWhkbHIAAAAAAAAAAG1kaXJhcHBsAAAAAAAAAAAAAAAALGlsc3QAAAAkqXRvbwAAABxkYXRhAAAAAQAAAABMYXZmNjAuMy4xMDA=\" type=\"video/mp4\"/>\n",
       "      This browser does not support the video tag.\n",
       "      </video></td></tr></table>"
      ],
      "text/plain": [
       "<IPython.core.display.HTML object>"
      ]
     },
     "metadata": {},
     "output_type": "display_data"
    }
   ],
   "source": [
    "rng, env_rng, action_rng = jax.random.split(rng, 3)\n",
    "\n",
    "jit_step = jax.jit(env.step)\n",
    "jit_reset = jax.jit(env.reset)\n",
    "\n",
    "env_state = jit_reset(rng=env_rng)\n",
    "\n",
    "env_frames = []\n",
    "while not (env_state.terminated | env_state.truncated):\n",
    "    action_rng, sub_rng = jax.random.split(action_rng, 2)\n",
    "    action = env.action_space.sample(rng=sub_rng)\n",
    "\n",
    "    env_state = jit_step(state=env_state, action=action)\n",
    "    env_frames.append(post_render(env.render(state=env_state), env.environment_configuration))\n",
    "show_video(images=env_frames)"
   ]
  },
  {
   "cell_type": "code",
   "execution_count": 25,
   "id": "28db094f-0383-4471-8460-dc7a098833da",
   "metadata": {},
   "outputs": [],
   "source": [
    "env.close()  # always close the environment after using it!"
   ]
  },
  {
   "cell_type": "code",
   "execution_count": 26,
   "id": "43168ddc-2a39-47b8-abe8-5c4aac9b3baa",
   "metadata": {},
   "outputs": [],
   "source": [
    "NUM_MJX_ENVIRONMENTS = 100  # set this to the number of CUDA cores that you have available\n",
    "\n",
    "mjx_vectorized_env = create_environment(\n",
    "                morphology_specification=morphology_specification,\n",
    "                arena_configuration=arena_configuration,\n",
    "                environment_configuration=environment_configuration,\n",
    "                backend=\"MJX\"\n",
    "                )\n",
    "\n",
    "mjx_action_rng, mjx_vectorized_env_rng = jax.random.split(jax.random.PRNGKey(0), 2)\n",
    "mjx_vectorized_env_rng = jnp.array(jax.random.split(mjx_vectorized_env_rng, NUM_MJX_ENVIRONMENTS))\n",
    "\n",
    "mjx_vectorized_step = jax.jit(jax.vmap(mjx_vectorized_env.step))\n",
    "mjx_vectorized_reset = jax.jit(jax.vmap(mjx_vectorized_env.reset))\n",
    "mjx_vectorized_action_sample = jax.jit(jax.vmap(mjx_vectorized_env.action_space.sample))"
   ]
  },
  {
   "cell_type": "code",
   "execution_count": null,
   "id": "a780e42d-983f-445a-a93e-2ec52edb541c",
   "metadata": {},
   "outputs": [],
   "source": [
    "mjx_vectorized_state = mjx_vectorized_reset(rng=mjx_vectorized_env_rng)\n",
    "\n",
    "mjx_frames = []\n",
    "i = 0\n",
    "while not jnp.any(mjx_vectorized_state.terminated | mjx_vectorized_state.truncated):\n",
    "    i += 1\n",
    "    print(i)\n",
    "    mjx_action_rng, *sub_rngs = jnp.array(jax.random.split(mjx_action_rng, NUM_MJX_ENVIRONMENTS + 1))\n",
    "    action = mjx_vectorized_action_sample(rng=jnp.array(sub_rngs))\n",
    "    \n",
    "    mjx_vectorized_state = mjx_vectorized_step(state=mjx_vectorized_state, action=action)\n",
    "    mjx_frames.append(\n",
    "            post_render(\n",
    "                mjx_vectorized_env.render(state=mjx_vectorized_state),\n",
    "                mjx_vectorized_env.environment_configuration\n",
    "                )\n",
    "            )\n",
    "show_video(images=mjx_frames)"
   ]
  },
  {
   "cell_type": "code",
   "execution_count": 1,
   "id": "de59293d-86b7-4987-828d-4383cd775b41",
   "metadata": {},
   "outputs": [
    {
     "ename": "NameError",
     "evalue": "name 'mjx_vectorized_env' is not defined",
     "output_type": "error",
     "traceback": [
      "\u001b[0;31m---------------------------------------------------------------------------\u001b[0m",
      "\u001b[0;31mNameError\u001b[0m                                 Traceback (most recent call last)",
      "Cell \u001b[0;32mIn[1], line 2\u001b[0m\n\u001b[1;32m      1\u001b[0m \u001b[38;5;28mprint\u001b[39m(\u001b[38;5;124m\"\u001b[39m\u001b[38;5;124mObservation space:\u001b[39m\u001b[38;5;124m\"\u001b[39m)\n\u001b[0;32m----> 2\u001b[0m \u001b[38;5;28mprint\u001b[39m(\u001b[38;5;124mf\u001b[39m\u001b[38;5;124m\"\u001b[39m\u001b[38;5;130;01m\\t\u001b[39;00m\u001b[38;5;132;01m{\u001b[39;00m\u001b[43mmjx_vectorized_env\u001b[49m\u001b[38;5;241m.\u001b[39mobservation_space\u001b[38;5;132;01m}\u001b[39;00m\u001b[38;5;124m\"\u001b[39m)\n\u001b[1;32m      3\u001b[0m \u001b[38;5;28mprint\u001b[39m(\u001b[38;5;124m\"\u001b[39m\u001b[38;5;124mAction space:\u001b[39m\u001b[38;5;124m\"\u001b[39m)\n\u001b[1;32m      4\u001b[0m \u001b[38;5;28mprint\u001b[39m(\u001b[38;5;124mf\u001b[39m\u001b[38;5;124m\"\u001b[39m\u001b[38;5;130;01m\\t\u001b[39;00m\u001b[38;5;132;01m{\u001b[39;00mmjx_vectorized_env\u001b[38;5;241m.\u001b[39maction_space\u001b[38;5;132;01m}\u001b[39;00m\u001b[38;5;124m\"\u001b[39m)\n",
      "\u001b[0;31mNameError\u001b[0m: name 'mjx_vectorized_env' is not defined"
     ]
    }
   ],
   "source": [
    "print(\"Observation space:\")\n",
    "print(f\"\\t{mjx_vectorized_env.observation_space}\")\n",
    "print(\"Action space:\")\n",
    "print(f\"\\t{mjx_vectorized_env.action_space}\")"
   ]
  },
  {
   "cell_type": "code",
   "execution_count": null,
   "id": "3b004a2f-0871-410a-ba5a-663b18fdf1de",
   "metadata": {},
   "outputs": [],
   "source": [
    "mjx_vectorized_env.close()"
   ]
  }
 ],
 "metadata": {
  "kernelspec": {
   "display_name": "hope-kernel",
   "language": "python",
   "name": "hope-kernel"
  },
  "language_info": {
   "codemirror_mode": {
    "name": "ipython",
    "version": 3
   },
   "file_extension": ".py",
   "mimetype": "text/x-python",
   "name": "python",
   "nbconvert_exporter": "python",
   "pygments_lexer": "ipython3",
   "version": "3.11.7"
  }
 },
 "nbformat": 4,
 "nbformat_minor": 5
}
