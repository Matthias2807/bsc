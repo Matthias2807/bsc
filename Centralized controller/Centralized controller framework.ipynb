{
 "cells": [
  {
   "cell_type": "markdown",
   "id": "769e6555-18b4-4f0f-92bb-7fe51e6fd529",
   "metadata": {},
   "source": [
    "# Developping a framework for the centralised controller of a Brittle Star robot\n",
    "Integrating the brittle star morphology and environment framework of the bio-inspired robotics benchmark with the Evosac implementations of neural networks."
   ]
  },
  {
   "cell_type": "code",
   "execution_count": 8,
   "id": "62122052-bad7-4baa-a5f7-29f2a76c1dbf",
   "metadata": {},
   "outputs": [
    {
     "name": "stdout",
     "output_type": "stream",
     "text": [
      "/apps/gent/RHEL8/cascadelake-ib/software/Python/3.11.3-GCCcore-12.3.0/bin/python\n"
     ]
    }
   ],
   "source": [
    "import sys\n",
    "\n",
    "print(sys.executable)"
   ]
  },
  {
   "cell_type": "code",
   "execution_count": 44,
   "id": "9ac753a4-ad98-474a-86d2-3f2a28094827",
   "metadata": {},
   "outputs": [],
   "source": [
    "import evosax\n",
    "import jax\n",
    "from jax import random, numpy as jnp\n",
    "from evosax import OpenES, ParameterReshaper, NetworkMapper\n",
    "import flax\n",
    "from flax import linen as nn\n",
    "from typing import Any, Callable, Sequence\n",
    "from evosax import ParameterReshaper\n",
    "rng = jax.random.PRNGKey(0) # make an rng right away and every split throughout the document should make a new rng\n",
    "# this new rng should only be used for the sole purpose of splitting in the future"
   ]
  },
  {
   "cell_type": "code",
   "execution_count": 23,
   "id": "b33ad29e-fe6c-4cae-91d0-e38571568c3d",
   "metadata": {},
   "outputs": [],
   "source": [
    "# build NN architecture\n",
    "class ExplicitMLP(nn.Module):\n",
    "    features: Sequence[int]\n",
    "    # len of features = number of layers\n",
    "    # integers in the sequence determine the number of nodes\n",
    "\n",
    "    def setup(\n",
    "        self\n",
    "    ):\n",
    "        \"\"\"\n",
    "        Fully connected neural network, characterised by a pytree (dict containing dict with params and biases)\n",
    "        Features represents the number of outputs of the Dense layer\n",
    "        inputs based on the presented input later on\n",
    "        after presenting input: kernel can be generated\n",
    "        \"\"\"\n",
    "        self.layers = [nn.Dense(feat) for feat in self.features]\n",
    "\n",
    "\n",
    "\n",
    "    def __call__(\n",
    "        self,\n",
    "        inputs,\n",
    "        act_hidden: Callable = nn.tanh,\n",
    "        act_output: Callable = nn.tanh\n",
    "    ):\n",
    "        \"\"\"\n",
    "        Returning the output of a layer for a given input.\n",
    "        Don't directly call an instance of ExplicitMLP --> this method is called in the apply method.\n",
    "        -----\n",
    "        act_hidden: activation function applied to hidden layers: popular is nn.tanh or nn.relu\n",
    "        act_output: activation function applied to output layer: popular is nn.tanh or nn.sigmoid\n",
    "        \"\"\"\n",
    "        x = inputs\n",
    "        for i, lyr in enumerate(self.layers):\n",
    "            x = lyr(x)\n",
    "            if i != len(self.layers) - 1:\n",
    "                x = act_hidden(x)\n",
    "            else:\n",
    "                x = act_output(x)\n",
    "            return x"
   ]
  },
  {
   "cell_type": "markdown",
   "id": "04935c92-b0e5-4dbd-a0da-6e2884b60ab6",
   "metadata": {},
   "source": [
    "Let us base the development of the first controller on a brittle star with 2 arms and 5 segments, 10 segments in total, 20 degrees of freedom, meaning 20 joint angle positions to be controlled. This means the final layer of our output is 20.\n",
    "The inputs will be sampled from the Brittle Star Observation space, but let's for now just initialise an input space with 10 random inputs."
   ]
  },
  {
   "cell_type": "markdown",
   "id": "be22e1a7-1f72-4a74-b8e9-e1aa6027aa4f",
   "metadata": {},
   "source": [
    "TO DO: FETCH INPUT ARRAY AND INPUT DIMENSIONS FROM BRITTLE STAR ENVIRONMENT"
   ]
  },
  {
   "cell_type": "code",
   "execution_count": 37,
   "id": "fc2686c6-fe28-4487-bdb8-fb198b60dbbf",
   "metadata": {},
   "outputs": [
    {
     "name": "stdout",
     "output_type": "stream",
     "text": [
      "20\n",
      "[ 0.06338525  0.32473582  0.02520137  0.17405976  1.6556118  -0.87135386\n",
      "  0.6929723  -0.6462938  -1.7196621   0.01410782]\n",
      "{'params': {'layers_0': {'bias': (20,), 'kernel': (10, 20)}}}\n",
      "initialized parameter shapes:\n",
      " {'params': {'layers_0': {'bias': (20,), 'kernel': (10, 20)}}}\n"
     ]
    }
   ],
   "source": [
    "arm_setup = [5,0,5,0,0] # 2 arms with 5 segments\n",
    "dofs = 2*sum(arm_setup)\n",
    "print(dofs)\n",
    "model = ExplicitMLP(features = [dofs])\n",
    "\n",
    "# initialising the parameters of the model\n",
    "rng, rng_input, rng_init = random.split(rng, 3)\n",
    "x = random.normal(rng_input, (10,))\n",
    "print(x)\n",
    "params = model.init(rng_init, x)\n",
    "# params is a PyTree --> see jax documentation\n",
    "# print(params)\n",
    "print(jax.tree_util.tree_map(lambda x: x.shape, params))\n",
    "print('initialized parameter shapes:\\n', jax.tree_util.tree_map(jnp.shape, flax.core.unfreeze(params)))"
   ]
  },
  {
   "cell_type": "markdown",
   "id": "bf4015b8-5b9b-4438-83b6-0cc0d47b4755",
   "metadata": {},
   "source": [
    "A single forward pass through the model"
   ]
  },
  {
   "cell_type": "code",
   "execution_count": 35,
   "id": "3a9e4d4e-9f4f-4f78-b66b-a50512877aae",
   "metadata": {},
   "outputs": [
    {
     "data": {
      "text/plain": [
       "Array([-0.6768114 ,  0.5990112 ,  0.5021584 ,  0.07781484, -0.82217586,\n",
       "       -0.68930304,  0.77736187, -0.00886519, -0.777349  , -0.97340053,\n",
       "       -0.7469593 , -0.26257956,  0.43478754, -0.2912326 , -0.60248494,\n",
       "       -0.64250827,  0.8634078 , -0.07302105,  0.45532835,  0.8936004 ],      dtype=float32)"
      ]
     },
     "execution_count": 35,
     "metadata": {},
     "output_type": "execute_result"
    }
   ],
   "source": [
    "model.apply(params,x)"
   ]
  },
  {
   "cell_type": "markdown",
   "id": "0e01c132-9254-4ecc-892c-d85cf4a9b00a",
   "metadata": {},
   "source": [
    "Indeed, all outputs are distributed between -1 and +1, as expected from the tanh activation fucntion of the output layer"
   ]
  },
  {
   "cell_type": "code",
   "execution_count": null,
   "id": "0d55984e-affb-419c-914c-fd2075ac49ea",
   "metadata": {},
   "outputs": [],
   "source": []
  },
  {
   "cell_type": "code",
   "execution_count": 52,
   "id": "7ce28e87-ec80-4e52-9a87-c8a8925440bb",
   "metadata": {},
   "outputs": [
    {
     "name": "stdout",
     "output_type": "stream",
     "text": [
      "ParameterReshaper: 220 parameters detected for optimization.\n"
     ]
    }
   ],
   "source": [
    "param_reshaper = ParameterReshaper(params)\n",
    "num_params = param_reshaper.total_params # get from the weights and biases of the NN"
   ]
  },
  {
   "cell_type": "code",
   "execution_count": 59,
   "id": "d0d4175e-6c4b-4646-890f-61dbea1f95a7",
   "metadata": {},
   "outputs": [
    {
     "name": "stdout",
     "output_type": "stream",
     "text": [
      "EvoParams(opt_params=OptParams(lrate_init=0.05, lrate_decay=1.0, lrate_limit=0.001, momentum=None, beta_1=0.99, beta_2=0.999, beta_3=None, eps=1e-08, max_speed=None), sigma_init=0.03, sigma_decay=1.0, sigma_limit=0.01, init_min=0.0, init_max=0.0, clip_min=-3.4028235e+38, clip_max=3.4028235e+38)\n",
      "candidate solution shape (100, 220)\n",
      "candidate solutions [[ 0.00152383 -0.00245873 -0.01534315 ... -0.00033993 -0.00899743\n",
      "   0.04514204]\n",
      " [ 0.02709437  0.01101336  0.00762423 ... -0.02867637 -0.0827048\n",
      "   0.00018243]\n",
      " [ 0.03824715 -0.0268039   0.00814435 ... -0.06754368  0.01677538\n",
      "  -0.0185631 ]\n",
      " ...\n",
      " [-0.03424363  0.02744813  0.04431093 ...  0.00107031 -0.02235126\n",
      "  -0.02651232]\n",
      " [ 0.03676725  0.01331418  0.01328681 ...  0.01505064  0.01554712\n",
      "   0.01992323]\n",
      " [ 0.01600746  0.01080545  0.00724279 ... -0.00690854  0.04143371\n",
      "  -0.00817915]]\n",
      "net_params:  {'params': {'layers_0': {'bias': Array([[ 0.00152383, -0.00245873, -0.01534315, ..., -0.03308293,\n",
      "         0.00207618,  0.0240575 ],\n",
      "       [ 0.02709437,  0.01101336,  0.00762423, ...,  0.02721216,\n",
      "         0.00319093, -0.00703812],\n",
      "       [ 0.03824715, -0.0268039 ,  0.00814435, ...,  0.04826685,\n",
      "         0.03455919, -0.00596207],\n",
      "       ...,\n",
      "       [-0.03424363,  0.02744813,  0.04431093, ..., -0.01523512,\n",
      "        -0.05447965,  0.00375247],\n",
      "       [ 0.03676725,  0.01331418,  0.01328681, ...,  0.01300108,\n",
      "        -0.01738783, -0.01090603],\n",
      "       [ 0.01600746,  0.01080545,  0.00724279, ..., -0.00474535,\n",
      "        -0.03192728, -0.0075483 ]], dtype=float32), 'kernel': Array([[[ 3.05001307e-02, -1.41396653e-02,  1.69666559e-02, ...,\n",
      "         -4.45063412e-02,  3.34364106e-03, -4.58255969e-02],\n",
      "        [-2.43553184e-02, -3.66501883e-03,  2.32927743e-02, ...,\n",
      "          2.26743408e-02,  1.91799793e-02, -1.12680737e-02],\n",
      "        [-4.62482274e-02, -2.33120769e-02,  5.73587082e-02, ...,\n",
      "          9.99641698e-03,  9.81528079e-04,  1.80894937e-02],\n",
      "        ...,\n",
      "        [-6.93002641e-02,  9.71120689e-03, -3.56231295e-02, ...,\n",
      "          1.84598211e-02, -5.86147383e-02, -8.35830159e-03],\n",
      "        [ 3.46419998e-02, -8.93932022e-03, -3.51495706e-02, ...,\n",
      "          1.62890162e-02,  7.26589048e-03, -9.84672830e-03],\n",
      "        [ 1.58769060e-02,  1.77931767e-02, -2.02830527e-02, ...,\n",
      "         -3.39926133e-04, -8.99743196e-03,  4.51420397e-02]],\n",
      "\n",
      "       [[-3.66196744e-02,  1.22664049e-02,  3.25821228e-02, ...,\n",
      "         -2.43005175e-02, -1.05318306e-02, -1.51907257e-03],\n",
      "        [-5.22086024e-02,  9.35973302e-02, -1.75764486e-02, ...,\n",
      "         -6.92768916e-02, -3.21080070e-03, -3.42971273e-03],\n",
      "        [-1.64475869e-02, -5.01427576e-02, -5.68059040e-03, ...,\n",
      "         -4.73778881e-02,  5.32101560e-03,  5.09619527e-02],\n",
      "        ...,\n",
      "        [ 5.75414412e-02,  5.53264804e-02,  1.13519281e-02, ...,\n",
      "          1.30098360e-02,  3.73080596e-02, -3.08195036e-02],\n",
      "        [-5.70523413e-03,  3.61250229e-02,  5.42019606e-02, ...,\n",
      "         -3.45376804e-02,  3.40607651e-02, -2.72222478e-02],\n",
      "        [ 1.75519269e-02, -1.96503592e-03,  4.16366942e-02, ...,\n",
      "         -2.86763702e-02, -8.27047974e-02,  1.82428907e-04]],\n",
      "\n",
      "       [[-1.63747258e-02, -1.98194105e-02, -1.14649795e-02, ...,\n",
      "          9.46254469e-03,  8.26086500e-04, -3.27709727e-02],\n",
      "        [ 2.25969907e-02, -1.29991071e-02,  5.31645399e-03, ...,\n",
      "          8.70139524e-03, -2.98151746e-02,  1.36462515e-02],\n",
      "        [-5.13531938e-02,  6.57684822e-03,  1.44567182e-02, ...,\n",
      "          1.22395707e-02, -4.36651660e-03,  5.70610575e-02],\n",
      "        ...,\n",
      "        [-6.80488646e-02,  4.23276573e-02, -3.42023969e-02, ...,\n",
      "         -8.98498949e-03, -1.69100463e-02, -4.97450959e-03],\n",
      "        [-1.91515777e-02,  4.35646251e-02, -1.08511103e-02, ...,\n",
      "         -9.56240389e-03, -1.04233520e-02, -5.99632459e-03],\n",
      "        [ 5.76441698e-02, -5.31118363e-02,  1.68761553e-03, ...,\n",
      "         -6.75436780e-02,  1.67753752e-02, -1.85631048e-02]],\n",
      "\n",
      "       ...,\n",
      "\n",
      "       [[-9.95290373e-03,  1.35582527e-02, -1.50865456e-02, ...,\n",
      "         -1.60542503e-02,  5.53041771e-02, -1.88599396e-02],\n",
      "        [ 8.56534112e-03,  1.94497616e-03, -2.32579634e-02, ...,\n",
      "         -6.97167683e-03, -3.52432430e-02,  1.37624750e-02],\n",
      "        [ 2.86653861e-02,  4.17258916e-03, -2.38277726e-02, ...,\n",
      "          6.51225168e-03, -1.39534147e-02,  2.58176010e-02],\n",
      "        ...,\n",
      "        [-2.80426536e-02,  1.78813618e-02,  1.59676969e-02, ...,\n",
      "         -3.99715528e-02, -2.75592646e-03, -1.54272420e-02],\n",
      "        [-1.24216191e-02,  2.12781373e-02, -5.44473715e-03, ...,\n",
      "         -1.75236410e-03,  3.93965542e-02, -3.18094576e-03],\n",
      "        [-1.13383969e-02,  4.35412303e-02, -1.12201478e-02, ...,\n",
      "          1.07031420e-03, -2.23512594e-02, -2.65123229e-02]],\n",
      "\n",
      "       [[-5.83616048e-02, -3.96945374e-03, -3.57586481e-02, ...,\n",
      "          4.82597128e-02, -1.99834127e-02, -1.45153916e-02],\n",
      "        [-7.41074886e-03,  1.76358167e-02,  5.97378537e-02, ...,\n",
      "          2.95464545e-02, -2.41933148e-02,  2.97450293e-02],\n",
      "        [ 3.40042524e-02, -4.55594203e-03,  1.06791845e-02, ...,\n",
      "         -2.02733129e-02, -1.20051298e-02,  1.58601869e-02],\n",
      "        ...,\n",
      "        [-3.60910445e-02,  1.20382598e-02,  3.18549871e-02, ...,\n",
      "          2.70512979e-02,  2.25605071e-03, -8.59584566e-03],\n",
      "        [-1.56686676e-03,  4.45744880e-02, -6.29669055e-03, ...,\n",
      "          2.93939766e-02, -1.02656800e-02, -1.69381977e-03],\n",
      "        [ 1.19662778e-02,  1.82154849e-02,  1.59000773e-02, ...,\n",
      "          1.50506413e-02,  1.55471219e-02,  1.99232306e-02]],\n",
      "\n",
      "       [[ 1.83811225e-02, -1.97746512e-03,  4.50809374e-02, ...,\n",
      "         -3.64892967e-02,  4.99397404e-02,  2.09177639e-02],\n",
      "        [ 1.94133315e-02,  2.21129339e-05, -1.57628581e-02, ...,\n",
      "          2.09212974e-02, -1.39375171e-02,  3.74132879e-02],\n",
      "        [ 2.02063844e-02,  2.44070664e-02,  1.35338632e-02, ...,\n",
      "         -1.25256728e-03,  3.16505171e-02, -5.17733907e-03],\n",
      "        ...,\n",
      "        [ 6.88781682e-03,  2.85205431e-03, -9.02408827e-03, ...,\n",
      "          1.99170392e-02, -5.01118042e-03, -2.33929269e-02],\n",
      "        [-5.95275424e-02, -1.83235723e-04,  1.84436527e-03, ...,\n",
      "          2.00192556e-02,  2.25169007e-02,  6.21566223e-03],\n",
      "        [-4.05672863e-02, -1.84631664e-02, -1.25811584e-02, ...,\n",
      "         -6.90854108e-03,  4.14337143e-02, -8.17915425e-03]]],      dtype=float32)}}}\n"
     ]
    }
   ],
   "source": [
    "# instantiate the search strategy\n",
    "\n",
    "rng, rng_init = jax.random.split(rng, 2)\n",
    "strategy  = OpenES(popsize = 100, num_dims = num_params)\n",
    "# still parameters that can be finetuned, like optimisation method, lrate, lrate decay, ...\n",
    "es_params = strategy.default_params\n",
    "# # replacing certain parameters:\n",
    "# es_params = es_params.replace(init_min = -3, init_max = 3)\n",
    "print(es_params)\n",
    "\n",
    "state = strategy.initialize(rng_init, es_params)\n",
    "\n",
    "candidate, state = strategy.ask(rng, state)\n",
    "print('candidate solution shape', candidate.shape)\n",
    "print('candidate solutions', candidate)\n",
    "\n",
    "net_params = param_reshaper.reshape(candidate)\n",
    "print('net_params: ', net_params)\n"
   ]
  },
  {
   "cell_type": "code",
   "execution_count": null,
   "id": "f393c398-6160-41c5-b3f0-e7c9adab0b38",
   "metadata": {},
   "outputs": [],
   "source": [
    "num_generations = 2500\n",
    "# print_every_k_gens = 100 --> replace by wandb monitoring\n",
    "# Run ask-eval-tell loop - NOTE: By default minimization!\n",
    "for gen in range(num_generations):\n",
    "    rng, rng_gen, rng_eval = jax.random.split(rng, 3)\n",
    "    x, state = strategy.ask(rng_gen, state, es_params)\n",
    "    fitness = ...  # Your population evaluation fct \n",
    "    state = strategy.tell(x, fitness, state, es_params)\n",
    "\n",
    "# Get best overall population member & its fitness\n",
    "state.best_member, state.best_fitness"
   ]
  },
  {
   "cell_type": "code",
   "execution_count": 3,
   "id": "27606748-d6e3-491f-b861-3c80bf7e6bcf",
   "metadata": {},
   "outputs": [],
   "source": [
    "try:\n",
    "    import brb\n",
    "except ImportError:\n",
    "    !{sys.executable} -m pip install git+https://github.com/Co-Evolve/brb@new-framework\n",
    "\n",
    "try:\n",
    "    import wandb\n",
    "except:\n",
    "    !{sys.executable} -m pip install wandb"
   ]
  },
  {
   "cell_type": "code",
   "execution_count": null,
   "id": "39a7bb46-6ae5-46f4-a7f8-f8f8808cf2b2",
   "metadata": {},
   "outputs": [],
   "source": []
  },
  {
   "cell_type": "code",
   "execution_count": null,
   "id": "f51b1c8e-ab80-4016-93e7-f25c00a153ce",
   "metadata": {},
   "outputs": [],
   "source": []
  },
  {
   "cell_type": "code",
   "execution_count": null,
   "id": "18da5599-272c-4641-8f08-d7315af1eae9",
   "metadata": {},
   "outputs": [],
   "source": []
  },
  {
   "cell_type": "code",
   "execution_count": null,
   "id": "84277a81-eb12-46ec-a1da-de676b01617f",
   "metadata": {},
   "outputs": [],
   "source": []
  },
  {
   "cell_type": "code",
   "execution_count": null,
   "id": "8011049b-b0bd-464f-852b-c20a845f3571",
   "metadata": {},
   "outputs": [],
   "source": []
  },
  {
   "cell_type": "code",
   "execution_count": null,
   "id": "28db094f-0383-4471-8460-dc7a098833da",
   "metadata": {},
   "outputs": [],
   "source": []
  },
  {
   "cell_type": "code",
   "execution_count": null,
   "id": "43168ddc-2a39-47b8-abe8-5c4aac9b3baa",
   "metadata": {},
   "outputs": [],
   "source": []
  },
  {
   "cell_type": "code",
   "execution_count": null,
   "id": "a780e42d-983f-445a-a93e-2ec52edb541c",
   "metadata": {},
   "outputs": [],
   "source": []
  },
  {
   "cell_type": "code",
   "execution_count": null,
   "id": "a7e90227-a135-44a9-8e4e-667f25cfaf41",
   "metadata": {},
   "outputs": [],
   "source": []
  },
  {
   "cell_type": "markdown",
   "id": "82bd0750-4000-4d13-93ec-4c62ec025754",
   "metadata": {},
   "source": [
    "## Checking accesibility GPU"
   ]
  },
  {
   "cell_type": "code",
   "execution_count": 4,
   "id": "804bc266-40fe-4846-9569-d58bc5d7ea12",
   "metadata": {},
   "outputs": [
    {
     "name": "stdout",
     "output_type": "stream",
     "text": [
      "Sat Jan 27 19:07:33 2024       \n",
      "+---------------------------------------------------------------------------------------+\n",
      "| NVIDIA-SMI 535.129.03             Driver Version: 535.129.03   CUDA Version: 12.2     |\n",
      "|-----------------------------------------+----------------------+----------------------+\n",
      "| GPU  Name                 Persistence-M | Bus-Id        Disp.A | Volatile Uncorr. ECC |\n",
      "| Fan  Temp   Perf          Pwr:Usage/Cap |         Memory-Usage | GPU-Util  Compute M. |\n",
      "|                                         |                      |               MIG M. |\n",
      "|=========================================+======================+======================|\n",
      "|   0  NVIDIA A2                      On  | 00000000:3B:00.0 Off |                    0 |\n",
      "|  0%   41C    P8               8W /  60W |      4MiB / 15356MiB |      0%      Default |\n",
      "|                                         |                      |                  N/A |\n",
      "+-----------------------------------------+----------------------+----------------------+\n",
      "                                                                                         \n",
      "+---------------------------------------------------------------------------------------+\n",
      "| Processes:                                                                            |\n",
      "|  GPU   GI   CI        PID   Type   Process name                            GPU Memory |\n",
      "|        ID   ID                                                             Usage      |\n",
      "|=======================================================================================|\n",
      "|  No running processes found                                                           |\n",
      "+---------------------------------------------------------------------------------------+\n",
      "Setting environment variable to use GPU rendering:\n",
      "env: MUJOCO_GL=egl\n"
     ]
    },
    {
     "name": "stderr",
     "output_type": "stream",
     "text": [
      "WARNING:root:Failed to initialize GPU. Everything will run on the cpu.\n"
     ]
    },
    {
     "name": "stdout",
     "output_type": "stream",
     "text": [
      "Checking that the mujoco installation succeeded:\n",
      "MuJoCo installation successful.\n"
     ]
    }
   ],
   "source": [
    "import os\n",
    "import subprocess\n",
    "import logging\n",
    "\n",
    "try:\n",
    "    if subprocess.run('nvidia-smi').returncode:\n",
    "        raise RuntimeError(\n",
    "                'Cannot communicate with GPU. '\n",
    "                'Make sure you are using a GPU Colab runtime. '\n",
    "                'Go to the Runtime menu and select Choose runtime type.'\n",
    "                )\n",
    "\n",
    "    # Add an ICD config so that glvnd can pick up the Nvidia EGL driver.\n",
    "    # This is usually installed as part of an Nvidia driver package, but the Colab\n",
    "    # kernel doesn't install its driver via APT, and as a result the ICD is missing.\n",
    "    # (https://github.com/NVIDIA/libglvnd/blob/master/src/EGL/icd_enumeration.md)\n",
    "    NVIDIA_ICD_CONFIG_PATH = '/usr/share/glvnd/egl_vendor.d/10_nvidia.json'\n",
    "    if not os.path.exists(NVIDIA_ICD_CONFIG_PATH):\n",
    "        with open(NVIDIA_ICD_CONFIG_PATH, 'w') as f:\n",
    "            f.write(\n",
    "                    \"\"\"{\n",
    "                            \"file_format_version\" : \"1.0.0\",\n",
    "                            \"ICD\" : {\n",
    "                                \"library_path\" : \"libEGL_nvidia.so.0\"\n",
    "                            }\n",
    "                        }\n",
    "                        \"\"\"\n",
    "                    )\n",
    "\n",
    "    # Configure MuJoCo to use the EGL rendering backend (requires GPU)\n",
    "    print('Setting environment variable to use GPU rendering:')\n",
    "    %env MUJOCO_GL=egl\n",
    "\n",
    "    # Check if jax finds the GPU\n",
    "    import jax\n",
    "\n",
    "    print(jax.devices('gpu'))\n",
    "except Exception:\n",
    "    logging.warning(\"Failed to initialize GPU. Everything will run on the cpu.\")\n",
    "\n",
    "try:\n",
    "    print('Checking that the mujoco installation succeeded:')\n",
    "    import mujoco\n",
    "\n",
    "    mujoco.MjModel.from_xml_string('<mujoco/>')\n",
    "except Exception as e:\n",
    "    raise e from RuntimeError(\n",
    "            'Something went wrong during installation. Check the shell output above '\n",
    "            'for more information.\\n'\n",
    "            'If using a hosted Colab runtime, make sure you enable GPU acceleration '\n",
    "            'by going to the Runtime menu and selecting \"Choose runtime type\".'\n",
    "            )\n",
    "\n",
    "print('MuJoCo installation successful.')"
   ]
  },
  {
   "cell_type": "markdown",
   "id": "c53891bf-e7d6-418d-a974-2e2b2020bcc3",
   "metadata": {},
   "source": [
    "## Weights and Biases trial"
   ]
  },
  {
   "cell_type": "code",
   "execution_count": 5,
   "id": "de59293d-86b7-4987-828d-4383cd775b41",
   "metadata": {},
   "outputs": [
    {
     "name": "stderr",
     "output_type": "stream",
     "text": [
      "ERROR:wandb.jupyter:Failed to detect the name of this notebook, you can set it manually with the WANDB_NOTEBOOK_NAME environment variable to enable code saving.\n",
      "\u001b[34m\u001b[1mwandb\u001b[0m: Currently logged in as: \u001b[33mmatthias-pex\u001b[0m. Use \u001b[1m`wandb login --relogin`\u001b[0m to force relogin\n"
     ]
    },
    {
     "data": {
      "text/html": [
       "Tracking run with wandb version 0.16.2"
      ],
      "text/plain": [
       "<IPython.core.display.HTML object>"
      ]
     },
     "metadata": {},
     "output_type": "display_data"
    },
    {
     "data": {
      "text/html": [
       "Run data is saved locally in <code>/kyukon/home/gent/457/vsc45787/bsc/Centralized controller/wandb/run-20240127_190740-nvtjpovh</code>"
      ],
      "text/plain": [
       "<IPython.core.display.HTML object>"
      ]
     },
     "metadata": {},
     "output_type": "display_data"
    },
    {
     "data": {
      "text/html": [
       "Syncing run <strong><a href='https://wandb.ai/matthias-pex/my-awesome-project/runs/nvtjpovh' target=\"_blank\">divine-dream-3</a></strong> to <a href='https://wandb.ai/matthias-pex/my-awesome-project' target=\"_blank\">Weights & Biases</a> (<a href='https://wandb.me/run' target=\"_blank\">docs</a>)<br/>"
      ],
      "text/plain": [
       "<IPython.core.display.HTML object>"
      ]
     },
     "metadata": {},
     "output_type": "display_data"
    },
    {
     "data": {
      "text/html": [
       " View project at <a href='https://wandb.ai/matthias-pex/my-awesome-project' target=\"_blank\">https://wandb.ai/matthias-pex/my-awesome-project</a>"
      ],
      "text/plain": [
       "<IPython.core.display.HTML object>"
      ]
     },
     "metadata": {},
     "output_type": "display_data"
    },
    {
     "data": {
      "text/html": [
       " View run at <a href='https://wandb.ai/matthias-pex/my-awesome-project/runs/nvtjpovh' target=\"_blank\">https://wandb.ai/matthias-pex/my-awesome-project/runs/nvtjpovh</a>"
      ],
      "text/plain": [
       "<IPython.core.display.HTML object>"
      ]
     },
     "metadata": {},
     "output_type": "display_data"
    },
    {
     "name": "stderr",
     "output_type": "stream",
     "text": [
      "wandb: WARNING Source type is set to 'repo' but some required information is missing from the environment. A job will not be created from this run. See https://docs.wandb.ai/guides/launch/create-job\n"
     ]
    },
    {
     "data": {
      "application/vnd.jupyter.widget-view+json": {
       "model_id": "",
       "version_major": 2,
       "version_minor": 0
      },
      "text/plain": [
       "VBox(children=(Label(value='0.005 MB of 0.013 MB uploaded\\r'), FloatProgress(value=0.3774859287054409, max=1.0…"
      ]
     },
     "metadata": {},
     "output_type": "display_data"
    },
    {
     "data": {
      "text/html": [
       "<style>\n",
       "    table.wandb td:nth-child(1) { padding: 0 10px; text-align: left ; width: auto;} td:nth-child(2) {text-align: left ; width: 100%}\n",
       "    .wandb-row { display: flex; flex-direction: row; flex-wrap: wrap; justify-content: flex-start; width: 100% }\n",
       "    .wandb-col { display: flex; flex-direction: column; flex-basis: 100%; flex: 1; padding: 10px; }\n",
       "    </style>\n",
       "<div class=\"wandb-row\"><div class=\"wandb-col\"><h3>Run history:</h3><br/><table class=\"wandb\"><tr><td>acc</td><td>▁▄▇█▆▆▇█</td></tr><tr><td>loss</td><td>▇█▄▃▄▂▁▁</td></tr></table><br/></div><div class=\"wandb-col\"><h3>Run summary:</h3><br/><table class=\"wandb\"><tr><td>acc</td><td>0.79047</td></tr><tr><td>loss</td><td>0.18106</td></tr></table><br/></div></div>"
      ],
      "text/plain": [
       "<IPython.core.display.HTML object>"
      ]
     },
     "metadata": {},
     "output_type": "display_data"
    },
    {
     "data": {
      "text/html": [
       " View run <strong style=\"color:#cdcd00\">divine-dream-3</strong> at: <a href='https://wandb.ai/matthias-pex/my-awesome-project/runs/nvtjpovh' target=\"_blank\">https://wandb.ai/matthias-pex/my-awesome-project/runs/nvtjpovh</a><br/>Synced 5 W&B file(s), 0 media file(s), 0 artifact file(s) and 0 other file(s)"
      ],
      "text/plain": [
       "<IPython.core.display.HTML object>"
      ]
     },
     "metadata": {},
     "output_type": "display_data"
    },
    {
     "data": {
      "text/html": [
       "Find logs at: <code>./wandb/run-20240127_190740-nvtjpovh/logs</code>"
      ],
      "text/plain": [
       "<IPython.core.display.HTML object>"
      ]
     },
     "metadata": {},
     "output_type": "display_data"
    }
   ],
   "source": [
    "import wandb\n",
    "import random\n",
    "\n",
    "# start a new wandb run to track this script\n",
    "wandb.init(\n",
    "    # set the wandb project where this run will be logged\n",
    "    project = \"my-awesome-project\",\n",
    "\n",
    "    # track hyperparameters and run metadata\n",
    "    config={\n",
    "    \"learning_rate\": 0.02,\n",
    "    \"architecture\": \"CNN\",\n",
    "    \"dataset\": \"CIFAR-100\",\n",
    "    \"epochs\": 10,\n",
    "    }\n",
    ")\n",
    "\n",
    "# simulate training\n",
    "epochs = 10\n",
    "offset = random.random()/5\n",
    "for epoch in range(2, epochs):\n",
    "    acc = 1 - 2 ** -epoch - random.random() / epoch - offset\n",
    "    loss = 2** -epoch + random.random() / epoch + offset\n",
    "\n",
    "    # log memtrics to wandb\n",
    "    wandb.log({\"acc\": acc, \"loss\":loss})\n",
    "\n",
    "# [optional] finish the wandb run, necessary in notebooks\n",
    "wandb.finish()"
   ]
  },
  {
   "cell_type": "code",
   "execution_count": null,
   "id": "3b004a2f-0871-410a-ba5a-663b18fdf1de",
   "metadata": {},
   "outputs": [],
   "source": []
  }
 ],
 "metadata": {
  "kernelspec": {
   "display_name": "brb",
   "language": "python",
   "name": "brb"
  },
  "language_info": {
   "codemirror_mode": {
    "name": "ipython",
    "version": 3
   },
   "file_extension": ".py",
   "mimetype": "text/x-python",
   "name": "python",
   "nbconvert_exporter": "python",
   "pygments_lexer": "ipython3",
   "version": "3.11.3"
  }
 },
 "nbformat": 4,
 "nbformat_minor": 5
}
